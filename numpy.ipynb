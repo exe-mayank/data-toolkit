{
  "metadata": {
    "kernelspec": {
      "name": "python",
      "display_name": "Python (Pyodide)",
      "language": "python"
    },
    "language_info": {
      "codemirror_mode": {
        "name": "python",
        "version": 3
      },
      "file_extension": ".py",
      "mimetype": "text/x-python",
      "name": "python",
      "nbconvert_exporter": "python",
      "pygments_lexer": "ipython3",
      "version": "3.8"
    }
  },
  "nbformat_minor": 4,
  "nbformat": 4,
  "cells": [
    {
      "cell_type": "markdown",
      "source": "#1. Explain the purpose and advantages of NumPy in scientific computing and data analysis. How does it enhance Python's capabilities for numerical operations?\n\nNumpy is a general-purpose array-processing package. It provides a high-performance multidimensional array object, and tools for working with these arrays. It is the fundamental package for scientific computing with Python.\n\nBesides its obvious scientific uses, Numpy can also be used as an efficient multi-dimensional container of generic data.\n\nNumPy is widely used in data analysis tasks, including data cleaning, manipulation, and transformation, due to its efficient array operations and mathematical functionalities.\n\nApplications in physics, biology, engineering, and finance leverage NumPy for simulations, solving differential equations, numerical integration, and more.\n\nNumPy forms the backbone of many machine learning algorithms by handling data representation and mathematical computations efficiently, supporting tasks like feature extraction, data normalization, and model evaluation.\n\nOne of the most basic building blocks in the Numpy toolkit is the Numpy N-dimensional array (ndarray), which is used for arrays of between 0 and 32 dimensions (0 meaning a “scalar”).\n\nFor example,\n\nmatrix 1dis a 1d array, aka a vector, of shape (3,), andmatrix 2dis a 2d array of shape (2, 3).\n\nWhile arrays are similar to standard Python lists (or nested lists) in some ways, arrays are much faster for lots of array operations.\n\nHowever, arrays generally have to contain objects of the same type in order to benefit from this increased performance, and usually that means numbers.\n\nIn contrast, standard Python lists are very versatile in that each list item can be pretty much any Python object (and different to the other elements), but this versatility comes at the cost of drastically reduced speed.",
      "metadata": {}
    },
    {
      "cell_type": "markdown",
      "source": "2. Compare and contrast np.mean() and np.average() functions in NumPy. When would you use one over the other?\n\nIn the Numpy library, there are two functions np.mean() and np.average() are present. Both are actually doing nearly the same job of calculating mean/average. The difference comes when we are calculating the weighted average. If that is the case then we have to use np.average(). With np.average function we can calculate both arithmetic mean and weighted average.\n\nDifference between np.average() and np.mean()\n\nnp.mean()\n\nUse to calculate arithmetic mean\nAll elements have equal weight\nWeight cannot be passed trough the parameter of the given function.\nSyntax :\n\nnp.mean(arr, axis = None)\n\nwhere ‘arr’ is the given array.\n\nnp.average()\n\nUse to calculate the arithmetic mean as well as weighted average.\nAll elements may or may not have equal weight.\nWeight can be passed through the parameter of the given function.\nSyntax :\n\nnumpy.average(arr, axis = None, weights = None)\n\nWhere ‘arr’ is the given array\n",
      "metadata": {}
    },
    {
      "cell_type": "markdown",
      "source": "3. Describe the methods for reversing a NumPy array along different axes. Provide examples for 1D and 2D arrays.\n\n   \nReversing a NumPy array can be done in several ways, depending on the axis along which you want to reverse. The following are common methods to reverse an array in NumPy:\n\nMethod 1: Using Slicing ([::-1])\nThis is the simplest and most common way to reverse a NumPy array. You can apply this slicing technique to reverse along any axis.\n\n",
      "metadata": {}
    },
    {
      "cell_type": "code",
      "source": "import numpy as np\n\n# 1D array\narr_1d = np.array([1, 2, 3, 4, 5])\nreversed_1d = arr_1d[::-1]\n\nprint(\"Original array:\", arr_1d)\nprint(\"Reversed array:\", reversed_1d)\n",
      "metadata": {
        "trusted": true
      },
      "outputs": [
        {
          "name": "stdout",
          "text": "Original array: [1 2 3 4 5]\nReversed array: [5 4 3 2 1]\n",
          "output_type": "stream"
        }
      ],
      "execution_count": 1
    },
    {
      "cell_type": "code",
      "source": "# 2D array\narr_2d = np.array([[1, 2, 3], [4, 5, 6], [7, 8, 9]])\nreversed_2d_rows = arr_2d[::-1, :]\n\nprint(\"Original array:\\n\", arr_2d)\nprint(\"Reversed rows:\\n\", reversed_2d_rows)\n",
      "metadata": {
        "trusted": true
      },
      "outputs": [
        {
          "name": "stdout",
          "text": "Original array:\n [[1 2 3]\n [4 5 6]\n [7 8 9]]\nReversed rows:\n [[7 8 9]\n [4 5 6]\n [1 2 3]]\n",
          "output_type": "stream"
        }
      ],
      "execution_count": 2
    },
    {
      "cell_type": "markdown",
      "source": "Method 2: Using np.flip()\nNumPy provides the np.flip() function, which allows you to reverse an array along a specific axis. This method is more explicit than slicing.",
      "metadata": {}
    },
    {
      "cell_type": "code",
      "source": "reversed_1d_flip = np.flip(arr_1d)\n\nprint(\"Reversed array using np.flip():\", reversed_1d_flip)\n",
      "metadata": {
        "trusted": true
      },
      "outputs": [
        {
          "name": "stdout",
          "text": "Reversed array using np.flip(): [5 4 3 2 1]\n",
          "output_type": "stream"
        }
      ],
      "execution_count": 3
    },
    {
      "cell_type": "markdown",
      "source": "Method 3: Using np.fliplr() and np.flipud()\nNumPy has special functions for reversing along specific axes in 2D arrays.\n\nnp.fliplr(): Flip an array horizontally (left to right).\nnp.flipud(): Flip an array vertically (up to down)",
      "metadata": {}
    },
    {
      "cell_type": "code",
      "source": "reversed_horizontally = np.fliplr(arr_2d)\n\nprint(\"Reversed horizontally:\\n\", reversed_horizontally)\n",
      "metadata": {
        "trusted": true
      },
      "outputs": [
        {
          "name": "stdout",
          "text": "Reversed horizontally:\n [[3 2 1]\n [6 5 4]\n [9 8 7]]\n",
          "output_type": "stream"
        }
      ],
      "execution_count": 4
    },
    {
      "cell_type": "markdown",
      "source": "4. How can you determine the data type of elements in a NumPy array? Discuss the importance of data types in memory management and performance\n\nIn NumPy, we can determine the data type of the elements stored in an array using the dtype attribute. Each array in NumPy is homogenous, meaning all elements are of the same type, and this type is stored in the dtype attribute of the array object.\n\nFor example:",
      "metadata": {}
    },
    {
      "cell_type": "code",
      "source": "import numpy as np\narr = np.array([1, 2, 3])\nprint(arr.dtype)\n",
      "metadata": {
        "trusted": true
      },
      "outputs": [
        {
          "name": "stdout",
          "text": "int32\n",
          "output_type": "stream"
        }
      ],
      "execution_count": 5
    },
    {
      "cell_type": "markdown",
      "source": "Importance of Data Types in Memory Management and Performance\n1. Memory Management\nThe data type of an array directly impacts how much memory is used to store the elements. Different data types allocate different amounts of memory for each element:\n\nInteger types: Typically, int8 uses 1 byte per element, int16 uses 2 bytes, and int64 uses 8 bytes.\nFloating-point types: float32 uses 4 bytes, while float64 uses 8 bytes.\nChoosing the right data type can lead to significant memory savings, especially when dealing with large datasets. For example, if you only need to store small integers, using int8 can dramatically reduce the memory footprint compared to int64, but this comes at the cost of a reduced range of values.\n\nThis is particularly important in applications that deal with large-scale data, such as machine learning, image processing, or big data analytics. Optimizing data types can allow you to process more data in memory at once, reduce storage costs, and minimize the need for memory swaps or out-of-memory errors.\n\n2. Performance\nData types also affect the performance of computations. Smaller data types, like int8 or float32, are processed faster by the CPU because they require less memory bandwidth and allow more data to fit into the CPU cache. This reduces the time spent on memory access and can speed up operations, especially in repetitive or large-scale computations.\n\nSmaller data types can lead to faster computations because they reduce the amount of data processed by the CPU and make better use of memory bandwidth and cache.",
      "metadata": {}
    },
    {
      "cell_type": "markdown",
      "source": "5. Define ndarrays in NumPy and explain their key features. How do they differ from standard Python lists?\n\nAn ndarray (N-dimensional array) is the core data structure of the NumPy library. It is a powerful multi-dimensional container for homogeneous data (all elements of the array are of the same type). NumPy arrays can have any number of dimensions (1D, 2D, 3D, etc.) and are used to efficiently store and perform mathematical operations on large datasets.\n\nKey Features of NumPy ndarrays\nHomogeneous Data Type: All elements in an ndarray must have the same data type (e.g., integers, floats, etc.). This contrasts with Python lists, which can hold objects of different types.\n\nFixed Size: Once a NumPy array is created, its size is fixed. This means you cannot append or remove elements like you can with a Python list. To change the size, you need to create a new array.\n\nN-Dimensional: Unlike Python lists, which are typically 1D, NumPy arrays can have any number of dimensions, making them suitable for representing matrices, tensors, and other complex data structures.\n\nEfficient Memory Usage: ndarrays are memory-efficient because they store elements in contiguous memory blocks. This minimizes overhead compared to Python lists, which are essentially arrays of pointers to objects stored in various locations in memory.\n\nVectorized Operations: NumPy supports vectorized operations, allowing mathematical operations to be applied directly to entire arrays without the need for explicit loops. This makes operations much faster and more concise.\n\nData Type (dtype): Each ndarray has a dtype that defines the type of elements stored (e.g., int32, float64). This helps in precise control over memory consumption and performance.\n\n\nDifferences Between ndarrays and Python Lists\nData Type Homogeneity:\n\nPython Lists: Can store elements of different types (e.g., integers, floats, strings).\nNumPy ndarrays: All elements must be of the same type, which ensures efficient memory storage and processing.\nPerformance:\n\nPython Lists: Iterating and performing mathematical operations on Python lists is slower due to the overhead of dynamic typing and storage of objects.\nNumPy Arrays: Operations are faster because ndarrays are stored in contiguous memory blocks, enabling efficient access and computation via vectorized operations.\nMemory Usage:\n\nPython Lists: Use more memory since they store references to objects rather than the objects themselves.\nNumPy Arrays: Use less memory because the elements are stored directly in memory with a fixed type.\nDimensionality:\n\nPython Lists: Are typically 1D (though they can be nested to create multidimensional structures, but inefficiently).\nNumPy Arrays: Can be n-dimensional by design (e.g., 2D matrices, 3D tensors), making them more suitable for complex numerical computations.\nMathematical Operations:\n\nPython Lists: Do not natively support element-wise operations. You would need to loop through elements for such operations.\nNumPy Arrays: Support element-wise operations directly, making mathematical computations more efficient and concise.\nBroadcasting:\n\nPython Lists: Require explicit looping and resizing for operations on differently sized lists.\nNumPy Arrays: Can automatically \"broadcast\" arrays with different shapes for compatible element-wise operations.\nIndexing and Slicing:\n\nPython Lists: Support basic indexing and slicing but are limited in multi-dimensional use.\nNumPy Arrays: Offer more advanced and efficient slicing and indexing techniques, especially in higher dimensions.\n\n",
      "metadata": {}
    },
    {
      "cell_type": "markdown",
      "source": "6. Analyze the performance benefits of NumPy arrays over Python lists for large-scale numerical operations.\n:\n1. Memory Efficiency and Contiguous Storage\nPython Lists:\n\nPython lists are arrays of pointers, each pointing to a memory location where an object is stored. Each element in the list can be of a different type and size, which introduces memory overhead due to the need for references (pointers) and dynamic typing.\nNumPy Arrays:\n\nNumPy arrays store elements in contiguous blocks of memory. All elements are of the same type (dtype), and the array stores the data directly in memory. This makes memory access much faster because the data is stored in adjacent memory locations, and there is no need for pointers.\n\n2. Homogeneous Data Types\nPython Lists:\n\nPython lists can store elements of different data types (e.g., integers, strings, floats). The dynamic typing and object storage of each element introduce overhead because each operation must first check the data type and manage the conversion as needed.\nNumPy Arrays:\n\nNumPy arrays are strictly homogeneous, meaning all elements must be of the same type. This allows for optimized, low-level, and type-specific implementations of operations, avoiding the overhead of dynamic typing.\n\n3. Vectorized Operations\nPython Lists:\n\nPython lists do not natively support element-wise operations. To perform operations like addition or multiplication on the elements of a list, you must explicitly loop through the elements. This manual looping is slow due to Python's inherent overhead for interpreted loops.\nNumPy Arrays:\n\nNumPy arrays support vectorized operations, which allow mathematical operations to be applied directly to the entire array without needing explicit loops. This is done using optimized C-level code, which is much faster than Python’s native loops.\n\n4. Broadcasting\nPython Lists:\n\nWhen performing operations between two lists of different sizes or dimensions, you need to manually reshape or loop through the lists to ensure compatibility. This adds extra complexity and computational overhead.\nNumPy Arrays:\n\nNumPy arrays support broadcasting, which allows operations to be performed between arrays of different shapes and sizes without explicitly resizing or looping through them. Broadcasting automatically aligns the shapes of the arrays to make them compatible for element-wise operations.\n\n5. Multidimensional Capabilities\nPython Lists:\n\nPython lists can be nested to simulate multidimensional arrays (e.g., lists of lists). However, performing operations on multidimensional lists involves complex and inefficient manual loops, making it impractical for large-scale data.\nNumPy Arrays:\n\nNumPy natively supports multidimensional arrays (e.g., 2D matrices, 3D tensors) and provides highly optimized operations for these arrays, including slicing, reshaping, and mathematical operations across multiple dimensions.\n\n\n",
      "metadata": {}
    },
    {
      "cell_type": "markdown",
      "source": "7. Compare vstack() and hstack() functions in NumPy. Provide examples demonstrating their usage and output.\n\nComparison of vstack() and hstack() in NumPy\nThe vstack() and hstack() functions in NumPy are used for stacking arrays along different axes:\n\nvstack() (Vertical Stack): Stacks arrays vertically, i.e., row-wise. It adds arrays as new rows, and thus, the number of columns (width) must match.\nhstack() (Horizontal Stack): Stacks arrays horizontally, i.e., column-wise. It adds arrays as new columns, and thus, the number of rows (height) must match.\n1. vstack() (Vertical Stack)\nPurpose: Stacks arrays vertically (along rows).\nRequirements: Arrays must have the same number of columns (same width) to be vertically stacked.",
      "metadata": {}
    },
    {
      "cell_type": "code",
      "source": "import numpy as np\n\n# Creating two 1D arrays\narr1 = np.array([1, 2, 3])\narr2 = np.array([4, 5, 6])\n\n# Vertical stacking\nresult_vstack = np.vstack((arr1, arr2))\nprint(result_vstack)\n",
      "metadata": {
        "trusted": true
      },
      "outputs": [
        {
          "name": "stdout",
          "text": "[[1 2 3]\n [4 5 6]]\n",
          "output_type": "stream"
        }
      ],
      "execution_count": 6
    },
    {
      "cell_type": "code",
      "source": "#2. hstack() (Horizontal Stack)\n#Purpose: Stacks arrays horizontally (along columns).\n#Requirements: Arrays must have the same number of rows (same height) to be horizontally stacked.\n\n\n# Creating two 1D arrays\narr1 = np.array([1, 2, 3])\narr2 = np.array([4, 5, 6])\n\n# Horizontal stacking\nresult_hstack = np.hstack((arr1, arr2))\nprint(result_hstack)\n",
      "metadata": {
        "trusted": true
      },
      "outputs": [
        {
          "name": "stdout",
          "text": "[1 2 3 4 5 6]\n",
          "output_type": "stream"
        }
      ],
      "execution_count": 7
    },
    {
      "cell_type": "markdown",
      "source": "8. Explain the differences between fliplr() and flipud() methods in NumPy, including their effects on various array dimensions.\n\nDifferences Between fliplr() and flipud() in NumPy\nBoth fliplr() and flipud() are functions in NumPy used to reverse the order of elements in an array. However, they operate along different axes, which leads to different effects on the array structure.\n\n1. fliplr() (Flip Left to Right)\nPurpose: Flips the array horizontally by reversing the order of columns, i.e., it mirrors the array along the vertical axis.\nEffect: This function is only applicable to arrays with 2 or more dimensions. It reverses the order of columns while keeping the rows unchanged.\n",
      "metadata": {}
    },
    {
      "cell_type": "code",
      "source": "#Example with a 2D array:\n\nimport numpy as np\n\narr = np.array([[1, 2, 3],\n                [4, 5, 6]])\n\n# Flip the array left to right (horizontally)\nresult_fliplr = np.fliplr(arr)\nprint(result_fliplr)\n",
      "metadata": {
        "trusted": true
      },
      "outputs": [
        {
          "name": "stdout",
          "text": "[[3 2 1]\n [6 5 4]]\n",
          "output_type": "stream"
        }
      ],
      "execution_count": 9
    },
    {
      "cell_type": "code",
      "source": "#2. flipud() (Flip Up to Down)\n#Purpose: Flips the array vertically by reversing the order of rows, i.e., it mirrors the array along the horizontal axis.\n#Effect: It reverses the order of rows in the array while keeping the columns unchanged. Unlike fliplr(), this function works for both 1D and higher-dimensional arrays.\n\n#Example with a 3D array:\n#For higher-dimensional arrays, flipud() flips along the first axis (the row axis), leaving other axes untouched.\n\narr_3d = np.array([[[1, 2], [3, 4]], \n                   [[5, 6], [7, 8]]])\n\n# Flip the 3D array along the rows\nresult_flipud_3d = np.flipud(arr_3d)\nprint(result_flipud_3d)\n",
      "metadata": {
        "trusted": true
      },
      "outputs": [
        {
          "name": "stdout",
          "text": "[[[5 6]\n  [7 8]]\n\n [[1 2]\n  [3 4]]]\n",
          "output_type": "stream"
        }
      ],
      "execution_count": 10
    },
    {
      "cell_type": "markdown",
      "source": "9. Discuss the functionality of the array_split() method in NumPy. How does it handle uneven splits?\n\n\nThe array_split() method in NumPy is used to split an array into multiple sub-arrays. Unlike the split() function, which requires the number of splits to divide the array evenly, array_split() can handle uneven splits. This flexibility makes array_split() more versatile when dealing with arrays that may not be perfectly divisible by the number of splits.\n\nFunctionality\nPurpose: To split an array into sub-arrays. If the array cannot be split evenly, array_split() handles the remainder by distributing extra elements across some sub-arrays.\nParameters:\narray: The input array to be split.\nindices_or_sections: Either the number of equal parts to split the array into or a list of indices where the split should happen.\nReturn Value: A list of sub-arrays.\n\n\nHandling Uneven Splits\nWhen the array size is not evenly divisible by the number of splits, array_split() divides the elements as evenly as possible. It ensures that sub-arrays get as close as possible to equal size. The remaining elements are distributed such that the first few sub-arrays are slightly larger than the others.",
      "metadata": {}
    },
    {
      "cell_type": "code",
      "source": "#Example of Uneven Split:\n#Consider an array with 7 elements, and you want to split it into 3 parts.\nimport numpy as np\n\narr = np.array([1, 2, 3, 4, 5, 6, 7])\n\n# Split the array into 3 parts\nresult = np.array_split(arr, 3)\nprint(result)\n",
      "metadata": {
        "trusted": true
      },
      "outputs": [
        {
          "name": "stdout",
          "text": "[array([1, 2, 3]), array([4, 5]), array([6, 7])]\n",
          "output_type": "stream"
        }
      ],
      "execution_count": 11
    },
    {
      "cell_type": "markdown",
      "source": "10. Explain the concepts of vectorization and broadcasting in NumPy. How do they contribute to efficient array operations?\n\nThe concept of vectorized operations on NumPy allows the use of more optimal and pre-compiled functions and mathematical operations on NumPy array objects and data sequences. The Output and Operations will speed up when compared to simple non-vectorized operations.   ",
      "metadata": {}
    },
    {
      "cell_type": "code",
      "source": "#Using vectorized sum method on NumPy array. We will compare the vectorized sum method along with simple non-vectorized operation i.e the iterative method to calculate the sum of numbers from 0 – 14,999.\n\n\n# importing the modules\nimport numpy as np\nimport timeit\n \n# vectorized sum\nprint(np.sum(np.arange(15000)))\n \nprint(\"Time taken by vectorized sum : \", end = \"\")\n%timeit np.sum(np.arange(15000))\n \n# iterative sum\ntotal = 0\nfor item in range(0, 15000):\n    total += item\na = total\nprint(\"\\n\" + str(a))\n \nprint(\"Time taken by iterative sum : \", end = \"\")\n%timeit a",
      "metadata": {
        "trusted": true
      },
      "outputs": [
        {
          "name": "stdout",
          "text": "112492500\nTime taken by vectorized sum : 19.4 µs ± 1.37 µs per loop (mean ± std. dev. of 7 runs, 10,000 loops each)\n\n112492500\nTime taken by iterative sum : 18.3 ns ± 0.807 ns per loop (mean ± std. dev. of 7 runs, 100,000,000 loops each)\n",
          "output_type": "stream"
        }
      ],
      "execution_count": 12
    },
    {
      "cell_type": "markdown",
      "source": "Broadcasting provides a means of vectorizing array operations, therefore eliminating the need for Python loops. This is because NumPy is implemented in C Programming, which is a very efficient language.\n\nIt does this without making needless copies of data which leads to efficient algorithm implementations. But broadcasting over multiple arrays in NumPy extension can raise cases where broadcasting is a bad idea because it leads to inefficient use of memory that slows down the computation.\n\nThe resulting array returned after broadcasting will have the same number of dimensions as the array with the greatest number of dimensions.",
      "metadata": {}
    },
    {
      "cell_type": "code",
      "source": "\nimport numpy as np \na = np.array([17, 11, 19]) # 1x3 Dimension array \nprint(a) \nb = 3  \nprint(b) \n  \n# Broadcasting happened because of \n# miss match in array Dimension. \nc = a + b  \nprint(c)",
      "metadata": {
        "trusted": true
      },
      "outputs": [
        {
          "name": "stdout",
          "text": "[17 11 19]\n3\n[20 14 22]\n",
          "output_type": "stream"
        }
      ],
      "execution_count": 16
    },
    {
      "cell_type": "markdown",
      "source": "Practical Questions:",
      "metadata": {}
    },
    {
      "cell_type": "code",
      "source": "#1. Create a 3x3 NumPy array with random integers between 1 and 100. Then, interchange its rows and columns\n\nimport numpy as np\n\n# Step 1: Create a 3x3 array with random integers between 1 and 100\narray = np.random.randint(1, 101, size=(3, 3))\nprint(\"Original Array:\")\nprint(array)\n\n# Step 2: Interchange rows and columns\ntransposed_array = np.transpose(array)\n# Alternatively, you can use array.T to achieve the same result\n# transposed_array = array.T\n\nprint(\"\\nTransposed Array (Interchanged Rows and Columns):\")\nprint(transposed_array)\n",
      "metadata": {
        "trusted": true
      },
      "outputs": [
        {
          "name": "stdout",
          "text": "Original Array:\n[[56 32 64]\n [77 96 83]\n [21 74 22]]\n\nTransposed Array (Interchanged Rows and Columns):\n[[56 77 21]\n [32 96 74]\n [64 83 22]]\n",
          "output_type": "stream"
        }
      ],
      "execution_count": 17
    },
    {
      "cell_type": "code",
      "source": "#2. Generate a 1D NumPy array with 10 elements. Reshape it into a 2x5 array, then into a 5x2 array\n\nimport numpy as np\n\n# Step 1: Generate a 1D array with 10 elements\narray_1d = np.arange(10)  # Alternatively, use np.random.randint(1, 101, size=10)\nprint(\"Original 1D Array:\")\nprint(array_1d)\n\n# Step 2: Reshape the array into a 2x5 array\narray_2x5 = array_1d.reshape((2, 5))\nprint(\"\\nReshaped 2x5 Array:\")\nprint(array_2x5)\n\n# Step 3: Reshape the array into a 5x2 array\narray_5x2 = array_1d.reshape((5, 2))\nprint(\"\\nReshaped 5x2 Array:\")\nprint(array_5x2)\n",
      "metadata": {
        "trusted": true
      },
      "outputs": [
        {
          "name": "stdout",
          "text": "Original 1D Array:\n[0 1 2 3 4 5 6 7 8 9]\n\nReshaped 2x5 Array:\n[[0 1 2 3 4]\n [5 6 7 8 9]]\n\nReshaped 5x2 Array:\n[[0 1]\n [2 3]\n [4 5]\n [6 7]\n [8 9]]\n",
          "output_type": "stream"
        }
      ],
      "execution_count": 18
    },
    {
      "cell_type": "code",
      "source": "#3. Create a 4x4 NumPy array with random float values. Add a border of zeros around it, resulting in a 6x6 array\n\nimport numpy as np\n\n# Step 1: Create a 4x4 array with random float values\narray_4x4 = np.random.rand(4, 4)\nprint(\"Original 4x4 Array:\")\nprint(array_4x4)\n\n# Step 2: Add a border of zeros around the array to make it 6x6\narray_6x6 = np.pad(array_4x4, pad_width=1, mode='constant', constant_values=0)\nprint(\"\\n6x6 Array with Zero Border:\")\nprint(array_6x6)\n",
      "metadata": {
        "trusted": true
      },
      "outputs": [
        {
          "name": "stdout",
          "text": "Original 4x4 Array:\n[[0.10111446 0.32188647 0.75185619 0.93966785]\n [0.8624976  0.06825311 0.19710511 0.29324764]\n [0.55812116 0.06694055 0.82658863 0.66008163]\n [0.76422623 0.76152662 0.72670696 0.02719128]]\n\n6x6 Array with Zero Border:\n[[0.         0.         0.         0.         0.         0.        ]\n [0.         0.10111446 0.32188647 0.75185619 0.93966785 0.        ]\n [0.         0.8624976  0.06825311 0.19710511 0.29324764 0.        ]\n [0.         0.55812116 0.06694055 0.82658863 0.66008163 0.        ]\n [0.         0.76422623 0.76152662 0.72670696 0.02719128 0.        ]\n [0.         0.         0.         0.         0.         0.        ]]\n",
          "output_type": "stream"
        }
      ],
      "execution_count": 19
    },
    {
      "cell_type": "code",
      "source": "#4. Using NumPy, create an array of integers from 10 to 60 with a step of 5.\n\nimport numpy as np\n\n# Create an array of integers from 10 to 60 with a step of 5\narray = np.arange(10, 65, 5)  # The stop value is 65 to include 60\nprint(array)\n",
      "metadata": {
        "trusted": true
      },
      "outputs": [
        {
          "name": "stdout",
          "text": "[10 15 20 25 30 35 40 45 50 55 60]\n",
          "output_type": "stream"
        }
      ],
      "execution_count": 20
    },
    {
      "cell_type": "code",
      "source": "#5. Create a NumPy array of strings ['python', 'numpy', 'pandas']. Apply different case transformations (uppercase, lowercase, title case, etc.) to each element.\n\nimport numpy as np\n\n# Step 1: Create a NumPy array of strings\nstring_array = np.array(['python', 'numpy', 'pandas'])\n\n# Step 2: Apply uppercase transformation\nuppercase_array = np.char.upper(string_array)\nprint(\"Uppercase:\")\nprint(uppercase_array)\n\n# Step 3: Apply lowercase transformation\nlowercase_array = np.char.lower(string_array)\nprint(\"\\nLowercase:\")\nprint(lowercase_array)\n\n# Step 4: Apply title case transformation\ntitlecase_array = np.char.title(string_array)\nprint(\"\\nTitle Case:\")\nprint(titlecase_array)\n\n",
      "metadata": {
        "trusted": true
      },
      "outputs": [
        {
          "name": "stdout",
          "text": "Uppercase:\n['PYTHON' 'NUMPY' 'PANDAS']\n\nLowercase:\n['python' 'numpy' 'pandas']\n\nTitle Case:\n['Python' 'Numpy' 'Pandas']\n",
          "output_type": "stream"
        }
      ],
      "execution_count": 21
    },
    {
      "cell_type": "code",
      "source": "#6. Generate a NumPy array of words. Insert a space between each character of every word in the array\n\nimport numpy as np\n\n# Step 1: Create a NumPy array of words\nwords_array = np.array(['python', 'numpy', 'pandas'])\n\n# Step 2: Insert a space between each character of every word\nspaced_words_array = np.char.join(' ', words_array)\nprint(\"Words with spaces between characters:\")\nprint(spaced_words_array)\n",
      "metadata": {
        "trusted": true
      },
      "outputs": [
        {
          "name": "stdout",
          "text": "Words with spaces between characters:\n['p y t h o n' 'n u m p y' 'p a n d a s']\n",
          "output_type": "stream"
        }
      ],
      "execution_count": 22
    },
    {
      "cell_type": "code",
      "source": "#7. Create two 2D NumPy arrays and perform element-wise addition, subtraction, multiplication, and division.\n\n\n# Step 1: Create two 2D NumPy arrays\narray1 = np.array([[1, 2, 3],\n                   [4, 5, 6]])\n\narray2 = np.array([[7, 8, 9],\n                   [10, 11, 12]])\n\n# Step 2: Perform element-wise addition\naddition = array1 + array2\nprint(\"Element-wise Addition:\")\nprint(addition)\n\n# Step 3: Perform element-wise subtraction\nsubtraction = array1 - array2\nprint(\"\\nElement-wise Subtraction:\")\nprint(subtraction)\n\n# Step 4: Perform element-wise multiplication\nmultiplication = array1 * array2\nprint(\"\\nElement-wise Multiplication:\")\nprint(multiplication)\n\n# Step 5: Perform element-wise division\ndivision = array1 / array2\nprint(\"\\nElement-wise Division:\")\nprint(division)\n",
      "metadata": {
        "trusted": true
      },
      "outputs": [
        {
          "name": "stdout",
          "text": "Element-wise Addition:\n[[ 8 10 12]\n [14 16 18]]\n\nElement-wise Subtraction:\n[[-6 -6 -6]\n [-6 -6 -6]]\n\nElement-wise Multiplication:\n[[ 7 16 27]\n [40 55 72]]\n\nElement-wise Division:\n[[0.14285714 0.25       0.33333333]\n [0.4        0.45454545 0.5       ]]\n",
          "output_type": "stream"
        }
      ],
      "execution_count": 23
    },
    {
      "cell_type": "code",
      "source": "#8. Use NumPy to create a 5x5 identity matrix, then extract its diagonal elements\n\n# Step 1: Create a 5x5 identity matrix\nidentity_matrix = np.eye(5)\nprint(\"5x5 Identity Matrix:\")\nprint(identity_matrix)\n\n# Step 2: Extract the diagonal elements\ndiagonal_elements = np.diag(identity_matrix)\nprint(\"\\nDiagonal Elements:\")\nprint(diagonal_elements)\n",
      "metadata": {
        "trusted": true
      },
      "outputs": [
        {
          "name": "stdout",
          "text": "5x5 Identity Matrix:\n[[1. 0. 0. 0. 0.]\n [0. 1. 0. 0. 0.]\n [0. 0. 1. 0. 0.]\n [0. 0. 0. 1. 0.]\n [0. 0. 0. 0. 1.]]\n\nDiagonal Elements:\n[1. 1. 1. 1. 1.]\n",
          "output_type": "stream"
        }
      ],
      "execution_count": 24
    },
    {
      "cell_type": "code",
      "source": "#9. Generate a NumPy array of 100 random integers between 0 and 1000. Find and display all prime numbers in this array.\n\n# Step 1: Generate a NumPy array of 100 random integers between 0 and 1000\narray = np.random.randint(0, 1001, size=100)\nprint(\"Generated Array:\")\nprint(array)\n\n# Step 2: Function to check if a number is prime\ndef is_prime(n):\n    if n <= 1:\n        return False\n    if n <= 3:\n        return True\n    if n % 2 == 0 or n % 3 == 0:\n        return False\n    i = 5\n    while i * i <= n:\n        if n % i == 0 or n % (i + 2) == 0:\n            return False\n        i += 6\n    return True\n\n# Step 3: Find and display all prime numbers in the array\nprime_numbers = np.array([num for num in array if is_prime(num)])\nprint(\"\\nPrime Numbers in the Array:\")\nprint(prime_numbers)\n",
      "metadata": {
        "trusted": true
      },
      "outputs": [
        {
          "name": "stdout",
          "text": "Generated Array:\n[920 845 329 951 605 782 428  31 144 633 233 621 405 940 236 145 285 574\n 229 295 186 125 372 993 137 505 868 949 114 139 888 248 260 498 171  77\n 578 146 927 962 677 541 577 781 454  28 592  30 134 353 922 370 946 734\n 541 442 364 741 411 426 845 937 611 366 409 614 877 670 872 568 576 996\n 850 386 559 802  82 835 521 313 436 594 661 978 728  17  26  67 767 982\n 104 366 213 417  39 202 703  59 423 584]\n\nPrime Numbers in the Array:\n[ 31 233 229 137 139 677 541 577 353 541 937 409 877 521 313 661  17  67\n  59]\n",
          "output_type": "stream"
        }
      ],
      "execution_count": 25
    },
    {
      "cell_type": "code",
      "source": "#10. Create a NumPy array representing daily temperatures for a month. Calculate and display the weekly averages.\n\n\n\n# Generate a NumPy array of daily temperatures for a month (30 days)\nnp.random.seed(0)  # For reproducibility\ndaily_temperatures = np.random.uniform(0, 35, size=30)\nprint(\"Daily Temperatures for the Month:\")\nprint(daily_temperatures)\n\n# Reshape the array into 5 weeks of 6 days each\nweekly_temperatures = daily_temperatures.reshape(5, 6)\nprint(\"\\nWeekly Temperatures (5 weeks of 6 days):\")\nprint(weekly_temperatures)\n\n# Calculate the weekly averages\nweekly_averages = np.mean(weekly_temperatures, axis=1)\nprint(\"\\nWeekly Averages:\")\nprint(weekly_averages)\n\n# Additional calculations\nhighest_temp = np.max(daily_temperatures)\nlowest_temp = np.min(daily_temperatures)\nmonthly_average = np.mean(daily_temperatures)\ntemperature_ranges = np.ptp(weekly_temperatures, axis=1)  # Peak-to-peak (range)\n\nprint(f\"\\nHighest Temperature of the Month: {highest_temp:.2f}°C\")\nprint(f\"Lowest Temperature of the Month: {lowest_temp:.2f}°C\")\nprint(f\"\\nOverall Monthly Average Temperature: {monthly_average:.2f}°C\")\nprint(\"\\nTemperature Ranges for Each Week:\")\nprint(temperature_ranges)\n\n\n",
      "metadata": {
        "trusted": true
      },
      "outputs": [
        {
          "name": "stdout",
          "text": "Daily Temperatures for the Month:\n[19.20847264 25.03162782 21.09671816 19.0709114  14.82791798 22.60629396\n 15.31555239 31.21205503 33.72819662 13.42045316 27.71037633 18.51132219\n 19.88155964 32.39588234  2.48626204  3.04952549  0.70764391 29.14169459\n 27.23548628 30.45042519 34.25164198 27.97054975 16.15177768 27.31852117\n  4.13960491 22.39723575  5.01736506 33.0634121  18.26469126 14.5131679 ]\n\nWeekly Temperatures (5 weeks of 6 days):\n[[19.20847264 25.03162782 21.09671816 19.0709114  14.82791798 22.60629396]\n [15.31555239 31.21205503 33.72819662 13.42045316 27.71037633 18.51132219]\n [19.88155964 32.39588234  2.48626204  3.04952549  0.70764391 29.14169459]\n [27.23548628 30.45042519 34.25164198 27.97054975 16.15177768 27.31852117]\n [ 4.13960491 22.39723575  5.01736506 33.0634121  18.26469126 14.5131679 ]]\n\nWeekly Averages:\n[20.30699033 23.31632595 14.610428   27.22973367 16.23257949]\n\nHighest Temperature of the Month: 34.25°C\nLowest Temperature of the Month: 0.71°C\n\nOverall Monthly Average Temperature: 20.34°C\n\nTemperature Ranges for Each Week:\n[10.20370985 20.30774346 31.68823843 18.0998643  28.92380719]\n",
          "output_type": "stream"
        }
      ],
      "execution_count": 28
    },
    {
      "cell_type": "code",
      "source": "",
      "metadata": {
        "trusted": true
      },
      "outputs": [],
      "execution_count": null
    }
  ]
}