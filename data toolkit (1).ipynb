{
  "metadata": {
    "kernelspec": {
      "name": "python",
      "display_name": "Python (Pyodide)",
      "language": "python"
    },
    "language_info": {
      "codemirror_mode": {
        "name": "python",
        "version": 3
      },
      "file_extension": ".py",
      "mimetype": "text/x-python",
      "name": "python",
      "nbconvert_exporter": "python",
      "pygments_lexer": "ipython3",
      "version": "3.8"
    }
  },
  "nbformat_minor": 5,
  "nbformat": 4,
  "cells": [
    {
      "id": "2d59577c-abef-41f7-858b-eb39978c35dd",
      "cell_type": "markdown",
      "source": "1. Demonstrate three different methods for creating identical 2D arrays in NumPy. Provide the code for each\nmethod and the final output after each method.\n\n\nHere are three different methods to create identical 2D arrays in NumPy, along with the corresponding code and outputs.\n\n\nUsing np.array()\nWe can manually create an array using the np.array() function by passing a list of lists (for a 2D array).",
      "metadata": {}
    },
    {
      "id": "83576b7f-3a1d-4b88-9558-d8d84c2f8736",
      "cell_type": "code",
      "source": "import numpy as np\n\n# Method 1: Using np.array()\narray_1 = np.array([[1, 2, 3], [4, 5, 6]])\nprint(\"Method 1 Output:\\n\", array_1)\n",
      "metadata": {},
      "outputs": [
        {
          "name": "stdout",
          "output_type": "stream",
          "text": [
            "Method 1 Output:\n",
            " [[1 2 3]\n",
            " [4 5 6]]\n"
          ]
        }
      ],
      "execution_count": 1
    },
    {
      "id": "9c619de4-8a7b-450e-abbd-8648e224c887",
      "cell_type": "markdown",
      "source": "Using np.zeros() and assignment\nWe can create a 2D array filled with zeros using np.zeros(), and then assign values to specific positions.\n",
      "metadata": {}
    },
    {
      "id": "64c3fe36-f4db-4779-9e19-44d1de9ceb00",
      "cell_type": "code",
      "source": "# Method 2: Using np.zeros() and assignment\narray_2 = np.zeros((2, 3), dtype=int)\narray_2[0] = [1, 2, 3]\narray_2[1] = [4, 5, 6]\nprint(\"Method 2 Output:\\n\", array_2)\n",
      "metadata": {},
      "outputs": [
        {
          "name": "stdout",
          "output_type": "stream",
          "text": [
            "Method 2 Output:\n",
            " [[1 2 3]\n",
            " [4 5 6]]\n"
          ]
        }
      ],
      "execution_count": 2
    },
    {
      "id": "3f789267-d492-4617-ac3b-6c139e88f1ed",
      "cell_type": "markdown",
      "source": "Using np.full() with a pre-defined shape and values\nYou can use the np.full() function to create an array filled with identical values and then reshape it to 2D.\n",
      "metadata": {}
    },
    {
      "id": "7cc0048b-3fcd-4052-855d-0f80b9e32a47",
      "cell_type": "code",
      "source": "# Method 3: Using np.full()\narray_3 = np.array([[1, 2, 3], [4, 5, 6]])\nprint(\"Method 3 Output:\\n\", array_3)\n",
      "metadata": {},
      "outputs": [
        {
          "name": "stdout",
          "output_type": "stream",
          "text": [
            "Method 3 Output:\n",
            " [[1 2 3]\n",
            " [4 5 6]]\n"
          ]
        }
      ],
      "execution_count": 3
    },
    {
      "id": "14cc777b-4a1c-4178-a9b6-56c282674e0b",
      "cell_type": "markdown",
      "source": "2 Using the Numpy function, generate an array of 100 evenly spaced numbers Petween 1 and 10 and\nReshape that 1D array into a 2D array.",
      "metadata": {}
    },
    {
      "id": "3a9b6019-fc2e-4f7e-aefe-e5ccb07d3dc0",
      "cell_type": "code",
      "source": "# we can generate an array of 100 evenly spaced numbers between 1 and 10, and then reshape that 1D array into a 2D array using NumPy.\n\nimport numpy as np\n\n# Generate 100 evenly spaced numbers between 1 and 10\narray_1d = np.linspace(1, 10, 100)\n\n# Reshape the 1D array into a 2D array with shape (10, 10)\narray_2d = array_1d.reshape(10, 10)\n\n# Output the 2D array\nprint(\"2D Array:\\n\", array_2d)\n",
      "metadata": {},
      "outputs": [
        {
          "name": "stdout",
          "output_type": "stream",
          "text": [
            "2D Array:\n",
            " [[ 1.          1.09090909  1.18181818  1.27272727  1.36363636  1.45454545\n",
            "   1.54545455  1.63636364  1.72727273  1.81818182]\n",
            " [ 1.90909091  2.          2.09090909  2.18181818  2.27272727  2.36363636\n",
            "   2.45454545  2.54545455  2.63636364  2.72727273]\n",
            " [ 2.81818182  2.90909091  3.          3.09090909  3.18181818  3.27272727\n",
            "   3.36363636  3.45454545  3.54545455  3.63636364]\n",
            " [ 3.72727273  3.81818182  3.90909091  4.          4.09090909  4.18181818\n",
            "   4.27272727  4.36363636  4.45454545  4.54545455]\n",
            " [ 4.63636364  4.72727273  4.81818182  4.90909091  5.          5.09090909\n",
            "   5.18181818  5.27272727  5.36363636  5.45454545]\n",
            " [ 5.54545455  5.63636364  5.72727273  5.81818182  5.90909091  6.\n",
            "   6.09090909  6.18181818  6.27272727  6.36363636]\n",
            " [ 6.45454545  6.54545455  6.63636364  6.72727273  6.81818182  6.90909091\n",
            "   7.          7.09090909  7.18181818  7.27272727]\n",
            " [ 7.36363636  7.45454545  7.54545455  7.63636364  7.72727273  7.81818182\n",
            "   7.90909091  8.          8.09090909  8.18181818]\n",
            " [ 8.27272727  8.36363636  8.45454545  8.54545455  8.63636364  8.72727273\n",
            "   8.81818182  8.90909091  9.          9.09090909]\n",
            " [ 9.18181818  9.27272727  9.36363636  9.45454545  9.54545455  9.63636364\n",
            "   9.72727273  9.81818182  9.90909091 10.        ]]\n"
          ]
        }
      ],
      "execution_count": 4
    },
    {
      "id": "451a4f04-1abe-43b4-8325-c285af18b152",
      "cell_type": "markdown",
      "source": "3. Explain the following terms\na The difference in np.array, np.asarray and np.asanyarray.\nb The difference between Deep copy and shallow copy.",
      "metadata": {}
    },
    {
      "id": "a63e9197-1b3b-495a-9981-2360c0cbb78f",
      "cell_type": "markdown",
      "source": "The np.array() in Python is used to convert a list, tuple, etc. into a Numpy array.\n\nSyntax: numpy.array(object, dtype=None)\n\nParameters :\n\nobject: [array_like] Input data, in any form can be converted to an array.\ndtype: [data-type, optional] By default, the datatype is inferred from the input data.\nReturn : [ndarray] Array interpretation of arr.",
      "metadata": {}
    },
    {
      "id": "7e65c2db-b6a2-41f1-8aa9-c96a5e4a8d22",
      "cell_type": "markdown",
      "source": "The numpy.asarray()function is used when we want to convert the input to an array. Input can be lists, lists of tuples, tuples, tuples of tuples, tuples of lists and arrays.\n\nSyntax: numpy.asarray(arr, dtype=None, order=None)\n\nParameters :\n\narr: [array_like] Input data, in any form can be converted to an array. This includes lists, lists of tuples, tuples, tuples of tuples, tuples of lists and ndarrays.\ndtype: [data-type, optional] By default, the data-type is inferred from the input data.\norder : Whether to use row-major (C-style) or column-major (Fortran-style) memory representation. Defaults to ‘C’.\nReturn : [ndarray] Array interpretation of arr. No copy is performed if the input is already ndarray with matching dtype and order. If arr is a subclass of ndarray, a base class array is returned.",
      "metadata": {}
    },
    {
      "id": "5724c55c-4267-4a13-9a44-990629d5e37c",
      "cell_type": "markdown",
      "source": "numpy.asanyarray()function is used when we want to convert input to an array but it pass ndarray subclasses through. Input can be scalars, lists, lists of tuples, tuples, tuples of tuples, tuples of lists and ndarrays.\n\nSyntax : numpy.asanyarray(arr, dtype=None, order=None)\n\nParameters :\narr : [array_like] Input data, in any form that can be converted to an array. This includes scalars, lists, lists of tuples, tuples, tuples of tuples, tuples of lists, and ndarrays.\ndtype : [data-type, optional] By default, the data-type is inferred from the input data.\norder : Whether to use row-major (C-style) or column-major (Fortran-style) memory representation. Defaults to ‘C’.\n\nReturn : [ndarray or an ndarray subclass] Array interpretation of arr. If arr is ndarray or a subclass of ndarray, it is returned as-is and no copy is performed.",
      "metadata": {}
    },
    {
      "id": "e1aaa065-7eaf-4663-8c82-135cbbdf7134",
      "cell_type": "markdown",
      "source": "#The difference between Deep copy and shallow copy.\n\nShallow Copy stores the references of objects to the original memory address.   \nShallow Copy reflects changes made to the new/copied object in the original object.\nShallow Copy stores the copy of the original object and points the references to the objects.\nA shallow copy is faster.\n\n\n\nDeep copy stores copies of the object’s value.\nDeep copy doesn’t reflect changes made to the new/copied object in the original object.\nDeep copy stores the copy of the original object and recursively copies the objects as well.\nDeep copy is comparatively slower.",
      "metadata": {}
    },
    {
      "id": "e4040f21-d55e-407b-8109-396908d7380a",
      "cell_type": "markdown",
      "source": "4. Generate a 3x3 array with random floating-point numbers between 5 and 20. then, round each numPer in\nthe array to 2 decimal places.\n\n\nHere’s how we can generate a 3x3 array with random floating-point numbers between 5 and 20, and then round each number in the array to 2 decimal places:\n",
      "metadata": {}
    },
    {
      "id": "96cae8e1-b7e2-4de9-9334-2353e5b7e1f7",
      "cell_type": "code",
      "source": "\n# Generate a 3x3 array with random floating-point numbers between 5 and 20\nrandom_array = np.random.uniform(5, 20, (3, 3))\n\n# Round each number in the array to 2 decimal places\nrounded_array = np.round(random_array, 2)\n\n# Output the rounded array\nprint(\"3x3 Array with random numbers rounded to 2 decimal places:\\n\", rounded_array)\n",
      "metadata": {},
      "outputs": [
        {
          "name": "stdout",
          "output_type": "stream",
          "text": [
            "3x3 Array with random numbers rounded to 2 decimal places:\n",
            " [[ 9.52 10.59  5.73]\n",
            " [16.39  8.25  5.3 ]\n",
            " [18.3  13.74 14.43]]\n"
          ]
        }
      ],
      "execution_count": 12
    },
    {
      "id": "9422fb71-1ad0-4f73-98a5-388a0cf2da91",
      "cell_type": "markdown",
      "source": "5. Create a NumPy array with random integers Petween 1 and 10 of shape (5,6 ). After creating the array\nperform the following operations:\n\n a)Extract all even integers from array.\n\n b)Extract all odd integers from array",
      "metadata": {}
    },
    {
      "id": "0dc56d10-e82f-49e5-a73c-9bcdc8fa3b33",
      "cell_type": "code",
      "source": "#Here’s how we can create a NumPy array with random integers between 1 and 10 of shape (5, 6), and then extract all even and odd integers from the array:\n\n\n\n# Generate a 5x6 array with random integers between 1 and 10\nrandom_array = np.random.randint(1, 11, (5, 6))\n\n# Extract all even integers\neven_integers = random_array[random_array % 2 == 0]\n\n# Extract all odd integers\nodd_integers = random_array[random_array % 2 != 0]\n\n# Output the results\nprint(\"Original Array:\\n\", random_array)\nprint(\"\\nEven Integers:\\n\", even_integers)\nprint(\"\\nOdd Integers:\\n\", odd_integers)\n",
      "metadata": {},
      "outputs": [
        {
          "name": "stdout",
          "output_type": "stream",
          "text": [
            "Original Array:\n",
            " [[ 7  8  7  1  9  7]\n",
            " [ 1 10  2 10  4  8]\n",
            " [ 6 10  8  6 10  5]\n",
            " [10  3  5  7  5 10]\n",
            " [ 6  4  2  9  8 10]]\n",
            "\n",
            "Even Integers:\n",
            " [ 8 10  2 10  4  8  6 10  8  6 10 10 10  6  4  2  8 10]\n",
            "\n",
            "Odd Integers:\n",
            " [7 7 1 9 7 1 5 3 5 7 5 9]\n"
          ]
        }
      ],
      "execution_count": 13
    },
    {
      "id": "9697cdaf-7d5b-4248-926f-814450ac019a",
      "cell_type": "markdown",
      "source": "6. Create a 3D NumPy array of shape (3, 3, 3) containing random integers Petween 1 and 10. Perform the\nfollowing operations:\n\n a) Find the indices of the maximum values along each depth level (third axis).\n\n b) Perform element-wise multiplication of between both arrayX",
      "metadata": {}
    },
    {
      "id": "8a829383-176f-4d59-b193-652ed8ec2fa5",
      "cell_type": "code",
      "source": "\n#we can create a 3D NumPy array of shape (3, 3, 3) containing random integers between 1 and 10, and perform the required operations:\n\n\n# Generate a 3D array of shape (3, 3, 3) with random integers between 1 and 10\narray_3d = np.random.randint(1, 11, (3, 3, 3))\n\n# a) Find the indices of the maximum values along each depth level (third axis)\nmax_indices = np.argmax(array_3d, axis=2)\n\n# b) Perform element-wise multiplication between the 3D array and itself\n# (for the purpose of demonstrating element-wise multiplication)\nmultiplied_array = array_3d * array_3d  # This is element-wise multiplication of the array with itself\n\n# Output the results\nprint(\"Original 3D Array:\\n\", array_3d)\nprint(\"\\nIndices of maximum values along the third axis:\\n\", max_indices)\nprint(\"\\nElement-wise multiplication of the array with itself:\\n\", multiplied_array)\n\n",
      "metadata": {},
      "outputs": [
        {
          "name": "stdout",
          "output_type": "stream",
          "text": [
            "Original 3D Array:\n",
            " [[[10  8  4]\n",
            "  [ 5  3  3]\n",
            "  [ 8  1  5]]\n",
            "\n",
            " [[ 5  6 10]\n",
            "  [ 1  9  4]\n",
            "  [ 5  8  1]]\n",
            "\n",
            " [[ 1  2  3]\n",
            "  [ 3  5  5]\n",
            "  [ 4  1  6]]]\n",
            "\n",
            "Indices of maximum values along the third axis:\n",
            " [[0 0 0]\n",
            " [2 1 1]\n",
            " [2 1 2]]\n",
            "\n",
            "Element-wise multiplication of the array with itself:\n",
            " [[[100  64  16]\n",
            "  [ 25   9   9]\n",
            "  [ 64   1  25]]\n",
            "\n",
            " [[ 25  36 100]\n",
            "  [  1  81  16]\n",
            "  [ 25  64   1]]\n",
            "\n",
            " [[  1   4   9]\n",
            "  [  9  25  25]\n",
            "  [ 16   1  36]]]\n"
          ]
        }
      ],
      "execution_count": 14
    },
    {
      "id": "7b9c97f8-695c-4357-ac36-f57b6413094a",
      "cell_type": "markdown",
      "source": "7. Clean and transform the 'Phone' column in the sample dataset to remove non-numeric characters and\nconvert it to a numeric data type. Also display the table attributes and data types of each column.\n\n\n\nTo clean and transform the 'Phone' column in a dataset, removing non-numeric characters and converting it to a numeric data type, we can use pandas. I'll walk through the process and also show how to display the attributes and data types of the dataset columns.\n\nSteps:\nLoad the dataset into a pandas DataFrame.\nClean the 'Phone' column by removing non-numeric characters using regular expressions.\nConvert the cleaned 'Phone' column to a numeric data type (such as int).\nDisplay the attributes (columns) and the data types of each column.\n",
      "metadata": {}
    },
    {
      "id": "81395d69-d87d-45ad-b47d-a9c506cc16fd",
      "cell_type": "code",
      "source": "import pandas as pd\n\n# Sample data with a 'Phone' column\ndata = {\n    'Name': ['Alice', 'Bob', 'Charlie'],\n    'Phone': ['(123) 456-7890', '123.456.7891', '123-456-7892'],\n    'Age': [25, 30, 35]\n}\n\n# Create a DataFrame\ndf = pd.DataFrame(data)\n\n# Step 1: Clean the 'Phone' column by removing non-numeric characters\ndf['Phone'] = df['Phone'].str.replace(r'\\D', '', regex=True)\n\n# Step 2: Convert the 'Phone' column to a numeric data type (int)\ndf['Phone'] = pd.to_numeric(df['Phone'])\n\n# Step 3: Display the DataFrame attributes and data types of each column\nprint(\"Updated DataFrame:\\n\", df)\nprint(\"\\nData Types:\\n\", df.dtypes)\n",
      "metadata": {},
      "outputs": [
        {
          "name": "stdout",
          "output_type": "stream",
          "text": [
            "Updated DataFrame:\n",
            "       Name       Phone  Age\n",
            "0    Alice  1234567890   25\n",
            "1      Bob  1234567891   30\n",
            "2  Charlie  1234567892   35\n",
            "\n",
            "Data Types:\n",
            " Name     object\n",
            "Phone     int64\n",
            "Age       int64\n",
            "dtype: object\n"
          ]
        }
      ],
      "execution_count": 16
    },
    {
      "id": "8cd69613-ae32-4bc0-8987-7a6216dd311e",
      "cell_type": "markdown",
      "source": "8. Perform the following tasks using people dataset:\n\n a) Read the 'dataYcsv' file using pandas, skipping the first 50 rows.\n\n b) Only read the columns: 'Last Name', ‘Gender’,’Email’,‘Phone’ and ‘Salary’ from the file.\n\n c) Display the first 10 rows of the filtered dataset.\n\n d) Extract the ‘Salary’' column as a Series and display its last 5 valuesX",
      "metadata": {}
    },
    {
      "id": "ab31ffd1-e782-415b-850b-d70743b8a26f",
      "cell_type": "code",
      "source": "import pandas as pd\n\ndf=pd.read_csv(\"People Data.csv\")\ndf\n",
      "metadata": {},
      "outputs": [
        {
          "data": {
            "text/html": [
              "<div>\n",
              "<style scoped>\n",
              "    .dataframe tbody tr th:only-of-type {\n",
              "        vertical-align: middle;\n",
              "    }\n",
              "\n",
              "    .dataframe tbody tr th {\n",
              "        vertical-align: top;\n",
              "    }\n",
              "\n",
              "    .dataframe thead th {\n",
              "        text-align: right;\n",
              "    }\n",
              "</style>\n",
              "<table border=\"1\" class=\"dataframe\">\n",
              "  <thead>\n",
              "    <tr style=\"text-align: right;\">\n",
              "      <th></th>\n",
              "      <th>Index</th>\n",
              "      <th>User Id</th>\n",
              "      <th>First Name</th>\n",
              "      <th>Last Name</th>\n",
              "      <th>Gender</th>\n",
              "      <th>Email</th>\n",
              "      <th>Phone</th>\n",
              "      <th>Date of birth</th>\n",
              "      <th>Job Title</th>\n",
              "      <th>Salary</th>\n",
              "    </tr>\n",
              "  </thead>\n",
              "  <tbody>\n",
              "    <tr>\n",
              "      <th>0</th>\n",
              "      <td>1</td>\n",
              "      <td>8717bbf45cCDbEe</td>\n",
              "      <td>Shelia</td>\n",
              "      <td>Mahoney</td>\n",
              "      <td>Male</td>\n",
              "      <td>pwarner@example.org</td>\n",
              "      <td>857.139.8239</td>\n",
              "      <td>27-01-2014</td>\n",
              "      <td>Probation officer</td>\n",
              "      <td>90000</td>\n",
              "    </tr>\n",
              "    <tr>\n",
              "      <th>1</th>\n",
              "      <td>2</td>\n",
              "      <td>3d5AD30A4cD38ed</td>\n",
              "      <td>Jo</td>\n",
              "      <td>Rivers</td>\n",
              "      <td>Female</td>\n",
              "      <td>fergusonkatherine@example.net</td>\n",
              "      <td>NaN</td>\n",
              "      <td>26-07-1931</td>\n",
              "      <td>Dancer</td>\n",
              "      <td>80000</td>\n",
              "    </tr>\n",
              "    <tr>\n",
              "      <th>2</th>\n",
              "      <td>3</td>\n",
              "      <td>810Ce0F276Badec</td>\n",
              "      <td>Sheryl</td>\n",
              "      <td>Lowery</td>\n",
              "      <td>Female</td>\n",
              "      <td>fhoward@example.org</td>\n",
              "      <td>(599)782-0605</td>\n",
              "      <td>25-11-2013</td>\n",
              "      <td>Copy</td>\n",
              "      <td>50000</td>\n",
              "    </tr>\n",
              "    <tr>\n",
              "      <th>3</th>\n",
              "      <td>4</td>\n",
              "      <td>BF2a889C00f0cE1</td>\n",
              "      <td>Whitney</td>\n",
              "      <td>Hooper</td>\n",
              "      <td>Male</td>\n",
              "      <td>zjohnston@example.com</td>\n",
              "      <td>NaN</td>\n",
              "      <td>17-11-2012</td>\n",
              "      <td>Counselling psychologist</td>\n",
              "      <td>65000</td>\n",
              "    </tr>\n",
              "    <tr>\n",
              "      <th>4</th>\n",
              "      <td>5</td>\n",
              "      <td>9afFEafAe1CBBB9</td>\n",
              "      <td>Lindsey</td>\n",
              "      <td>Rice</td>\n",
              "      <td>Female</td>\n",
              "      <td>elin@example.net</td>\n",
              "      <td>(390)417-1635x3010</td>\n",
              "      <td>15-04-1923</td>\n",
              "      <td>Biomedical engineer</td>\n",
              "      <td>100000</td>\n",
              "    </tr>\n",
              "    <tr>\n",
              "      <th>...</th>\n",
              "      <td>...</td>\n",
              "      <td>...</td>\n",
              "      <td>...</td>\n",
              "      <td>...</td>\n",
              "      <td>...</td>\n",
              "      <td>...</td>\n",
              "      <td>...</td>\n",
              "      <td>...</td>\n",
              "      <td>...</td>\n",
              "      <td>...</td>\n",
              "    </tr>\n",
              "    <tr>\n",
              "      <th>995</th>\n",
              "      <td>996</td>\n",
              "      <td>fedF4c7Fd9e7cFa</td>\n",
              "      <td>Kurt</td>\n",
              "      <td>Bryant</td>\n",
              "      <td>Female</td>\n",
              "      <td>lyonsdaisy@example.net</td>\n",
              "      <td>021.775.2933</td>\n",
              "      <td>05-01-1959</td>\n",
              "      <td>Personnel officer</td>\n",
              "      <td>90000</td>\n",
              "    </tr>\n",
              "    <tr>\n",
              "      <th>996</th>\n",
              "      <td>997</td>\n",
              "      <td>ECddaFEDdEc4FAB</td>\n",
              "      <td>Donna</td>\n",
              "      <td>Barry</td>\n",
              "      <td>Female</td>\n",
              "      <td>dariusbryan@example.com</td>\n",
              "      <td>001-149-710-7799x721</td>\n",
              "      <td>06-10-2001</td>\n",
              "      <td>Education administrator</td>\n",
              "      <td>50000</td>\n",
              "    </tr>\n",
              "    <tr>\n",
              "      <th>997</th>\n",
              "      <td>998</td>\n",
              "      <td>2adde51d8B8979E</td>\n",
              "      <td>Cathy</td>\n",
              "      <td>Mckinney</td>\n",
              "      <td>Female</td>\n",
              "      <td>georgechan@example.org</td>\n",
              "      <td>+1-750-774-4128x33265</td>\n",
              "      <td>13-05-1918</td>\n",
              "      <td>Commercial/residential surveyor</td>\n",
              "      <td>60000</td>\n",
              "    </tr>\n",
              "    <tr>\n",
              "      <th>998</th>\n",
              "      <td>999</td>\n",
              "      <td>Fb2FE369D1E171A</td>\n",
              "      <td>Jermaine</td>\n",
              "      <td>Phelps</td>\n",
              "      <td>Male</td>\n",
              "      <td>wanda04@example.net</td>\n",
              "      <td>(915)292-2254</td>\n",
              "      <td>31-08-1971</td>\n",
              "      <td>Ambulance person</td>\n",
              "      <td>100000</td>\n",
              "    </tr>\n",
              "    <tr>\n",
              "      <th>999</th>\n",
              "      <td>1000</td>\n",
              "      <td>8b756f6231DDC6e</td>\n",
              "      <td>Lee</td>\n",
              "      <td>Tran</td>\n",
              "      <td>Female</td>\n",
              "      <td>deannablack@example.org</td>\n",
              "      <td>079.752.5424x67259</td>\n",
              "      <td>24-01-1947</td>\n",
              "      <td>Nurse, learning disability</td>\n",
              "      <td>90000</td>\n",
              "    </tr>\n",
              "  </tbody>\n",
              "</table>\n",
              "<p>1000 rows × 10 columns</p>\n",
              "</div>"
            ],
            "text/plain": [
              "     Index          User Id First Name Last Name  Gender  \\\n",
              "0        1  8717bbf45cCDbEe     Shelia   Mahoney    Male   \n",
              "1        2  3d5AD30A4cD38ed         Jo    Rivers  Female   \n",
              "2        3  810Ce0F276Badec     Sheryl    Lowery  Female   \n",
              "3        4  BF2a889C00f0cE1    Whitney    Hooper    Male   \n",
              "4        5  9afFEafAe1CBBB9    Lindsey      Rice  Female   \n",
              "..     ...              ...        ...       ...     ...   \n",
              "995    996  fedF4c7Fd9e7cFa       Kurt    Bryant  Female   \n",
              "996    997  ECddaFEDdEc4FAB      Donna     Barry  Female   \n",
              "997    998  2adde51d8B8979E      Cathy  Mckinney  Female   \n",
              "998    999  Fb2FE369D1E171A   Jermaine    Phelps    Male   \n",
              "999   1000  8b756f6231DDC6e        Lee      Tran  Female   \n",
              "\n",
              "                             Email                  Phone Date of birth  \\\n",
              "0              pwarner@example.org           857.139.8239    27-01-2014   \n",
              "1    fergusonkatherine@example.net                    NaN    26-07-1931   \n",
              "2              fhoward@example.org          (599)782-0605    25-11-2013   \n",
              "3            zjohnston@example.com                    NaN    17-11-2012   \n",
              "4                 elin@example.net     (390)417-1635x3010    15-04-1923   \n",
              "..                             ...                    ...           ...   \n",
              "995         lyonsdaisy@example.net           021.775.2933    05-01-1959   \n",
              "996        dariusbryan@example.com   001-149-710-7799x721    06-10-2001   \n",
              "997         georgechan@example.org  +1-750-774-4128x33265    13-05-1918   \n",
              "998            wanda04@example.net          (915)292-2254    31-08-1971   \n",
              "999        deannablack@example.org     079.752.5424x67259    24-01-1947   \n",
              "\n",
              "                           Job Title  Salary  \n",
              "0                  Probation officer   90000  \n",
              "1                             Dancer   80000  \n",
              "2                               Copy   50000  \n",
              "3           Counselling psychologist   65000  \n",
              "4                Biomedical engineer  100000  \n",
              "..                               ...     ...  \n",
              "995                Personnel officer   90000  \n",
              "996          Education administrator   50000  \n",
              "997  Commercial/residential surveyor   60000  \n",
              "998                 Ambulance person  100000  \n",
              "999       Nurse, learning disability   90000  \n",
              "\n",
              "[1000 rows x 10 columns]"
            ]
          },
          "execution_count": 14,
          "metadata": {},
          "output_type": "execute_result"
        }
      ],
      "execution_count": 14
    },
    {
      "id": "b5f882d1-9608-4d38-a61b-9d01c39852ba",
      "cell_type": "code",
      "source": "#Read the 'dataYcsv' file using pandas, skipping the first 50 rows.\n\ndf = pd.read_csv(\"People Data.csv\", \n                  skiprows = 50)\n\ndf",
      "metadata": {},
      "outputs": [
        {
          "data": {
            "text/html": [
              "<div>\n",
              "<style scoped>\n",
              "    .dataframe tbody tr th:only-of-type {\n",
              "        vertical-align: middle;\n",
              "    }\n",
              "\n",
              "    .dataframe tbody tr th {\n",
              "        vertical-align: top;\n",
              "    }\n",
              "\n",
              "    .dataframe thead th {\n",
              "        text-align: right;\n",
              "    }\n",
              "</style>\n",
              "<table border=\"1\" class=\"dataframe\">\n",
              "  <thead>\n",
              "    <tr style=\"text-align: right;\">\n",
              "      <th></th>\n",
              "      <th>50</th>\n",
              "      <th>afF3018e9cdd1dA</th>\n",
              "      <th>George</th>\n",
              "      <th>Mercer</th>\n",
              "      <th>Female</th>\n",
              "      <th>douglascontreras@example.net</th>\n",
              "      <th>+1-326-669-0118x4341</th>\n",
              "      <th>11-09-1941</th>\n",
              "      <th>Human resources officer</th>\n",
              "      <th>70000</th>\n",
              "    </tr>\n",
              "  </thead>\n",
              "  <tbody>\n",
              "    <tr>\n",
              "      <th>0</th>\n",
              "      <td>51</td>\n",
              "      <td>CccE5DAb6E288e5</td>\n",
              "      <td>Jo</td>\n",
              "      <td>Zavala</td>\n",
              "      <td>Male</td>\n",
              "      <td>pamela64@example.net</td>\n",
              "      <td>001-859-448-9935x54536</td>\n",
              "      <td>23-11-1992</td>\n",
              "      <td>Nurse, adult</td>\n",
              "      <td>80000</td>\n",
              "    </tr>\n",
              "    <tr>\n",
              "      <th>1</th>\n",
              "      <td>52</td>\n",
              "      <td>DfBDc3621D4bcec</td>\n",
              "      <td>Joshua</td>\n",
              "      <td>Carey</td>\n",
              "      <td>Female</td>\n",
              "      <td>dianashepherd@example.net</td>\n",
              "      <td>001-274-739-8470x814</td>\n",
              "      <td>07-01-1915</td>\n",
              "      <td>Seismic interpreter</td>\n",
              "      <td>70000</td>\n",
              "    </tr>\n",
              "    <tr>\n",
              "      <th>2</th>\n",
              "      <td>53</td>\n",
              "      <td>f55b0A249f5E44D</td>\n",
              "      <td>Rickey</td>\n",
              "      <td>Hobbs</td>\n",
              "      <td>Female</td>\n",
              "      <td>ingramtiffany@example.org</td>\n",
              "      <td>241.179.9509x498</td>\n",
              "      <td>01-07-1910</td>\n",
              "      <td>Barrister</td>\n",
              "      <td>60000</td>\n",
              "    </tr>\n",
              "    <tr>\n",
              "      <th>3</th>\n",
              "      <td>54</td>\n",
              "      <td>Ed71DcfaBFd0beE</td>\n",
              "      <td>Robyn</td>\n",
              "      <td>Reilly</td>\n",
              "      <td>Male</td>\n",
              "      <td>carriecrawford@example.org</td>\n",
              "      <td>207.797.8345x6177</td>\n",
              "      <td>27-07-1982</td>\n",
              "      <td>Engineer, structural</td>\n",
              "      <td>100000</td>\n",
              "    </tr>\n",
              "    <tr>\n",
              "      <th>4</th>\n",
              "      <td>55</td>\n",
              "      <td>FDaFD0c3f5387EC</td>\n",
              "      <td>Christina</td>\n",
              "      <td>Conrad</td>\n",
              "      <td>Male</td>\n",
              "      <td>fuentesclaudia@example.net</td>\n",
              "      <td>001-599-042-7428x143</td>\n",
              "      <td>06-01-1998</td>\n",
              "      <td>Producer, radio</td>\n",
              "      <td>50000</td>\n",
              "    </tr>\n",
              "    <tr>\n",
              "      <th>...</th>\n",
              "      <td>...</td>\n",
              "      <td>...</td>\n",
              "      <td>...</td>\n",
              "      <td>...</td>\n",
              "      <td>...</td>\n",
              "      <td>...</td>\n",
              "      <td>...</td>\n",
              "      <td>...</td>\n",
              "      <td>...</td>\n",
              "      <td>...</td>\n",
              "    </tr>\n",
              "    <tr>\n",
              "      <th>945</th>\n",
              "      <td>996</td>\n",
              "      <td>fedF4c7Fd9e7cFa</td>\n",
              "      <td>Kurt</td>\n",
              "      <td>Bryant</td>\n",
              "      <td>Female</td>\n",
              "      <td>lyonsdaisy@example.net</td>\n",
              "      <td>021.775.2933</td>\n",
              "      <td>05-01-1959</td>\n",
              "      <td>Personnel officer</td>\n",
              "      <td>90000</td>\n",
              "    </tr>\n",
              "    <tr>\n",
              "      <th>946</th>\n",
              "      <td>997</td>\n",
              "      <td>ECddaFEDdEc4FAB</td>\n",
              "      <td>Donna</td>\n",
              "      <td>Barry</td>\n",
              "      <td>Female</td>\n",
              "      <td>dariusbryan@example.com</td>\n",
              "      <td>001-149-710-7799x721</td>\n",
              "      <td>06-10-2001</td>\n",
              "      <td>Education administrator</td>\n",
              "      <td>50000</td>\n",
              "    </tr>\n",
              "    <tr>\n",
              "      <th>947</th>\n",
              "      <td>998</td>\n",
              "      <td>2adde51d8B8979E</td>\n",
              "      <td>Cathy</td>\n",
              "      <td>Mckinney</td>\n",
              "      <td>Female</td>\n",
              "      <td>georgechan@example.org</td>\n",
              "      <td>+1-750-774-4128x33265</td>\n",
              "      <td>13-05-1918</td>\n",
              "      <td>Commercial/residential surveyor</td>\n",
              "      <td>60000</td>\n",
              "    </tr>\n",
              "    <tr>\n",
              "      <th>948</th>\n",
              "      <td>999</td>\n",
              "      <td>Fb2FE369D1E171A</td>\n",
              "      <td>Jermaine</td>\n",
              "      <td>Phelps</td>\n",
              "      <td>Male</td>\n",
              "      <td>wanda04@example.net</td>\n",
              "      <td>(915)292-2254</td>\n",
              "      <td>31-08-1971</td>\n",
              "      <td>Ambulance person</td>\n",
              "      <td>100000</td>\n",
              "    </tr>\n",
              "    <tr>\n",
              "      <th>949</th>\n",
              "      <td>1000</td>\n",
              "      <td>8b756f6231DDC6e</td>\n",
              "      <td>Lee</td>\n",
              "      <td>Tran</td>\n",
              "      <td>Female</td>\n",
              "      <td>deannablack@example.org</td>\n",
              "      <td>079.752.5424x67259</td>\n",
              "      <td>24-01-1947</td>\n",
              "      <td>Nurse, learning disability</td>\n",
              "      <td>90000</td>\n",
              "    </tr>\n",
              "  </tbody>\n",
              "</table>\n",
              "<p>950 rows × 10 columns</p>\n",
              "</div>"
            ],
            "text/plain": [
              "       50  afF3018e9cdd1dA     George    Mercer  Female  \\\n",
              "0      51  CccE5DAb6E288e5         Jo    Zavala    Male   \n",
              "1      52  DfBDc3621D4bcec     Joshua     Carey  Female   \n",
              "2      53  f55b0A249f5E44D     Rickey     Hobbs  Female   \n",
              "3      54  Ed71DcfaBFd0beE      Robyn    Reilly    Male   \n",
              "4      55  FDaFD0c3f5387EC  Christina    Conrad    Male   \n",
              "..    ...              ...        ...       ...     ...   \n",
              "945   996  fedF4c7Fd9e7cFa       Kurt    Bryant  Female   \n",
              "946   997  ECddaFEDdEc4FAB      Donna     Barry  Female   \n",
              "947   998  2adde51d8B8979E      Cathy  Mckinney  Female   \n",
              "948   999  Fb2FE369D1E171A   Jermaine    Phelps    Male   \n",
              "949  1000  8b756f6231DDC6e        Lee      Tran  Female   \n",
              "\n",
              "    douglascontreras@example.net    +1-326-669-0118x4341  11-09-1941  \\\n",
              "0           pamela64@example.net  001-859-448-9935x54536  23-11-1992   \n",
              "1      dianashepherd@example.net    001-274-739-8470x814  07-01-1915   \n",
              "2      ingramtiffany@example.org        241.179.9509x498  01-07-1910   \n",
              "3     carriecrawford@example.org       207.797.8345x6177  27-07-1982   \n",
              "4     fuentesclaudia@example.net    001-599-042-7428x143  06-01-1998   \n",
              "..                           ...                     ...         ...   \n",
              "945       lyonsdaisy@example.net            021.775.2933  05-01-1959   \n",
              "946      dariusbryan@example.com    001-149-710-7799x721  06-10-2001   \n",
              "947       georgechan@example.org   +1-750-774-4128x33265  13-05-1918   \n",
              "948          wanda04@example.net           (915)292-2254  31-08-1971   \n",
              "949      deannablack@example.org      079.752.5424x67259  24-01-1947   \n",
              "\n",
              "             Human resources officer   70000  \n",
              "0                       Nurse, adult   80000  \n",
              "1                Seismic interpreter   70000  \n",
              "2                          Barrister   60000  \n",
              "3               Engineer, structural  100000  \n",
              "4                    Producer, radio   50000  \n",
              "..                               ...     ...  \n",
              "945                Personnel officer   90000  \n",
              "946          Education administrator   50000  \n",
              "947  Commercial/residential surveyor   60000  \n",
              "948                 Ambulance person  100000  \n",
              "949       Nurse, learning disability   90000  \n",
              "\n",
              "[950 rows x 10 columns]"
            ]
          },
          "execution_count": 15,
          "metadata": {},
          "output_type": "execute_result"
        }
      ],
      "execution_count": 15
    },
    {
      "id": "f6b37aeb-0e54-4da4-a69e-594c68672cf0",
      "cell_type": "code",
      "source": "#Only read the columns: 'Last Name', ‘Gender’,’Email’,‘Phone’ and ‘Salary’ from the file.\n\n\ndf = pd.read_csv(\"People Data.csv\", usecols = ['Last Name', 'Gender','Email','Phone', 'Salary'])\ndf\n",
      "metadata": {},
      "outputs": [
        {
          "data": {
            "text/html": [
              "<div>\n",
              "<style scoped>\n",
              "    .dataframe tbody tr th:only-of-type {\n",
              "        vertical-align: middle;\n",
              "    }\n",
              "\n",
              "    .dataframe tbody tr th {\n",
              "        vertical-align: top;\n",
              "    }\n",
              "\n",
              "    .dataframe thead th {\n",
              "        text-align: right;\n",
              "    }\n",
              "</style>\n",
              "<table border=\"1\" class=\"dataframe\">\n",
              "  <thead>\n",
              "    <tr style=\"text-align: right;\">\n",
              "      <th></th>\n",
              "      <th>Last Name</th>\n",
              "      <th>Gender</th>\n",
              "      <th>Email</th>\n",
              "      <th>Phone</th>\n",
              "      <th>Salary</th>\n",
              "    </tr>\n",
              "  </thead>\n",
              "  <tbody>\n",
              "    <tr>\n",
              "      <th>0</th>\n",
              "      <td>Mahoney</td>\n",
              "      <td>Male</td>\n",
              "      <td>pwarner@example.org</td>\n",
              "      <td>857.139.8239</td>\n",
              "      <td>90000</td>\n",
              "    </tr>\n",
              "    <tr>\n",
              "      <th>1</th>\n",
              "      <td>Rivers</td>\n",
              "      <td>Female</td>\n",
              "      <td>fergusonkatherine@example.net</td>\n",
              "      <td>NaN</td>\n",
              "      <td>80000</td>\n",
              "    </tr>\n",
              "    <tr>\n",
              "      <th>2</th>\n",
              "      <td>Lowery</td>\n",
              "      <td>Female</td>\n",
              "      <td>fhoward@example.org</td>\n",
              "      <td>(599)782-0605</td>\n",
              "      <td>50000</td>\n",
              "    </tr>\n",
              "    <tr>\n",
              "      <th>3</th>\n",
              "      <td>Hooper</td>\n",
              "      <td>Male</td>\n",
              "      <td>zjohnston@example.com</td>\n",
              "      <td>NaN</td>\n",
              "      <td>65000</td>\n",
              "    </tr>\n",
              "    <tr>\n",
              "      <th>4</th>\n",
              "      <td>Rice</td>\n",
              "      <td>Female</td>\n",
              "      <td>elin@example.net</td>\n",
              "      <td>(390)417-1635x3010</td>\n",
              "      <td>100000</td>\n",
              "    </tr>\n",
              "    <tr>\n",
              "      <th>...</th>\n",
              "      <td>...</td>\n",
              "      <td>...</td>\n",
              "      <td>...</td>\n",
              "      <td>...</td>\n",
              "      <td>...</td>\n",
              "    </tr>\n",
              "    <tr>\n",
              "      <th>995</th>\n",
              "      <td>Bryant</td>\n",
              "      <td>Female</td>\n",
              "      <td>lyonsdaisy@example.net</td>\n",
              "      <td>021.775.2933</td>\n",
              "      <td>90000</td>\n",
              "    </tr>\n",
              "    <tr>\n",
              "      <th>996</th>\n",
              "      <td>Barry</td>\n",
              "      <td>Female</td>\n",
              "      <td>dariusbryan@example.com</td>\n",
              "      <td>001-149-710-7799x721</td>\n",
              "      <td>50000</td>\n",
              "    </tr>\n",
              "    <tr>\n",
              "      <th>997</th>\n",
              "      <td>Mckinney</td>\n",
              "      <td>Female</td>\n",
              "      <td>georgechan@example.org</td>\n",
              "      <td>+1-750-774-4128x33265</td>\n",
              "      <td>60000</td>\n",
              "    </tr>\n",
              "    <tr>\n",
              "      <th>998</th>\n",
              "      <td>Phelps</td>\n",
              "      <td>Male</td>\n",
              "      <td>wanda04@example.net</td>\n",
              "      <td>(915)292-2254</td>\n",
              "      <td>100000</td>\n",
              "    </tr>\n",
              "    <tr>\n",
              "      <th>999</th>\n",
              "      <td>Tran</td>\n",
              "      <td>Female</td>\n",
              "      <td>deannablack@example.org</td>\n",
              "      <td>079.752.5424x67259</td>\n",
              "      <td>90000</td>\n",
              "    </tr>\n",
              "  </tbody>\n",
              "</table>\n",
              "<p>1000 rows × 5 columns</p>\n",
              "</div>"
            ],
            "text/plain": [
              "    Last Name  Gender                          Email                  Phone  \\\n",
              "0     Mahoney    Male            pwarner@example.org           857.139.8239   \n",
              "1      Rivers  Female  fergusonkatherine@example.net                    NaN   \n",
              "2      Lowery  Female            fhoward@example.org          (599)782-0605   \n",
              "3      Hooper    Male          zjohnston@example.com                    NaN   \n",
              "4        Rice  Female               elin@example.net     (390)417-1635x3010   \n",
              "..        ...     ...                            ...                    ...   \n",
              "995    Bryant  Female         lyonsdaisy@example.net           021.775.2933   \n",
              "996     Barry  Female        dariusbryan@example.com   001-149-710-7799x721   \n",
              "997  Mckinney  Female         georgechan@example.org  +1-750-774-4128x33265   \n",
              "998    Phelps    Male            wanda04@example.net          (915)292-2254   \n",
              "999      Tran  Female        deannablack@example.org     079.752.5424x67259   \n",
              "\n",
              "     Salary  \n",
              "0     90000  \n",
              "1     80000  \n",
              "2     50000  \n",
              "3     65000  \n",
              "4    100000  \n",
              "..      ...  \n",
              "995   90000  \n",
              "996   50000  \n",
              "997   60000  \n",
              "998  100000  \n",
              "999   90000  \n",
              "\n",
              "[1000 rows x 5 columns]"
            ]
          },
          "execution_count": 20,
          "metadata": {},
          "output_type": "execute_result"
        }
      ],
      "execution_count": 20
    },
    {
      "id": "a4ef92f3-e077-42cd-9c9e-6000c260bbc5",
      "cell_type": "code",
      "source": "#Display the first 10 rows of the filtered dataset.\ndf.head(10)\n    \n\n",
      "metadata": {},
      "outputs": [
        {
          "data": {
            "text/html": [
              "<div>\n",
              "<style scoped>\n",
              "    .dataframe tbody tr th:only-of-type {\n",
              "        vertical-align: middle;\n",
              "    }\n",
              "\n",
              "    .dataframe tbody tr th {\n",
              "        vertical-align: top;\n",
              "    }\n",
              "\n",
              "    .dataframe thead th {\n",
              "        text-align: right;\n",
              "    }\n",
              "</style>\n",
              "<table border=\"1\" class=\"dataframe\">\n",
              "  <thead>\n",
              "    <tr style=\"text-align: right;\">\n",
              "      <th></th>\n",
              "      <th>Last Name</th>\n",
              "      <th>Gender</th>\n",
              "      <th>Email</th>\n",
              "      <th>Phone</th>\n",
              "      <th>Salary</th>\n",
              "    </tr>\n",
              "  </thead>\n",
              "  <tbody>\n",
              "    <tr>\n",
              "      <th>0</th>\n",
              "      <td>Mahoney</td>\n",
              "      <td>Male</td>\n",
              "      <td>pwarner@example.org</td>\n",
              "      <td>857.139.8239</td>\n",
              "      <td>90000</td>\n",
              "    </tr>\n",
              "    <tr>\n",
              "      <th>1</th>\n",
              "      <td>Rivers</td>\n",
              "      <td>Female</td>\n",
              "      <td>fergusonkatherine@example.net</td>\n",
              "      <td>NaN</td>\n",
              "      <td>80000</td>\n",
              "    </tr>\n",
              "    <tr>\n",
              "      <th>2</th>\n",
              "      <td>Lowery</td>\n",
              "      <td>Female</td>\n",
              "      <td>fhoward@example.org</td>\n",
              "      <td>(599)782-0605</td>\n",
              "      <td>50000</td>\n",
              "    </tr>\n",
              "    <tr>\n",
              "      <th>3</th>\n",
              "      <td>Hooper</td>\n",
              "      <td>Male</td>\n",
              "      <td>zjohnston@example.com</td>\n",
              "      <td>NaN</td>\n",
              "      <td>65000</td>\n",
              "    </tr>\n",
              "    <tr>\n",
              "      <th>4</th>\n",
              "      <td>Rice</td>\n",
              "      <td>Female</td>\n",
              "      <td>elin@example.net</td>\n",
              "      <td>(390)417-1635x3010</td>\n",
              "      <td>100000</td>\n",
              "    </tr>\n",
              "    <tr>\n",
              "      <th>5</th>\n",
              "      <td>Caldwell</td>\n",
              "      <td>Male</td>\n",
              "      <td>kaitlin13@example.net</td>\n",
              "      <td>8537800927</td>\n",
              "      <td>50000</td>\n",
              "    </tr>\n",
              "    <tr>\n",
              "      <th>6</th>\n",
              "      <td>Hoffman</td>\n",
              "      <td>Male</td>\n",
              "      <td>jeffharvey@example.com</td>\n",
              "      <td>093.655.7480x7895</td>\n",
              "      <td>60000</td>\n",
              "    </tr>\n",
              "    <tr>\n",
              "      <th>7</th>\n",
              "      <td>Andersen</td>\n",
              "      <td>Male</td>\n",
              "      <td>alicia33@example.org</td>\n",
              "      <td>4709522945</td>\n",
              "      <td>65000</td>\n",
              "    </tr>\n",
              "    <tr>\n",
              "      <th>8</th>\n",
              "      <td>Mays</td>\n",
              "      <td>Male</td>\n",
              "      <td>jake50@example.com</td>\n",
              "      <td>013.820.4758</td>\n",
              "      <td>50000</td>\n",
              "    </tr>\n",
              "    <tr>\n",
              "      <th>9</th>\n",
              "      <td>Mitchell</td>\n",
              "      <td>Male</td>\n",
              "      <td>lanechristina@example.net</td>\n",
              "      <td>(560)903-5068x4985</td>\n",
              "      <td>50000</td>\n",
              "    </tr>\n",
              "  </tbody>\n",
              "</table>\n",
              "</div>"
            ],
            "text/plain": [
              "  Last Name  Gender                          Email               Phone  Salary\n",
              "0   Mahoney    Male            pwarner@example.org        857.139.8239   90000\n",
              "1    Rivers  Female  fergusonkatherine@example.net                 NaN   80000\n",
              "2    Lowery  Female            fhoward@example.org       (599)782-0605   50000\n",
              "3    Hooper    Male          zjohnston@example.com                 NaN   65000\n",
              "4      Rice  Female               elin@example.net  (390)417-1635x3010  100000\n",
              "5  Caldwell    Male          kaitlin13@example.net          8537800927   50000\n",
              "6   Hoffman    Male         jeffharvey@example.com   093.655.7480x7895   60000\n",
              "7  Andersen    Male           alicia33@example.org          4709522945   65000\n",
              "8      Mays    Male             jake50@example.com        013.820.4758   50000\n",
              "9  Mitchell    Male      lanechristina@example.net  (560)903-5068x4985   50000"
            ]
          },
          "execution_count": 22,
          "metadata": {},
          "output_type": "execute_result"
        }
      ],
      "execution_count": 22
    },
    {
      "id": "4505124c-b493-4538-9b88-84e52d66fbc3",
      "cell_type": "code",
      "source": "#Extract the ‘Salary’' column as a Series and display its last 5 valuesX\n\ndf = pd.read_csv(\"People Data.csv\", usecols = ['Salary'])\ndf_last_5 = df.tail(5)\nprint(df_last_5)\n",
      "metadata": {},
      "outputs": [
        {
          "name": "stdout",
          "output_type": "stream",
          "text": [
            "     Salary\n",
            "995   90000\n",
            "996   50000\n",
            "997   60000\n",
            "998  100000\n",
            "999   90000\n"
          ]
        }
      ],
      "execution_count": 23
    },
    {
      "id": "6d86deb7-ab1e-4ac1-a403-6a5a7ccf7970",
      "cell_type": "markdown",
      "source": "#9. Filter and select rows from the People_Dataset, where the “Last Name' column contains the name 'Duke', \n'Gender' column contains the word Female and ‘Salary’ should Pe less than 85000.",
      "metadata": {}
    },
    {
      "id": "a9a01843-57d4-4701-8f68-c4a69f3281a9",
      "cell_type": "code",
      "source": "df=pd.read_csv(\"People Data.csv\")\nresullt_df = pd.read_csv(\"People Data.csv\" [\"",
      "metadata": {},
      "outputs": [],
      "execution_count": null
    },
    {
      "id": "d22f8876-639f-4a04-8515-9c742d1658ef",
      "cell_type": "code",
      "source": "#10. Create a 7*5. Dataframe in Pandas using a series generated from 35. random integers Petween 1 to 6?\n\n#we can create a 7x5 DataFrame in Pandas using a series generated from 35 random integers between 1 and 6:\n\n# Step 1: Generate a series of 35 random integers between 1 and 6\nrandom_integers = np.random.randint(1, 7, 35)\n\n# Step 2: Reshape the series into a 7x5 structure and create a DataFrame\ndf = pd.DataFrame(random_integers.reshape(7, 5))\n\n# Output the DataFrame\nprint(\"7x5 DataFrame with random integers between 1 and 6:\\n\", df)\n",
      "metadata": {},
      "outputs": [
        {
          "name": "stdout",
          "output_type": "stream",
          "text": [
            "7x5 DataFrame with random integers between 1 and 6:\n",
            "    0  1  2  3  4\n",
            "0  3  4  2  1  2\n",
            "1  4  6  3  5  2\n",
            "2  1  5  5  5  5\n",
            "3  4  2  2  3  4\n",
            "4  4  5  2  5  2\n",
            "5  2  2  2  3  4\n",
            "6  5  1  5  6  3\n"
          ]
        }
      ],
      "execution_count": 17
    },
    {
      "id": "e1ec0742-237e-4147-93df-bb7f9f7a98b6",
      "cell_type": "markdown",
      "source": "11. Create two different Series, each of length 50, with the following criteria:\n\na) The first Series should contain random numbers ranging from 10 to 50.\n\nb) The second Series should contain random numbers ranging from 100 to 1000.\n\nc) Create a DataFrame by 'joining these Series by column, and, change the names of the columns to 'col1', 'col2',\netc.",
      "metadata": {}
    },
    {
      "id": "32dae907-8191-4343-a739-1661dbfbf82d",
      "cell_type": "code",
      "source": "#we can create two different Pandas Series with the specified criteria, and then join them into a DataFrame with the column names 'col1', 'col2':\n\n# Step 1: Create the first Series with random numbers ranging from 10 to 50\nseries1 = pd.Series(np.random.randint(10, 51, 50))\n\n# Step 2: Create the second Series with random numbers ranging from 100 to 1000\nseries2 = pd.Series(np.random.randint(100, 1001, 50))\n\n# Step 3: Create a DataFrame by joining these Series by column\ndf = pd.DataFrame({'col1': series1, 'col2': series2})\n\n# Output the DataFrame\nprint(\"DataFrame with two columns 'col1' and 'col2':\\n\", df)\n\n\n",
      "metadata": {},
      "outputs": [
        {
          "name": "stdout",
          "output_type": "stream",
          "text": [
            "DataFrame with two columns 'col1' and 'col2':\n",
            "     col1  col2\n",
            "0     24   719\n",
            "1     34   806\n",
            "2     35   746\n",
            "3     24   429\n",
            "4     43   469\n",
            "5     39   680\n",
            "6     41   240\n",
            "7     17   163\n",
            "8     40   228\n",
            "9     45   808\n",
            "10    41   712\n",
            "11    49   465\n",
            "12    15   129\n",
            "13    27   747\n",
            "14    37   534\n",
            "15    32   344\n",
            "16    28   134\n",
            "17    30   761\n",
            "18    19   168\n",
            "19    33   633\n",
            "20    15   775\n",
            "21    38   796\n",
            "22    36   739\n",
            "23    22   800\n",
            "24    46   622\n",
            "25    40   195\n",
            "26    26   485\n",
            "27    10   345\n",
            "28    48   532\n",
            "29    21   138\n",
            "30    13   259\n",
            "31    47   741\n",
            "32    34   485\n",
            "33    15   676\n",
            "34    28   583\n",
            "35    39   288\n",
            "36    29   620\n",
            "37    44   893\n",
            "38    39   753\n",
            "39    37   603\n",
            "40    41   234\n",
            "41    22   423\n",
            "42    12   871\n",
            "43    28   377\n",
            "44    23   212\n",
            "45    39   665\n",
            "46    40   231\n",
            "47    39   977\n",
            "48    18   128\n",
            "49    30   184\n"
          ]
        }
      ],
      "execution_count": 18
    },
    {
      "id": "f0ae1f4a-b3d2-4e1a-bcea-58c01ca0cb32",
      "cell_type": "markdown",
      "source": "12. Perform the following operations using people data set:\n\na) Delete the 'Email', 'Phone', and 'Date of birth' columns from the dataset.\n\nb) Delete the rows containing any missing values.\n\nc) Print the final output also.",
      "metadata": {}
    },
    {
      "id": "5a10131a-cf5d-40a2-8784-e661200762ec",
      "cell_type": "code",
      "source": "# Delete the 'Email', 'Phone', and 'Date of birth' columns from the dataset.\nimport pandas as pd\ndf=pd.read_csv(\"People Data.csv\")\n\ndf\n\ndf = df.drop(['Email', 'Phone','Date of birth'], axis=1)\ndf",
      "metadata": {},
      "outputs": [
        {
          "data": {
            "text/html": [
              "<div>\n",
              "<style scoped>\n",
              "    .dataframe tbody tr th:only-of-type {\n",
              "        vertical-align: middle;\n",
              "    }\n",
              "\n",
              "    .dataframe tbody tr th {\n",
              "        vertical-align: top;\n",
              "    }\n",
              "\n",
              "    .dataframe thead th {\n",
              "        text-align: right;\n",
              "    }\n",
              "</style>\n",
              "<table border=\"1\" class=\"dataframe\">\n",
              "  <thead>\n",
              "    <tr style=\"text-align: right;\">\n",
              "      <th></th>\n",
              "      <th>Index</th>\n",
              "      <th>User Id</th>\n",
              "      <th>First Name</th>\n",
              "      <th>Last Name</th>\n",
              "      <th>Gender</th>\n",
              "      <th>Job Title</th>\n",
              "      <th>Salary</th>\n",
              "    </tr>\n",
              "  </thead>\n",
              "  <tbody>\n",
              "    <tr>\n",
              "      <th>0</th>\n",
              "      <td>1</td>\n",
              "      <td>8717bbf45cCDbEe</td>\n",
              "      <td>Shelia</td>\n",
              "      <td>Mahoney</td>\n",
              "      <td>Male</td>\n",
              "      <td>Probation officer</td>\n",
              "      <td>90000</td>\n",
              "    </tr>\n",
              "    <tr>\n",
              "      <th>1</th>\n",
              "      <td>2</td>\n",
              "      <td>3d5AD30A4cD38ed</td>\n",
              "      <td>Jo</td>\n",
              "      <td>Rivers</td>\n",
              "      <td>Female</td>\n",
              "      <td>Dancer</td>\n",
              "      <td>80000</td>\n",
              "    </tr>\n",
              "    <tr>\n",
              "      <th>2</th>\n",
              "      <td>3</td>\n",
              "      <td>810Ce0F276Badec</td>\n",
              "      <td>Sheryl</td>\n",
              "      <td>Lowery</td>\n",
              "      <td>Female</td>\n",
              "      <td>Copy</td>\n",
              "      <td>50000</td>\n",
              "    </tr>\n",
              "    <tr>\n",
              "      <th>3</th>\n",
              "      <td>4</td>\n",
              "      <td>BF2a889C00f0cE1</td>\n",
              "      <td>Whitney</td>\n",
              "      <td>Hooper</td>\n",
              "      <td>Male</td>\n",
              "      <td>Counselling psychologist</td>\n",
              "      <td>65000</td>\n",
              "    </tr>\n",
              "    <tr>\n",
              "      <th>4</th>\n",
              "      <td>5</td>\n",
              "      <td>9afFEafAe1CBBB9</td>\n",
              "      <td>Lindsey</td>\n",
              "      <td>Rice</td>\n",
              "      <td>Female</td>\n",
              "      <td>Biomedical engineer</td>\n",
              "      <td>100000</td>\n",
              "    </tr>\n",
              "    <tr>\n",
              "      <th>...</th>\n",
              "      <td>...</td>\n",
              "      <td>...</td>\n",
              "      <td>...</td>\n",
              "      <td>...</td>\n",
              "      <td>...</td>\n",
              "      <td>...</td>\n",
              "      <td>...</td>\n",
              "    </tr>\n",
              "    <tr>\n",
              "      <th>995</th>\n",
              "      <td>996</td>\n",
              "      <td>fedF4c7Fd9e7cFa</td>\n",
              "      <td>Kurt</td>\n",
              "      <td>Bryant</td>\n",
              "      <td>Female</td>\n",
              "      <td>Personnel officer</td>\n",
              "      <td>90000</td>\n",
              "    </tr>\n",
              "    <tr>\n",
              "      <th>996</th>\n",
              "      <td>997</td>\n",
              "      <td>ECddaFEDdEc4FAB</td>\n",
              "      <td>Donna</td>\n",
              "      <td>Barry</td>\n",
              "      <td>Female</td>\n",
              "      <td>Education administrator</td>\n",
              "      <td>50000</td>\n",
              "    </tr>\n",
              "    <tr>\n",
              "      <th>997</th>\n",
              "      <td>998</td>\n",
              "      <td>2adde51d8B8979E</td>\n",
              "      <td>Cathy</td>\n",
              "      <td>Mckinney</td>\n",
              "      <td>Female</td>\n",
              "      <td>Commercial/residential surveyor</td>\n",
              "      <td>60000</td>\n",
              "    </tr>\n",
              "    <tr>\n",
              "      <th>998</th>\n",
              "      <td>999</td>\n",
              "      <td>Fb2FE369D1E171A</td>\n",
              "      <td>Jermaine</td>\n",
              "      <td>Phelps</td>\n",
              "      <td>Male</td>\n",
              "      <td>Ambulance person</td>\n",
              "      <td>100000</td>\n",
              "    </tr>\n",
              "    <tr>\n",
              "      <th>999</th>\n",
              "      <td>1000</td>\n",
              "      <td>8b756f6231DDC6e</td>\n",
              "      <td>Lee</td>\n",
              "      <td>Tran</td>\n",
              "      <td>Female</td>\n",
              "      <td>Nurse, learning disability</td>\n",
              "      <td>90000</td>\n",
              "    </tr>\n",
              "  </tbody>\n",
              "</table>\n",
              "<p>1000 rows × 7 columns</p>\n",
              "</div>"
            ],
            "text/plain": [
              "     Index          User Id First Name Last Name  Gender  \\\n",
              "0        1  8717bbf45cCDbEe     Shelia   Mahoney    Male   \n",
              "1        2  3d5AD30A4cD38ed         Jo    Rivers  Female   \n",
              "2        3  810Ce0F276Badec     Sheryl    Lowery  Female   \n",
              "3        4  BF2a889C00f0cE1    Whitney    Hooper    Male   \n",
              "4        5  9afFEafAe1CBBB9    Lindsey      Rice  Female   \n",
              "..     ...              ...        ...       ...     ...   \n",
              "995    996  fedF4c7Fd9e7cFa       Kurt    Bryant  Female   \n",
              "996    997  ECddaFEDdEc4FAB      Donna     Barry  Female   \n",
              "997    998  2adde51d8B8979E      Cathy  Mckinney  Female   \n",
              "998    999  Fb2FE369D1E171A   Jermaine    Phelps    Male   \n",
              "999   1000  8b756f6231DDC6e        Lee      Tran  Female   \n",
              "\n",
              "                           Job Title  Salary  \n",
              "0                  Probation officer   90000  \n",
              "1                             Dancer   80000  \n",
              "2                               Copy   50000  \n",
              "3           Counselling psychologist   65000  \n",
              "4                Biomedical engineer  100000  \n",
              "..                               ...     ...  \n",
              "995                Personnel officer   90000  \n",
              "996          Education administrator   50000  \n",
              "997  Commercial/residential surveyor   60000  \n",
              "998                 Ambulance person  100000  \n",
              "999       Nurse, learning disability   90000  \n",
              "\n",
              "[1000 rows x 7 columns]"
            ]
          },
          "execution_count": 3,
          "metadata": {},
          "output_type": "execute_result"
        }
      ],
      "execution_count": 3
    },
    {
      "id": "c837cd89-b35b-4b0c-a008-cb2e5a3560c7",
      "cell_type": "code",
      "source": "#Delete the rows containing any missing values.\ndf=pd.read_csv(\"People Data.csv\")\ndf.dropna() \n\n#it is the final output after removing NaN",
      "metadata": {},
      "outputs": [
        {
          "data": {
            "text/html": [
              "<div>\n",
              "<style scoped>\n",
              "    .dataframe tbody tr th:only-of-type {\n",
              "        vertical-align: middle;\n",
              "    }\n",
              "\n",
              "    .dataframe tbody tr th {\n",
              "        vertical-align: top;\n",
              "    }\n",
              "\n",
              "    .dataframe thead th {\n",
              "        text-align: right;\n",
              "    }\n",
              "</style>\n",
              "<table border=\"1\" class=\"dataframe\">\n",
              "  <thead>\n",
              "    <tr style=\"text-align: right;\">\n",
              "      <th></th>\n",
              "      <th>Index</th>\n",
              "      <th>User Id</th>\n",
              "      <th>First Name</th>\n",
              "      <th>Last Name</th>\n",
              "      <th>Gender</th>\n",
              "      <th>Email</th>\n",
              "      <th>Phone</th>\n",
              "      <th>Date of birth</th>\n",
              "      <th>Job Title</th>\n",
              "      <th>Salary</th>\n",
              "    </tr>\n",
              "  </thead>\n",
              "  <tbody>\n",
              "    <tr>\n",
              "      <th>0</th>\n",
              "      <td>1</td>\n",
              "      <td>8717bbf45cCDbEe</td>\n",
              "      <td>Shelia</td>\n",
              "      <td>Mahoney</td>\n",
              "      <td>Male</td>\n",
              "      <td>pwarner@example.org</td>\n",
              "      <td>857.139.8239</td>\n",
              "      <td>27-01-2014</td>\n",
              "      <td>Probation officer</td>\n",
              "      <td>90000</td>\n",
              "    </tr>\n",
              "    <tr>\n",
              "      <th>2</th>\n",
              "      <td>3</td>\n",
              "      <td>810Ce0F276Badec</td>\n",
              "      <td>Sheryl</td>\n",
              "      <td>Lowery</td>\n",
              "      <td>Female</td>\n",
              "      <td>fhoward@example.org</td>\n",
              "      <td>(599)782-0605</td>\n",
              "      <td>25-11-2013</td>\n",
              "      <td>Copy</td>\n",
              "      <td>50000</td>\n",
              "    </tr>\n",
              "    <tr>\n",
              "      <th>4</th>\n",
              "      <td>5</td>\n",
              "      <td>9afFEafAe1CBBB9</td>\n",
              "      <td>Lindsey</td>\n",
              "      <td>Rice</td>\n",
              "      <td>Female</td>\n",
              "      <td>elin@example.net</td>\n",
              "      <td>(390)417-1635x3010</td>\n",
              "      <td>15-04-1923</td>\n",
              "      <td>Biomedical engineer</td>\n",
              "      <td>100000</td>\n",
              "    </tr>\n",
              "    <tr>\n",
              "      <th>5</th>\n",
              "      <td>6</td>\n",
              "      <td>aF75e6dDEBC5b66</td>\n",
              "      <td>Sherry</td>\n",
              "      <td>Caldwell</td>\n",
              "      <td>Male</td>\n",
              "      <td>kaitlin13@example.net</td>\n",
              "      <td>8537800927</td>\n",
              "      <td>06-08-1917</td>\n",
              "      <td>Higher education lecturer</td>\n",
              "      <td>50000</td>\n",
              "    </tr>\n",
              "    <tr>\n",
              "      <th>6</th>\n",
              "      <td>7</td>\n",
              "      <td>efeb05c7Cc94EA3</td>\n",
              "      <td>Ernest</td>\n",
              "      <td>Hoffman</td>\n",
              "      <td>Male</td>\n",
              "      <td>jeffharvey@example.com</td>\n",
              "      <td>093.655.7480x7895</td>\n",
              "      <td>22-12-1984</td>\n",
              "      <td>Health visitor</td>\n",
              "      <td>60000</td>\n",
              "    </tr>\n",
              "    <tr>\n",
              "      <th>...</th>\n",
              "      <td>...</td>\n",
              "      <td>...</td>\n",
              "      <td>...</td>\n",
              "      <td>...</td>\n",
              "      <td>...</td>\n",
              "      <td>...</td>\n",
              "      <td>...</td>\n",
              "      <td>...</td>\n",
              "      <td>...</td>\n",
              "      <td>...</td>\n",
              "    </tr>\n",
              "    <tr>\n",
              "      <th>995</th>\n",
              "      <td>996</td>\n",
              "      <td>fedF4c7Fd9e7cFa</td>\n",
              "      <td>Kurt</td>\n",
              "      <td>Bryant</td>\n",
              "      <td>Female</td>\n",
              "      <td>lyonsdaisy@example.net</td>\n",
              "      <td>021.775.2933</td>\n",
              "      <td>05-01-1959</td>\n",
              "      <td>Personnel officer</td>\n",
              "      <td>90000</td>\n",
              "    </tr>\n",
              "    <tr>\n",
              "      <th>996</th>\n",
              "      <td>997</td>\n",
              "      <td>ECddaFEDdEc4FAB</td>\n",
              "      <td>Donna</td>\n",
              "      <td>Barry</td>\n",
              "      <td>Female</td>\n",
              "      <td>dariusbryan@example.com</td>\n",
              "      <td>001-149-710-7799x721</td>\n",
              "      <td>06-10-2001</td>\n",
              "      <td>Education administrator</td>\n",
              "      <td>50000</td>\n",
              "    </tr>\n",
              "    <tr>\n",
              "      <th>997</th>\n",
              "      <td>998</td>\n",
              "      <td>2adde51d8B8979E</td>\n",
              "      <td>Cathy</td>\n",
              "      <td>Mckinney</td>\n",
              "      <td>Female</td>\n",
              "      <td>georgechan@example.org</td>\n",
              "      <td>+1-750-774-4128x33265</td>\n",
              "      <td>13-05-1918</td>\n",
              "      <td>Commercial/residential surveyor</td>\n",
              "      <td>60000</td>\n",
              "    </tr>\n",
              "    <tr>\n",
              "      <th>998</th>\n",
              "      <td>999</td>\n",
              "      <td>Fb2FE369D1E171A</td>\n",
              "      <td>Jermaine</td>\n",
              "      <td>Phelps</td>\n",
              "      <td>Male</td>\n",
              "      <td>wanda04@example.net</td>\n",
              "      <td>(915)292-2254</td>\n",
              "      <td>31-08-1971</td>\n",
              "      <td>Ambulance person</td>\n",
              "      <td>100000</td>\n",
              "    </tr>\n",
              "    <tr>\n",
              "      <th>999</th>\n",
              "      <td>1000</td>\n",
              "      <td>8b756f6231DDC6e</td>\n",
              "      <td>Lee</td>\n",
              "      <td>Tran</td>\n",
              "      <td>Female</td>\n",
              "      <td>deannablack@example.org</td>\n",
              "      <td>079.752.5424x67259</td>\n",
              "      <td>24-01-1947</td>\n",
              "      <td>Nurse, learning disability</td>\n",
              "      <td>90000</td>\n",
              "    </tr>\n",
              "  </tbody>\n",
              "</table>\n",
              "<p>979 rows × 10 columns</p>\n",
              "</div>"
            ],
            "text/plain": [
              "     Index          User Id First Name Last Name  Gender  \\\n",
              "0        1  8717bbf45cCDbEe     Shelia   Mahoney    Male   \n",
              "2        3  810Ce0F276Badec     Sheryl    Lowery  Female   \n",
              "4        5  9afFEafAe1CBBB9    Lindsey      Rice  Female   \n",
              "5        6  aF75e6dDEBC5b66     Sherry  Caldwell    Male   \n",
              "6        7  efeb05c7Cc94EA3     Ernest   Hoffman    Male   \n",
              "..     ...              ...        ...       ...     ...   \n",
              "995    996  fedF4c7Fd9e7cFa       Kurt    Bryant  Female   \n",
              "996    997  ECddaFEDdEc4FAB      Donna     Barry  Female   \n",
              "997    998  2adde51d8B8979E      Cathy  Mckinney  Female   \n",
              "998    999  Fb2FE369D1E171A   Jermaine    Phelps    Male   \n",
              "999   1000  8b756f6231DDC6e        Lee      Tran  Female   \n",
              "\n",
              "                       Email                  Phone Date of birth  \\\n",
              "0        pwarner@example.org           857.139.8239    27-01-2014   \n",
              "2        fhoward@example.org          (599)782-0605    25-11-2013   \n",
              "4           elin@example.net     (390)417-1635x3010    15-04-1923   \n",
              "5      kaitlin13@example.net             8537800927    06-08-1917   \n",
              "6     jeffharvey@example.com      093.655.7480x7895    22-12-1984   \n",
              "..                       ...                    ...           ...   \n",
              "995   lyonsdaisy@example.net           021.775.2933    05-01-1959   \n",
              "996  dariusbryan@example.com   001-149-710-7799x721    06-10-2001   \n",
              "997   georgechan@example.org  +1-750-774-4128x33265    13-05-1918   \n",
              "998      wanda04@example.net          (915)292-2254    31-08-1971   \n",
              "999  deannablack@example.org     079.752.5424x67259    24-01-1947   \n",
              "\n",
              "                           Job Title  Salary  \n",
              "0                  Probation officer   90000  \n",
              "2                               Copy   50000  \n",
              "4                Biomedical engineer  100000  \n",
              "5          Higher education lecturer   50000  \n",
              "6                     Health visitor   60000  \n",
              "..                               ...     ...  \n",
              "995                Personnel officer   90000  \n",
              "996          Education administrator   50000  \n",
              "997  Commercial/residential surveyor   60000  \n",
              "998                 Ambulance person  100000  \n",
              "999       Nurse, learning disability   90000  \n",
              "\n",
              "[979 rows x 10 columns]"
            ]
          },
          "execution_count": 6,
          "metadata": {},
          "output_type": "execute_result"
        }
      ],
      "execution_count": 6
    },
    {
      "id": "640b08a8-fa2a-43b7-9b78-65154039b47e",
      "cell_type": "markdown",
      "source": "13. Create two NumPy arrays, x and y, each containing 100 random float values between 0 and 1. Perform the\nfollowing tasks using Matplotlib and NumPy:\n\na) Create a scatter plot using x and y, setting the color of the points to red and the marker style to 'o'.\n\nb) Add a horizontal line at y = 0.5 using a dashed line style and label it as 'y = 0.5'.\n\nc) Add a vertical line at x = 0.5 using a dotted line style and label it as 'x = 0.5'.\n\nd) Label the x-axis as 'X-axis' and the y-axis as 'Y-axis'.\n\ne) Set the title of the plot as 'Advanced Scatter Plot of Random Values'.\n\nf) Display a legend for the scatter plot, the horizontal line, and the vertical line",
      "metadata": {}
    },
    {
      "id": "bd55e346-936e-4506-9db3-9e8d3468c12d",
      "cell_type": "code",
      "source": "#we can create the scatter plot with the specified conditions using Matplotlib and NumPy:\n\nimport matplotlib.pyplot as plt\n\n# Step 1: Create two NumPy arrays, x and y, each containing 100 random float values between 0 and 1\nx = np.random.rand(100)\ny = np.random.rand(100)\n\n# Step 2: Create the scatter plot\nplt.scatter(x, y, color='red', marker='o', label='Scatter plot')\n\n# Step 3: Add a horizontal line at y = 0.5 using a dashed line style\nplt.axhline(y=0.5, color='blue', linestyle='--', label='y = 0.5')\n\n# Step 4: Add a vertical line at x = 0.5 using a dotted line style\nplt.axvline(x=0.5, color='green', linestyle=':', label='x = 0.5')\n\n# Step 5: Label the x-axis and y-axis\nplt.xlabel('X-axis')\nplt.ylabel('Y-axis')\n\n# Step 6: Set the title of the plot\nplt.title('Advanced Scatter Plot of Random Values')\n\n# Step 7: Display a legend\nplt.legend()\n\n# Step 8: Show the plot\nplt.show()\n",
      "metadata": {},
      "outputs": [
        {
          "data": {
            "image/png": "[encoded data removed]",
            "text/plain": [
              "<Figure size 640x480 with 1 Axes>"
            ]
          },
          "metadata": {},
          "output_type": "display_data"
        }
      ],
      "execution_count": 19
    },
    {
      "id": "23a42af4-5e0a-4c96-be47-832f9ffd34ed",
      "cell_type": "markdown",
      "source": "14. Create a time-series dataset in a Pandas DataFrame with columns: 'Date', 'Temperature', 'Humidity' and\nPerform the following tasks using Matplotlib:\n\n\na) Plot the 'Temperature' and 'Humidity' on the same plot with different y-axes (left y-axis for 'Temperature' and\nright y-axis for 'Humidity').\n\nb) Label the x-axis as 'Date'.\n\nc) Set the title of the plot as 'Temperature and Humidity Over Time'.",
      "metadata": {}
    },
    {
      "id": "6ec63350-2516-4629-942f-a955bdc546c3",
      "cell_type": "code",
      "source": "#we an create a time-series dataset in a Pandas DataFrame and plot the 'Temperature' and 'Humidity' columns on the same plot with different y-axes using Matplotlib:\n\n# Step 1: Create a time-series DataFrame with 'Date', 'Temperature', and 'Humidity'\ndate_range = pd.date_range(start='2024-01-01', periods=30, freq='D')\ntemperature = np.random.randint(15, 35, size=30)  # Random temperatures between 15°C and 35°C\nhumidity = np.random.randint(30, 90, size=30)     # Random humidity between 30% and 90%\n\n# Creating the DataFrame\ndf = pd.DataFrame({'Date': date_range, 'Temperature': temperature, 'Humidity': humidity})\n\n# Step 2: Plot 'Temperature' and 'Humidity' with different y-axes\nfig, ax1 = plt.subplots()\n\n# Plot 'Temperature' on the left y-axis\nax1.plot(df['Date'], df['Temperature'], color='tab:red', label='Temperature')\nax1.set_xlabel('Date')            # Label x-axis\nax1.set_ylabel('Temperature (°C)', color='tab:red')\nax1.tick_params(axis='y', labelcolor='tab:red')\n\n# Create a second y-axis for 'Humidity'\nax2 = ax1.twinx()  # Instantiate a second y-axis that shares the same x-axis\nax2.plot(df['Date'], df['Humidity'], color='tab:blue', label='Humidity')\nax2.set_ylabel('Humidity (%)', color='tab:blue')  # Label right y-axis\nax2.tick_params(axis='y', labelcolor='tab:blue')\n\n# Step 3: Set the title of the plot\nplt.title('Temperature and Humidity Over Time')\n\n# Show the plot\nplt.show()\n",
      "metadata": {},
      "outputs": [
        {
          "data": {
            "image/png": "[encoded data removed]",
            "text/plain": [
              "<Figure size 640x480 with 2 Axes>"
            ]
          },
          "metadata": {},
          "output_type": "display_data"
        }
      ],
      "execution_count": 20
    },
    {
      "id": "93faaba8-4735-490f-838b-6c3101a0d55e",
      "cell_type": "markdown",
      "source": "15. Create a NumPy array data containing 1000 samples from a normal distribution. Perform the following\ntasks using Matplotlib:\n\na) Plot a histogram of the data with 30 bins.\n\nb) Overlay a line plot representing the normal distribution's probability density function (PDF).\n\nc) Label the x-axis as 'Value' and the y-axis as 'Frequency/Probability'.\n\nd) Set the title of the plot as 'Histogram with PDF Overlay'.",
      "metadata": {}
    },
    {
      "id": "33c58fa5-740f-491f-ae03-7252ffaa4bba",
      "cell_type": "code",
      "source": "import numpy as np\nimport matplotlib.pyplot as plt\nfrom scipy.stats import norm\n\n# Step 1: Generate 1000 samples from a normal distribution\ndata = np.random.normal(loc=0, scale=1, size=1000)\n\n# Step 2: Plot the histogram with 30 bins\nplt.hist(data, bins=30, density=True, alpha=0.6, color='g', label='Histogram')\n\n# Step 3: Overlay a line plot for the normal distribution's PDF\nxmin, xmax = plt.xlim()  # Get the range of x values from the histogram\nx = np.linspace(xmin, xmax, 100)  # Create 100 evenly spaced values between xmin and xmax\np = norm.pdf(x, 0, 1)  # Calculate the PDF for a normal distribution with mean 0 and std 1\n\nplt.plot(x, p, 'k', linewidth=2, label='Normal PDF')\n\n# Step 4: Label the x-axis and y-axis\nplt.xlabel('Value')\nplt.ylabel('Frequency/Probability')\n\n# Step 5: Set the title of the plot\nplt.title('Histogram with PDF Overlay')\n\n# Step 6: Show the legend\nplt.legend()\n\n# Display the plot\nplt.show()\n",
      "metadata": {},
      "outputs": [
        {
          "data": {
            "image/png": "[encoded data removed]",
            "text/plain": [
              "<Figure size 640x480 with 1 Axes>"
            ]
          },
          "metadata": {},
          "output_type": "display_data"
        }
      ],
      "execution_count": 22
    },
    {
      "id": "f97e08dd-514e-42d8-a9bb-dc441c91948b",
      "cell_type": "code",
      "source": "#16. Set the title of the plot as 'Histogram with PDF Overlay'.\n\n# Generate 1000 samples from a normal distribution\ndata = np.random.normal(loc=0, scale=1, size=1000)\n\n# Plot the histogram with 30 bins\nplt.hist(data, bins=30, density=True, alpha=0.6, color='g', label='Histogram')\n\n# Overlay a line plot for the normal distribution's PDF\nxmin, xmax = plt.xlim()  # Get the range of x values from the histogram\nx = np.linspace(xmin, xmax, 100)  # Create 100 evenly spaced values between xmin and xmax\np = norm.pdf(x, 0, 1)  # Calculate the PDF for a normal distribution with mean 0 and std 1\n\nplt.plot(x, p, 'k', linewidth=2, label='Normal PDF')\n\n# Label the x-axis and y-axis\nplt.xlabel('Value')\nplt.ylabel('Frequency/Probability')\n\n# Set the title of the plot\nplt.title('Histogram with PDF Overlay')  # Title of the plot\n\n# Show the legend\nplt.legend()\n\n# Display the plot\nplt.show()\n",
      "metadata": {},
      "outputs": [
        {
          "data": {
            "image/png": "[encoded data removed]",
            "text/plain": [
              "<Figure size 640x480 with 1 Axes>"
            ]
          },
          "metadata": {},
          "output_type": "display_data"
        }
      ],
      "execution_count": 23
    },
    {
      "id": "00b797f2-ec88-4e63-bbcb-37942340bd27",
      "cell_type": "markdown",
      "source": "17. Create a Seaborn scatter plot of two random arrays, color points based on their position relative to the\norigin (quadrants), add a legend, label the axes, and set the title as 'Quadrant-wise Scatter Plot'.",
      "metadata": {}
    },
    {
      "id": "cba5418b-2fe2-47f7-90a9-d42ef8e23923",
      "cell_type": "code",
      "source": "#we can create a Seaborn scatter plot of two random arrays, color the points based on their position relative to the origin (quadrants), and include labels, a legend, and a title:\n\nimport seaborn as sns\n\n# Generate random data\nnp.random.seed(0)  # For reproducibility\nx = np.random.rand(100) * 20 - 10  # Random values between -10 and 10\ny = np.random.rand(100) * 20 - 10  # Random values between -10 and 10\n\n# Create a DataFrame\ndf = pd.DataFrame({'x': x, 'y': y})\n\n# Define quadrants\nconditions = [\n    (df['x'] >= 0) & (df['y'] >= 0),  # Quadrant I\n    (df['x'] < 0) & (df['y'] >= 0),   # Quadrant II\n    (df['x'] < 0) & (df['y'] < 0),    # Quadrant III\n    (df['x'] >= 0) & (df['y'] < 0)    # Quadrant IV\n]\n\n# Define colors for each quadrant\ncolors = ['blue', 'green', 'red', 'orange']\nlabels = ['Quadrant I', 'Quadrant II', 'Quadrant III', 'Quadrant IV']\n\n# Assign colors based on conditions\ndf['color'] = np.select(conditions, colors, default='grey')\ndf['label'] = np.select(conditions, labels, default='Unknown')\n\n# Create the scatter plot using Seaborn\nplt.figure(figsize=(8, 6))\nsns.scatterplot(x='x', y='y', hue='label', palette=colors, data=df)\n\n# Label the axes and set the title\nplt.xlabel('X-axis')\nplt.ylabel('Y-axis')\nplt.title('Quadrant-wise Scatter Plot')\n\n# Show the legend\nplt.legend(title='Quadrants')\n\n# Display the plot\nplt.show()\n",
      "metadata": {},
      "outputs": [
        {
          "data": {
            "image/png": "[encoded data removed]",
            "text/plain": [
              "<Figure size 800x600 with 1 Axes>"
            ]
          },
          "metadata": {},
          "output_type": "display_data"
        }
      ],
      "execution_count": 24
    },
    {
      "id": "89d0f1e4-2920-47b6-a51d-cec72288a202",
      "cell_type": "markdown",
      "source": "18. With Bokeh, plot a line chart of a sine wave function, add grid lines, label the axes, and set the title as 'Sine\nWave Function'.\n\n",
      "metadata": {}
    },
    {
      "id": "ea1e9b9a-be1f-4922-aa4f-230202c09226",
      "cell_type": "code",
      "source": "#To create a line chart of a sine wave function using Bokeh, with grid lines, labeled axes, and a title, we can follow these steps:\n\nfrom bokeh.plotting import figure, show\nfrom bokeh.io import output_notebook\nimport numpy as np\n\n# Prepare the data\nx = np.linspace(0, 4 * np.pi, 100)  # x values from 0 to 4*pi\ny = np.sin(x)  # y values as sine of x\n\n# Output to notebook (if running in a Jupyter notebook)\noutput_notebook()\n\n# Create a new figure\np = figure(title='Sine Wave Function', x_axis_label='x', y_axis_label='sin(x)', tools='pan,wheel_zoom,box_zoom,reset')\n\n# Add line renderer\np.line(x, y, legend_label='sin(x)', line_width=2)\n\n# Add grid lines\np.grid.grid_line_color = 'gray'\np.grid.grid_line_alpha = 0.5\n\n# Show the plot\nshow(p)\n",
      "metadata": {},
      "outputs": [
        {
          "data": {
            "text/html": [
              "<style>\n",
              "        .bk-notebook-logo {\n",
              "            display: block;\n",
              "            width: 20px;\n",
              "            height: 20px;\n",
              "            background-image: url(data:image/png;base64,iVBORw0KGgoAAAANSUhEUgAAABQAAAAUCAYAAACNiR0NAAAABHNCSVQICAgIfAhkiAAAAAlwSFlzAAALEgAACxIB0t1+/AAAABx0RVh0U29mdHdhcmUAQWRvYmUgRmlyZXdvcmtzIENTNui8sowAAAOkSURBVDiNjZRtaJVlGMd/1/08zzln5zjP1LWcU9N0NkN8m2CYjpgQYQXqSs0I84OLIC0hkEKoPtiH3gmKoiJDU7QpLgoLjLIQCpEsNJ1vqUOdO7ppbuec5+V+rj4ctwzd8IIbbi6u+8f1539dt3A78eXC7QizUF7gyV1fD1Yqg4JWz84yffhm0qkFqBogB9rM8tZdtwVsPUhWhGcFJngGeWrPzHm5oaMmkfEg1usvLFyc8jLRqDOMru7AyC8saQr7GG7f5fvDeH7Ej8CM66nIF+8yngt6HWaKh7k49Soy9nXurCi1o3qUbS3zWfrYeQDTB/Qj6kX6Ybhw4B+bOYoLKCC9H3Nu/leUTZ1JdRWkkn2ldcCamzrcf47KKXdAJllSlxAOkRgyHsGC/zRday5Qld9DyoM4/q/rUoy/CXh3jzOu3bHUVZeU+DEn8FInkPBFlu3+nW3Nw0mk6vCDiWg8CeJaxEwuHS3+z5RgY+YBR6V1Z1nxSOfoaPa4LASWxxdNp+VWTk7+4vzaou8v8PN+xo+KY2xsw6une2frhw05CTYOmQvsEhjhWjn0bmXPjpE1+kplmmkP3suftwTubK9Vq22qKmrBhpY4jvd5afdRA3wGjFAgcnTK2s4hY0/GPNIb0nErGMCRxWOOX64Z8RAC4oCXdklmEvcL8o0BfkNK4lUg9HTl+oPlQxdNo3Mg4Nv175e/1LDGzZen30MEjRUtmXSfiTVu1kK8W4txyV6BMKlbgk3lMwYCiusNy9fVfvvwMxv8Ynl6vxoByANLTWplvuj/nF9m2+PDtt1eiHPBr1oIfhCChQMBw6Aw0UulqTKZdfVvfG7VcfIqLG9bcldL/+pdWTLxLUy8Qq38heUIjh4XlzZxzQm19lLFlr8vdQ97rjZVOLf8nclzckbcD4wxXMidpX30sFd37Fv/GtwwhzhxGVAprjbg0gCAEeIgwCZyTV2Z1REEW8O4py0wsjeloKoMr6iCY6dP92H6Vw/oTyICIthibxjm/DfN9lVz8IqtqKYLUXfoKVMVQVVJOElGjrnnUt9T9wbgp8AyYKaGlqingHZU/uG2NTZSVqwHQTWkx9hxjkpWDaCg6Ckj5qebgBVbT3V3NNXMSiWSDdGV3hrtzla7J+duwPOToIg42ChPQOQjspnSlp1V+Gjdged7+8UN5CRAV7a5EdFNwCjEaBR27b3W890TE7g24NAP/mMDXRWrGoFPQI9ls/MWO2dWFAar/xcOIImbbpA3zgAAAABJRU5ErkJggg==);\n",
              "        }\n",
              "    </style>\n",
              "    <div>\n",
              "        <a href=\"https://bokeh.org\" target=\"_blank\" class=\"bk-notebook-logo\"></a>\n",
              "        <span id=\"p1001\">Loading BokehJS ...</span>\n",
              "    </div>\n"
            ]
          },
          "metadata": {},
          "output_type": "display_data"
        },
        {
          "data": {
            "application/javascript": [
              "(function(root) {\n",
              "  function now() {\n",
              "    return new Date();\n",
              "  }\n",
              "\n",
              "  const force = true;\n",
              "\n",
              "  if (typeof root._bokeh_onload_callbacks === \"undefined\" || force === true) {\n",
              "    root._bokeh_onload_callbacks = [];\n",
              "    root._bokeh_is_loading = undefined;\n",
              "  }\n",
              "\n",
              "const JS_MIME_TYPE = 'application/javascript';\n",
              "  const HTML_MIME_TYPE = 'text/html';\n",
              "  const EXEC_MIME_TYPE = 'application/vnd.bokehjs_exec.v0+json';\n",
              "  const CLASS_NAME = 'output_bokeh rendered_html';\n",
              "\n",
              "  /**\n",
              "   * Render data to the DOM node\n",
              "   */\n",
              "  function render(props, node) {\n",
              "    const script = document.createElement(\"script\");\n",
              "    node.appendChild(script);\n",
              "  }\n",
              "\n",
              "  /**\n",
              "   * Handle when an output is cleared or removed\n",
              "   */\n",
              "  function handleClearOutput(event, handle) {\n",
              "    const cell = handle.cell;\n",
              "\n",
              "    const id = cell.output_area._bokeh_element_id;\n",
              "    const server_id = cell.output_area._bokeh_server_id;\n",
              "    // Clean up Bokeh references\n",
              "    if (id != null && id in Bokeh.index) {\n",
              "      Bokeh.index[id].model.document.clear();\n",
              "      delete Bokeh.index[id];\n",
              "    }\n",
              "\n",
              "    if (server_id !== undefined) {\n",
              "      // Clean up Bokeh references\n",
              "      const cmd_clean = \"from bokeh.io.state import curstate; print(curstate().uuid_to_server['\" + server_id + \"'].get_sessions()[0].document.roots[0]._id)\";\n",
              "      cell.notebook.kernel.execute(cmd_clean, {\n",
              "        iopub: {\n",
              "          output: function(msg) {\n",
              "            const id = msg.content.text.trim();\n",
              "            if (id in Bokeh.index) {\n",
              "              Bokeh.index[id].model.document.clear();\n",
              "              delete Bokeh.index[id];\n",
              "            }\n",
              "          }\n",
              "        }\n",
              "      });\n",
              "      // Destroy server and session\n",
              "      const cmd_destroy = \"import bokeh.io.notebook as ion; ion.destroy_server('\" + server_id + \"')\";\n",
              "      cell.notebook.kernel.execute(cmd_destroy);\n",
              "    }\n",
              "  }\n",
              "\n",
              "  /**\n",
              "   * Handle when a new output is added\n",
              "   */\n",
              "  function handleAddOutput(event, handle) {\n",
              "    const output_area = handle.output_area;\n",
              "    const output = handle.output;\n",
              "\n",
              "    // limit handleAddOutput to display_data with EXEC_MIME_TYPE content only\n",
              "    if ((output.output_type != \"display_data\") || (!Object.prototype.hasOwnProperty.call(output.data, EXEC_MIME_TYPE))) {\n",
              "      return\n",
              "    }\n",
              "\n",
              "    const toinsert = output_area.element.find(\".\" + CLASS_NAME.split(' ')[0]);\n",
              "\n",
              "    if (output.metadata[EXEC_MIME_TYPE][\"id\"] !== undefined) {\n",
              "      toinsert[toinsert.length - 1].firstChild.textContent = output.data[JS_MIME_TYPE];\n",
              "      // store reference to embed id on output_area\n",
              "      output_area._bokeh_element_id = output.metadata[EXEC_MIME_TYPE][\"id\"];\n",
              "    }\n",
              "    if (output.metadata[EXEC_MIME_TYPE][\"server_id\"] !== undefined) {\n",
              "      const bk_div = document.createElement(\"div\");\n",
              "      bk_div.innerHTML = output.data[HTML_MIME_TYPE];\n",
              "      const script_attrs = bk_div.children[0].attributes;\n",
              "      for (let i = 0; i < script_attrs.length; i++) {\n",
              "        toinsert[toinsert.length - 1].firstChild.setAttribute(script_attrs[i].name, script_attrs[i].value);\n",
              "        toinsert[toinsert.length - 1].firstChild.textContent = bk_div.children[0].textContent\n",
              "      }\n",
              "      // store reference to server id on output_area\n",
              "      output_area._bokeh_server_id = output.metadata[EXEC_MIME_TYPE][\"server_id\"];\n",
              "    }\n",
              "  }\n",
              "\n",
              "  function register_renderer(events, OutputArea) {\n",
              "\n",
              "    function append_mime(data, metadata, element) {\n",
              "      // create a DOM node to render to\n",
              "      const toinsert = this.create_output_subarea(\n",
              "        metadata,\n",
              "        CLASS_NAME,\n",
              "        EXEC_MIME_TYPE\n",
              "      );\n",
              "      this.keyboard_manager.register_events(toinsert);\n",
              "      // Render to node\n",
              "      const props = {data: data, metadata: metadata[EXEC_MIME_TYPE]};\n",
              "      render(props, toinsert[toinsert.length - 1]);\n",
              "      element.append(toinsert);\n",
              "      return toinsert\n",
              "    }\n",
              "\n",
              "    /* Handle when an output is cleared or removed */\n",
              "    events.on('clear_output.CodeCell', handleClearOutput);\n",
              "    events.on('delete.Cell', handleClearOutput);\n",
              "\n",
              "    /* Handle when a new output is added */\n",
              "    events.on('output_added.OutputArea', handleAddOutput);\n",
              "\n",
              "    /**\n",
              "     * Register the mime type and append_mime function with output_area\n",
              "     */\n",
              "    OutputArea.prototype.register_mime_type(EXEC_MIME_TYPE, append_mime, {\n",
              "      /* Is output safe? */\n",
              "      safe: true,\n",
              "      /* Index of renderer in `output_area.display_order` */\n",
              "      index: 0\n",
              "    });\n",
              "  }\n",
              "\n",
              "  // register the mime type if in Jupyter Notebook environment and previously unregistered\n",
              "  if (root.Jupyter !== undefined) {\n",
              "    const events = require('base/js/events');\n",
              "    const OutputArea = require('notebook/js/outputarea').OutputArea;\n",
              "\n",
              "    if (OutputArea.prototype.mime_types().indexOf(EXEC_MIME_TYPE) == -1) {\n",
              "      register_renderer(events, OutputArea);\n",
              "    }\n",
              "  }\n",
              "  if (typeof (root._bokeh_timeout) === \"undefined\" || force === true) {\n",
              "    root._bokeh_timeout = Date.now() + 5000;\n",
              "    root._bokeh_failed_load = false;\n",
              "  }\n",
              "\n",
              "  const NB_LOAD_WARNING = {'data': {'text/html':\n",
              "     \"<div style='background-color: #fdd'>\\n\"+\n",
              "     \"<p>\\n\"+\n",
              "     \"BokehJS does not appear to have successfully loaded. If loading BokehJS from CDN, this \\n\"+\n",
              "     \"may be due to a slow or bad network connection. Possible fixes:\\n\"+\n",
              "     \"</p>\\n\"+\n",
              "     \"<ul>\\n\"+\n",
              "     \"<li>re-rerun `output_notebook()` to attempt to load from CDN again, or</li>\\n\"+\n",
              "     \"<li>use INLINE resources instead, as so:</li>\\n\"+\n",
              "     \"</ul>\\n\"+\n",
              "     \"<code>\\n\"+\n",
              "     \"from bokeh.resources import INLINE\\n\"+\n",
              "     \"output_notebook(resources=INLINE)\\n\"+\n",
              "     \"</code>\\n\"+\n",
              "     \"</div>\"}};\n",
              "\n",
              "  function display_loaded() {\n",
              "    const el = document.getElementById(\"p1001\");\n",
              "    if (el != null) {\n",
              "      el.textContent = \"BokehJS is loading...\";\n",
              "    }\n",
              "    if (root.Bokeh !== undefined) {\n",
              "      if (el != null) {\n",
              "        el.textContent = \"BokehJS \" + root.Bokeh.version + \" successfully loaded.\";\n",
              "      }\n",
              "    } else if (Date.now() < root._bokeh_timeout) {\n",
              "      setTimeout(display_loaded, 100)\n",
              "    }\n",
              "  }\n",
              "\n",
              "  function run_callbacks() {\n",
              "    try {\n",
              "      root._bokeh_onload_callbacks.forEach(function(callback) {\n",
              "        if (callback != null)\n",
              "          callback();\n",
              "      });\n",
              "    } finally {\n",
              "      delete root._bokeh_onload_callbacks\n",
              "    }\n",
              "    console.debug(\"Bokeh: all callbacks have finished\");\n",
              "  }\n",
              "\n",
              "  function load_libs(css_urls, js_urls, callback) {\n",
              "    if (css_urls == null) css_urls = [];\n",
              "    if (js_urls == null) js_urls = [];\n",
              "\n",
              "    root._bokeh_onload_callbacks.push(callback);\n",
              "    if (root._bokeh_is_loading > 0) {\n",
              "      console.debug(\"Bokeh: BokehJS is being loaded, scheduling callback at\", now());\n",
              "      return null;\n",
              "    }\n",
              "    if (js_urls == null || js_urls.length === 0) {\n",
              "      run_callbacks();\n",
              "      return null;\n",
              "    }\n",
              "    console.debug(\"Bokeh: BokehJS not loaded, scheduling load and callback at\", now());\n",
              "    root._bokeh_is_loading = css_urls.length + js_urls.length;\n",
              "\n",
              "    function on_load() {\n",
              "      root._bokeh_is_loading--;\n",
              "      if (root._bokeh_is_loading === 0) {\n",
              "        console.debug(\"Bokeh: all BokehJS libraries/stylesheets loaded\");\n",
              "        run_callbacks()\n",
              "      }\n",
              "    }\n",
              "\n",
              "    function on_error(url) {\n",
              "      console.error(\"failed to load \" + url);\n",
              "    }\n",
              "\n",
              "    for (let i = 0; i < css_urls.length; i++) {\n",
              "      const url = css_urls[i];\n",
              "      const element = document.createElement(\"link\");\n",
              "      element.onload = on_load;\n",
              "      element.onerror = on_error.bind(null, url);\n",
              "      element.rel = \"stylesheet\";\n",
              "      element.type = \"text/css\";\n",
              "      element.href = url;\n",
              "      console.debug(\"Bokeh: injecting link tag for BokehJS stylesheet: \", url);\n",
              "      document.body.appendChild(element);\n",
              "    }\n",
              "\n",
              "    for (let i = 0; i < js_urls.length; i++) {\n",
              "      const url = js_urls[i];\n",
              "      const element = document.createElement('script');\n",
              "      element.onload = on_load;\n",
              "      element.onerror = on_error.bind(null, url);\n",
              "      element.async = false;\n",
              "      element.src = url;\n",
              "      console.debug(\"Bokeh: injecting script tag for BokehJS library: \", url);\n",
              "      document.head.appendChild(element);\n",
              "    }\n",
              "  };\n",
              "\n",
              "  function inject_raw_css(css) {\n",
              "    const element = document.createElement(\"style\");\n",
              "    element.appendChild(document.createTextNode(css));\n",
              "    document.body.appendChild(element);\n",
              "  }\n",
              "\n",
              "  const js_urls = [\"https://cdn.bokeh.org/bokeh/release/bokeh-3.0.3.min.js\", \"https://cdn.bokeh.org/bokeh/release/bokeh-gl-3.0.3.min.js\", \"https://cdn.bokeh.org/bokeh/release/bokeh-widgets-3.0.3.min.js\", \"https://cdn.bokeh.org/bokeh/release/bokeh-tables-3.0.3.min.js\", \"https://cdn.bokeh.org/bokeh/release/bokeh-mathjax-3.0.3.min.js\"];\n",
              "  const css_urls = [];\n",
              "\n",
              "  const inline_js = [    function(Bokeh) {\n",
              "      Bokeh.set_log_level(\"info\");\n",
              "    },\n",
              "function(Bokeh) {\n",
              "    }\n",
              "  ];\n",
              "\n",
              "  function run_inline_js() {\n",
              "    if (root.Bokeh !== undefined || force === true) {\n",
              "          for (let i = 0; i < inline_js.length; i++) {\n",
              "      inline_js[i].call(root, root.Bokeh);\n",
              "    }\n",
              "if (force === true) {\n",
              "        display_loaded();\n",
              "      }} else if (Date.now() < root._bokeh_timeout) {\n",
              "      setTimeout(run_inline_js, 100);\n",
              "    } else if (!root._bokeh_failed_load) {\n",
              "      console.log(\"Bokeh: BokehJS failed to load within specified timeout.\");\n",
              "      root._bokeh_failed_load = true;\n",
              "    } else if (force !== true) {\n",
              "      const cell = $(document.getElementById(\"p1001\")).parents('.cell').data().cell;\n",
              "      cell.output_area.append_execute_result(NB_LOAD_WARNING)\n",
              "    }\n",
              "  }\n",
              "\n",
              "  if (root._bokeh_is_loading === 0) {\n",
              "    console.debug(\"Bokeh: BokehJS loaded, going straight to plotting\");\n",
              "    run_inline_js();\n",
              "  } else {\n",
              "    load_libs(css_urls, js_urls, function() {\n",
              "      console.debug(\"Bokeh: BokehJS plotting callback run at\", now());\n",
              "      run_inline_js();\n",
              "    });\n",
              "  }\n",
              "}(window));"
            ],
            "application/vnd.bokehjs_load.v0+json": "(function(root) {\n  function now() {\n    return new Date();\n  }\n\n  const force = true;\n\n  if (typeof root._bokeh_onload_callbacks === \"undefined\" || force === true) {\n    root._bokeh_onload_callbacks = [];\n    root._bokeh_is_loading = undefined;\n  }\n\n\n  if (typeof (root._bokeh_timeout) === \"undefined\" || force === true) {\n    root._bokeh_timeout = Date.now() + 5000;\n    root._bokeh_failed_load = false;\n  }\n\n  const NB_LOAD_WARNING = {'data': {'text/html':\n     \"<div style='background-color: #fdd'>\\n\"+\n     \"<p>\\n\"+\n     \"BokehJS does not appear to have successfully loaded. If loading BokehJS from CDN, this \\n\"+\n     \"may be due to a slow or bad network connection. Possible fixes:\\n\"+\n     \"</p>\\n\"+\n     \"<ul>\\n\"+\n     \"<li>re-rerun `output_notebook()` to attempt to load from CDN again, or</li>\\n\"+\n     \"<li>use INLINE resources instead, as so:</li>\\n\"+\n     \"</ul>\\n\"+\n     \"<code>\\n\"+\n     \"from bokeh.resources import INLINE\\n\"+\n     \"output_notebook(resources=INLINE)\\n\"+\n     \"</code>\\n\"+\n     \"</div>\"}};\n\n  function display_loaded() {\n    const el = document.getElementById(\"p1001\");\n    if (el != null) {\n      el.textContent = \"BokehJS is loading...\";\n    }\n    if (root.Bokeh !== undefined) {\n      if (el != null) {\n        el.textContent = \"BokehJS \" + root.Bokeh.version + \" successfully loaded.\";\n      }\n    } else if (Date.now() < root._bokeh_timeout) {\n      setTimeout(display_loaded, 100)\n    }\n  }\n\n  function run_callbacks() {\n    try {\n      root._bokeh_onload_callbacks.forEach(function(callback) {\n        if (callback != null)\n          callback();\n      });\n    } finally {\n      delete root._bokeh_onload_callbacks\n    }\n    console.debug(\"Bokeh: all callbacks have finished\");\n  }\n\n  function load_libs(css_urls, js_urls, callback) {\n    if (css_urls == null) css_urls = [];\n    if (js_urls == null) js_urls = [];\n\n    root._bokeh_onload_callbacks.push(callback);\n    if (root._bokeh_is_loading > 0) {\n      console.debug(\"Bokeh: BokehJS is being loaded, scheduling callback at\", now());\n      return null;\n    }\n    if (js_urls == null || js_urls.length === 0) {\n      run_callbacks();\n      return null;\n    }\n    console.debug(\"Bokeh: BokehJS not loaded, scheduling load and callback at\", now());\n    root._bokeh_is_loading = css_urls.length + js_urls.length;\n\n    function on_load() {\n      root._bokeh_is_loading--;\n      if (root._bokeh_is_loading === 0) {\n        console.debug(\"Bokeh: all BokehJS libraries/stylesheets loaded\");\n        run_callbacks()\n      }\n    }\n\n    function on_error(url) {\n      console.error(\"failed to load \" + url);\n    }\n\n    for (let i = 0; i < css_urls.length; i++) {\n      const url = css_urls[i];\n      const element = document.createElement(\"link\");\n      element.onload = on_load;\n      element.onerror = on_error.bind(null, url);\n      element.rel = \"stylesheet\";\n      element.type = \"text/css\";\n      element.href = url;\n      console.debug(\"Bokeh: injecting link tag for BokehJS stylesheet: \", url);\n      document.body.appendChild(element);\n    }\n\n    for (let i = 0; i < js_urls.length; i++) {\n      const url = js_urls[i];\n      const element = document.createElement('script');\n      element.onload = on_load;\n      element.onerror = on_error.bind(null, url);\n      element.async = false;\n      element.src = url;\n      console.debug(\"Bokeh: injecting script tag for BokehJS library: \", url);\n      document.head.appendChild(element);\n    }\n  };\n\n  function inject_raw_css(css) {\n    const element = document.createElement(\"style\");\n    element.appendChild(document.createTextNode(css));\n    document.body.appendChild(element);\n  }\n\n  const js_urls = [\"https://cdn.bokeh.org/bokeh/release/bokeh-3.0.3.min.js\", \"https://cdn.bokeh.org/bokeh/release/bokeh-gl-3.0.3.min.js\", \"https://cdn.bokeh.org/bokeh/release/bokeh-widgets-3.0.3.min.js\", \"https://cdn.bokeh.org/bokeh/release/bokeh-tables-3.0.3.min.js\", \"https://cdn.bokeh.org/bokeh/release/bokeh-mathjax-3.0.3.min.js\"];\n  const css_urls = [];\n\n  const inline_js = [    function(Bokeh) {\n      Bokeh.set_log_level(\"info\");\n    },\nfunction(Bokeh) {\n    }\n  ];\n\n  function run_inline_js() {\n    if (root.Bokeh !== undefined || force === true) {\n          for (let i = 0; i < inline_js.length; i++) {\n      inline_js[i].call(root, root.Bokeh);\n    }\nif (force === true) {\n        display_loaded();\n      }} else if (Date.now() < root._bokeh_timeout) {\n      setTimeout(run_inline_js, 100);\n    } else if (!root._bokeh_failed_load) {\n      console.log(\"Bokeh: BokehJS failed to load within specified timeout.\");\n      root._bokeh_failed_load = true;\n    } else if (force !== true) {\n      const cell = $(document.getElementById(\"p1001\")).parents('.cell').data().cell;\n      cell.output_area.append_execute_result(NB_LOAD_WARNING)\n    }\n  }\n\n  if (root._bokeh_is_loading === 0) {\n    console.debug(\"Bokeh: BokehJS loaded, going straight to plotting\");\n    run_inline_js();\n  } else {\n    load_libs(css_urls, js_urls, function() {\n      console.debug(\"Bokeh: BokehJS plotting callback run at\", now());\n      run_inline_js();\n    });\n  }\n}(window));"
          },
          "metadata": {},
          "output_type": "display_data"
        },
        {
          "data": {
            "text/html": [
              "\n",
              "  <div id=\"64364eb4-b31e-4de7-b3c0-7bfa4075fe84\" data-root-id=\"p1002\" style=\"display: contents;\"></div>\n"
            ]
          },
          "metadata": {},
          "output_type": "display_data"
        },
        {
          "data": {
            "application/javascript": [
              "(function(root) {\n",
              "  function embed_document(root) {\n",
              "  const docs_json = {\"f62a2721-7853-44ee-b7fe-b23f84e18c93\":{\"version\":\"3.0.3\",\"title\":\"Bokeh Application\",\"defs\":[],\"roots\":[{\"type\":\"object\",\"name\":\"Figure\",\"id\":\"p1002\",\"attributes\":{\"x_range\":{\"type\":\"object\",\"name\":\"DataRange1d\",\"id\":\"p1003\"},\"y_range\":{\"type\":\"object\",\"name\":\"DataRange1d\",\"id\":\"p1004\"},\"x_scale\":{\"type\":\"object\",\"name\":\"LinearScale\",\"id\":\"p1016\"},\"y_scale\":{\"type\":\"object\",\"name\":\"LinearScale\",\"id\":\"p1018\"},\"title\":{\"type\":\"object\",\"name\":\"Title\",\"id\":\"p1005\",\"attributes\":{\"text\":\"Sine Wave Function\"}},\"renderers\":[{\"type\":\"object\",\"name\":\"GlyphRenderer\",\"id\":\"p1051\",\"attributes\":{\"data_source\":{\"type\":\"object\",\"name\":\"ColumnDataSource\",\"id\":\"p1045\",\"attributes\":{\"selected\":{\"type\":\"object\",\"name\":\"Selection\",\"id\":\"p1046\",\"attributes\":{\"indices\":[],\"line_indices\":[]}},\"selection_policy\":{\"type\":\"object\",\"name\":\"UnionRenderers\",\"id\":\"p1047\"},\"data\":{\"type\":\"map\",\"entries\":[[\"x\",{\"type\":\"ndarray\",\"array\":{\"type\":\"bytes\",\"data\":\"AAAAAAAAAACRGkt8Vz/AP5EaS3xXP9A/2qdwOgNf2D+RGkt8Vz/gPzXhXVstT+Q/2qdwOgNf6D9+boMZ2W7sP5EaS3xXP/A/433Ua0JH8j814V1bLU/0P4dE50oYV/Y/2qdwOgNf+D8sC/op7mb6P35ugxnZbvw/0NEMCcR2/j+RGkt8Vz8AQDrMD/RMQwFA433Ua0JHAkCML5njN0sDQDXhXVstTwRA3pIi0yJTBUCHROdKGFcGQDD2q8INWwdA2qdwOgNfCECDWTWy+GIJQCwL+inuZgpA1by+oeNqC0B+boMZ2W4MQCcgSJHOcg1A0NEMCcR2DkB5g9GAuXoPQJEaS3xXPxBAZnMtOFLBEEA6zA/0TEMRQA8l8q9HxRFA433Ua0JHEkC41rYnPckSQIwvmeM3SxNAYYh7nzLNE0A14V1bLU8UQAo6QBco0RRA3pIi0yJTFUCz6wSPHdUVQIdE50oYVxZAXJ3JBhPZFkAw9qvCDVsXQAVPjn4I3RdA2qdwOgNfGECuAFP2/eAYQINZNbL4YhlAV7IXbvPkGUAsC/op7mYaQABk3OXo6BpA1by+oeNqG0CpFaFd3uwbQH5ugxnZbhxAUsdl1dPwHEAnIEiRznIdQPt4Kk3J9B1A0NEMCcR2HkCkKu/EvvgeQHmD0YC5eh9ATdyzPLT8H0CRGkt8Vz8gQPtGPNpUgCBAZnMtOFLBIEDQnx6WTwIhQDrMD/RMQyFApPgAUkqEIUAPJfKvR8UhQHlR4w1FBiJA433Ua0JHIkBNqsXJP4giQLjWtic9ySJAIgOohToKI0CML5njN0sjQPZbikE1jCNAYYh7nzLNI0DLtGz9Lw4kQDXhXVstTyRAoA1PuSqQJEAKOkAXKNEkQHRmMXUlEiVA3pIi0yJTJUBJvxMxIJQlQLPrBI8d1SVAHRj27BoWJkCHROdKGFcmQPJw2KgVmCZAXJ3JBhPZJkDGybpkEBonQDD2q8INWydAmyKdIAucJ0AFT45+CN0nQG97f9wFHihA2qdwOgNfKEBE1GGYAKAoQK4AU/b94ChAGC1EVPshKUA=\"},\"shape\":[100],\"dtype\":\"float64\",\"order\":\"little\"}],[\"y\",{\"type\":\"ndarray\",\"array\":{\"type\":\"bytes\",\"data\":\"AAAAAAAAAADwgwJ4LjTAP5qI2QHPEtA/+5MNU1HJ1z8ZTT7q2B3fP0aFmgwa+eI/ABg/lCAV5j+IQCEcMdboP3fOhmLzMOs/EyzujrQb7T/9Izwlj47uPxccgYyLg+8/g6xao7j27z9mZrL8O+bvP7+X94FZUu8/xVNiW3I97j9RB8Ai+6vsP5FWKYlppOo/oSg6uxkv6D/Th2bxK1blPyZGRbpaJeI/8qg+VZVT3T/4C4p0qOPVP+UppLIiM8w/3FNHxZdVuD/J23zJpD6gv+3ENsZjOcS/wo12/ecH0r/dgWKM2KjZv2MTsJELcOC/83ixWvXH47+358MBZM7mv5eCD4nhdum/rExY6Hq267+TIxAn7YPtvwSssILL1+6/70I4BJ6s77/vOc8G+P7vvzTGy1KGze+/3176khQZ77/C8a4NiuTtvzGcHq/dNOy/l0FFlgER6r+FGZN4xoHnvx8WPFK3keS/Cli7+O1M4b+HQNqEwoHbv9kfIiFb+NO/gKyggGI5yL8EhrXMjDywvyGGtcyMPLA/jqyggGI5yD/gHyIhW/jTP39A2oTCgds/DVi7+O1M4T8bFjxSt5HkP4cZk3jGgec/lUFFlgER6j8ynB6v3TTsP8Hxrg2K5O0/4F76khQZ7z80xstShs3vP+85zwb4/u8/8EI4BJ6s7z8DrLCCy9fuP5UjECftg+0/p0xY6Hq26z+Vgg+J4XbpP7fnwwFkzuY/9nixWvXH4z9dE7CRC3DgP9eBYozYqNk/w412/ecH0j/+xDbGYznEP0/bfMmkPqA/+FNHxZdVuL/UKaSyIjPMv+gLinSo49W/+Kg+VZVT3b8lRkW6WiXiv8+HZvErVuW/pig6uxkv6L+TVimJaaTqv1EHwCL7q+y/xFNiW3I97r/Al/eBWVLvv2Zmsvw75u+/g6xao7j2778YHIGMi4Pvv/sjPCWPju6/EyzujrQb7b94zoZi8zDrv4xAIRwx1ui//Bc/lCAV5r9GhZoMGvnivx9NPurYHd+/65MNU1HJ17+SiNkBzxLQv/GDAnguNMC/B1wUMyamwbw=\"},\"shape\":[100],\"dtype\":\"float64\",\"order\":\"little\"}]]}}},\"view\":{\"type\":\"object\",\"name\":\"CDSView\",\"id\":\"p1052\",\"attributes\":{\"filter\":{\"type\":\"object\",\"name\":\"AllIndices\",\"id\":\"p1053\"}}},\"glyph\":{\"type\":\"object\",\"name\":\"Line\",\"id\":\"p1048\",\"attributes\":{\"x\":{\"type\":\"field\",\"field\":\"x\"},\"y\":{\"type\":\"field\",\"field\":\"y\"},\"line_color\":\"#1f77b4\",\"line_width\":2}},\"nonselection_glyph\":{\"type\":\"object\",\"name\":\"Line\",\"id\":\"p1049\",\"attributes\":{\"x\":{\"type\":\"field\",\"field\":\"x\"},\"y\":{\"type\":\"field\",\"field\":\"y\"},\"line_color\":\"#1f77b4\",\"line_alpha\":0.1,\"line_width\":2}},\"muted_glyph\":{\"type\":\"object\",\"name\":\"Line\",\"id\":\"p1050\",\"attributes\":{\"x\":{\"type\":\"field\",\"field\":\"x\"},\"y\":{\"type\":\"field\",\"field\":\"y\"},\"line_color\":\"#1f77b4\",\"line_alpha\":0.2,\"line_width\":2}}}}],\"toolbar\":{\"type\":\"object\",\"name\":\"Toolbar\",\"id\":\"p1007\",\"attributes\":{\"tools\":[{\"type\":\"object\",\"name\":\"PanTool\",\"id\":\"p1034\"},{\"type\":\"object\",\"name\":\"WheelZoomTool\",\"id\":\"p1035\"},{\"type\":\"object\",\"name\":\"BoxZoomTool\",\"id\":\"p1036\",\"attributes\":{\"overlay\":{\"type\":\"object\",\"name\":\"BoxAnnotation\",\"id\":\"p1037\",\"attributes\":{\"syncable\":false,\"level\":\"overlay\",\"visible\":false,\"left_units\":\"canvas\",\"right_units\":\"canvas\",\"bottom_units\":\"canvas\",\"top_units\":\"canvas\",\"line_color\":\"black\",\"line_alpha\":1.0,\"line_width\":2,\"line_dash\":[4,4],\"fill_color\":\"lightgrey\",\"fill_alpha\":0.5}}}},{\"type\":\"object\",\"name\":\"ResetTool\",\"id\":\"p1038\"}]}},\"left\":[{\"type\":\"object\",\"name\":\"LinearAxis\",\"id\":\"p1027\",\"attributes\":{\"ticker\":{\"type\":\"object\",\"name\":\"BasicTicker\",\"id\":\"p1028\",\"attributes\":{\"mantissas\":[1,2,5]}},\"formatter\":{\"type\":\"object\",\"name\":\"BasicTickFormatter\",\"id\":\"p1029\"},\"axis_label\":\"sin(x)\",\"major_label_policy\":{\"type\":\"object\",\"name\":\"AllLabels\",\"id\":\"p1030\"}}}],\"below\":[{\"type\":\"object\",\"name\":\"LinearAxis\",\"id\":\"p1020\",\"attributes\":{\"ticker\":{\"type\":\"object\",\"name\":\"BasicTicker\",\"id\":\"p1021\",\"attributes\":{\"mantissas\":[1,2,5]}},\"formatter\":{\"type\":\"object\",\"name\":\"BasicTickFormatter\",\"id\":\"p1022\"},\"axis_label\":\"x\",\"major_label_policy\":{\"type\":\"object\",\"name\":\"AllLabels\",\"id\":\"p1023\"}}}],\"center\":[{\"type\":\"object\",\"name\":\"Grid\",\"id\":\"p1026\",\"attributes\":{\"axis\":{\"id\":\"p1020\"},\"grid_line_color\":\"gray\",\"grid_line_alpha\":0.5}},{\"type\":\"object\",\"name\":\"Grid\",\"id\":\"p1033\",\"attributes\":{\"dimension\":1,\"axis\":{\"id\":\"p1027\"},\"grid_line_color\":\"gray\",\"grid_line_alpha\":0.5}},{\"type\":\"object\",\"name\":\"Legend\",\"id\":\"p1067\",\"attributes\":{\"items\":[{\"type\":\"object\",\"name\":\"LegendItem\",\"id\":\"p1068\",\"attributes\":{\"label\":{\"type\":\"value\",\"value\":\"sin(x)\"},\"renderers\":[{\"id\":\"p1051\"}]}}]}}]}}]}};\n",
              "  const render_items = [{\"docid\":\"f62a2721-7853-44ee-b7fe-b23f84e18c93\",\"roots\":{\"p1002\":\"64364eb4-b31e-4de7-b3c0-7bfa4075fe84\"},\"root_ids\":[\"p1002\"]}];\n",
              "  root.Bokeh.embed.embed_items_notebook(docs_json, render_items);\n",
              "  }\n",
              "  if (root.Bokeh !== undefined) {\n",
              "    embed_document(root);\n",
              "  } else {\n",
              "    let attempts = 0;\n",
              "    const timer = setInterval(function(root) {\n",
              "      if (root.Bokeh !== undefined) {\n",
              "        clearInterval(timer);\n",
              "        embed_document(root);\n",
              "      } else {\n",
              "        attempts++;\n",
              "        if (attempts > 100) {\n",
              "          clearInterval(timer);\n",
              "          console.log(\"Bokeh: ERROR: Unable to run BokehJS code because BokehJS library is missing\");\n",
              "        }\n",
              "      }\n",
              "    }, 10, root)\n",
              "  }\n",
              "})(window);"
            ],
            "application/vnd.bokehjs_exec.v0+json": ""
          },
          "metadata": {
            "application/vnd.bokehjs_exec.v0+json": {
              "id": "p1002"
            }
          },
          "output_type": "display_data"
        }
      ],
      "execution_count": 25
    },
    {
      "id": "03658a22-c7e9-4c12-8497-271f7da476fe",
      "cell_type": "markdown",
      "source": "#19. Using Bokeh, generate a bar chart of randomly generated categorical data, color bars based on their\nvalues, add hover tooltips to display exact values, label the axes, and set the title as 'Random Categorical\nBar Chart'.\n",
      "metadata": {}
    },
    {
      "id": "4cc5d90c-91e9-447d-9b2a-08e00b658b62",
      "cell_type": "code",
      "source": "#To generate a bar chart of randomly generated categorical data using Bokeh, and include features like color bars based on their values, hover tooltips to display exact values, axis labels, and a title,\n\nfrom bokeh.plotting import figure, show\nfrom bokeh.io import output_notebook\nfrom bokeh.models import ColumnDataSource, HoverTool, FactorRange\nfrom bokeh.transform import linear_cmap\nimport pandas as pd\nimport numpy as np\nfrom bokeh.palettes import Viridis256\n\n# Output to notebook (if running in a Jupyter notebook)\noutput_notebook()\n\n# Generate random categorical data\ncategories = [f'Category {i}' for i in range(10)]\nvalues = np.random.randint(1, 100, size=len(categories))\n\n# Create a DataFrame\ndata = pd.DataFrame({'Category': categories, 'Value': values})\n\n# Create a ColumnDataSource\nsource = ColumnDataSource(data=data)\n\n# Create a new figure\np = figure(x_range=categories, title='Random Categorical Bar Chart', \n           x_axis_label='Category', y_axis_label='Value', \n           tools='hover,pan,box_zoom,reset', \n           tooltips=[(\"Category\", \"@Category\"), (\"Value\", \"@Value\")],\n           height=400, width=600)\n\n# Add bars to the plot with color mapping based on value\ncolor_mapper = linear_cmap('Value', palette=Viridis256, low=min(values), high=max(values))\np.vbar(x='Category', top='Value', width=0.9, source=source, \n       color=color_mapper, legend_label='Value')\n\n# Customize grid and axes\np.grid.grid_line_color = 'gray'\np.grid.grid_line_alpha = 0.5\np.xgrid.grid_line_color = None  # Hide x-axis grid lines\np.ygrid.grid_line_alpha = 0.5\n\n# Add a legend\np.legend.title = 'Value'\np.legend.location = 'top_left'\np.legend.orientation = 'horizontal'\n\n# Customize x-axis and y-axis labels\np.xaxis.major_label_orientation = 'vertical'\np.yaxis.axis_label_standoff = 12\n\n# Add title and axis labels styling\np.title.align = 'center'\np.title.text_font_size = '16pt'\np.xaxis.axis_label_text_font_size = '12pt'\np.yaxis.axis_label_text_font_size = '12pt'\n\n# Show the plot\nshow(p)\n\n\n",
      "metadata": {},
      "outputs": [
        {
          "data": {
            "text/html": [
              "<style>\n",
              "        .bk-notebook-logo {\n",
              "            display: block;\n",
              "            width: 20px;\n",
              "            height: 20px;\n",
              "            background-image: url(data:image/png;base64,iVBORw0KGgoAAAANSUhEUgAAABQAAAAUCAYAAACNiR0NAAAABHNCSVQICAgIfAhkiAAAAAlwSFlzAAALEgAACxIB0t1+/AAAABx0RVh0U29mdHdhcmUAQWRvYmUgRmlyZXdvcmtzIENTNui8sowAAAOkSURBVDiNjZRtaJVlGMd/1/08zzln5zjP1LWcU9N0NkN8m2CYjpgQYQXqSs0I84OLIC0hkEKoPtiH3gmKoiJDU7QpLgoLjLIQCpEsNJ1vqUOdO7ppbuec5+V+rj4ctwzd8IIbbi6u+8f1539dt3A78eXC7QizUF7gyV1fD1Yqg4JWz84yffhm0qkFqBogB9rM8tZdtwVsPUhWhGcFJngGeWrPzHm5oaMmkfEg1usvLFyc8jLRqDOMru7AyC8saQr7GG7f5fvDeH7Ej8CM66nIF+8yngt6HWaKh7k49Soy9nXurCi1o3qUbS3zWfrYeQDTB/Qj6kX6Ybhw4B+bOYoLKCC9H3Nu/leUTZ1JdRWkkn2ldcCamzrcf47KKXdAJllSlxAOkRgyHsGC/zRday5Qld9DyoM4/q/rUoy/CXh3jzOu3bHUVZeU+DEn8FInkPBFlu3+nW3Nw0mk6vCDiWg8CeJaxEwuHS3+z5RgY+YBR6V1Z1nxSOfoaPa4LASWxxdNp+VWTk7+4vzaou8v8PN+xo+KY2xsw6une2frhw05CTYOmQvsEhjhWjn0bmXPjpE1+kplmmkP3suftwTubK9Vq22qKmrBhpY4jvd5afdRA3wGjFAgcnTK2s4hY0/GPNIb0nErGMCRxWOOX64Z8RAC4oCXdklmEvcL8o0BfkNK4lUg9HTl+oPlQxdNo3Mg4Nv175e/1LDGzZen30MEjRUtmXSfiTVu1kK8W4txyV6BMKlbgk3lMwYCiusNy9fVfvvwMxv8Ynl6vxoByANLTWplvuj/nF9m2+PDtt1eiHPBr1oIfhCChQMBw6Aw0UulqTKZdfVvfG7VcfIqLG9bcldL/+pdWTLxLUy8Qq38heUIjh4XlzZxzQm19lLFlr8vdQ97rjZVOLf8nclzckbcD4wxXMidpX30sFd37Fv/GtwwhzhxGVAprjbg0gCAEeIgwCZyTV2Z1REEW8O4py0wsjeloKoMr6iCY6dP92H6Vw/oTyICIthibxjm/DfN9lVz8IqtqKYLUXfoKVMVQVVJOElGjrnnUt9T9wbgp8AyYKaGlqingHZU/uG2NTZSVqwHQTWkx9hxjkpWDaCg6Ckj5qebgBVbT3V3NNXMSiWSDdGV3hrtzla7J+duwPOToIg42ChPQOQjspnSlp1V+Gjdged7+8UN5CRAV7a5EdFNwCjEaBR27b3W890TE7g24NAP/mMDXRWrGoFPQI9ls/MWO2dWFAar/xcOIImbbpA3zgAAAABJRU5ErkJggg==);\n",
              "        }\n",
              "    </style>\n",
              "    <div>\n",
              "        <a href=\"https://bokeh.org\" target=\"_blank\" class=\"bk-notebook-logo\"></a>\n",
              "        <span id=\"p1887\">Loading BokehJS ...</span>\n",
              "    </div>\n"
            ]
          },
          "metadata": {},
          "output_type": "display_data"
        },
        {
          "data": {
            "application/javascript": [
              "(function(root) {\n",
              "  function now() {\n",
              "    return new Date();\n",
              "  }\n",
              "\n",
              "  const force = true;\n",
              "\n",
              "  if (typeof root._bokeh_onload_callbacks === \"undefined\" || force === true) {\n",
              "    root._bokeh_onload_callbacks = [];\n",
              "    root._bokeh_is_loading = undefined;\n",
              "  }\n",
              "\n",
              "const JS_MIME_TYPE = 'application/javascript';\n",
              "  const HTML_MIME_TYPE = 'text/html';\n",
              "  const EXEC_MIME_TYPE = 'application/vnd.bokehjs_exec.v0+json';\n",
              "  const CLASS_NAME = 'output_bokeh rendered_html';\n",
              "\n",
              "  /**\n",
              "   * Render data to the DOM node\n",
              "   */\n",
              "  function render(props, node) {\n",
              "    const script = document.createElement(\"script\");\n",
              "    node.appendChild(script);\n",
              "  }\n",
              "\n",
              "  /**\n",
              "   * Handle when an output is cleared or removed\n",
              "   */\n",
              "  function handleClearOutput(event, handle) {\n",
              "    const cell = handle.cell;\n",
              "\n",
              "    const id = cell.output_area._bokeh_element_id;\n",
              "    const server_id = cell.output_area._bokeh_server_id;\n",
              "    // Clean up Bokeh references\n",
              "    if (id != null && id in Bokeh.index) {\n",
              "      Bokeh.index[id].model.document.clear();\n",
              "      delete Bokeh.index[id];\n",
              "    }\n",
              "\n",
              "    if (server_id !== undefined) {\n",
              "      // Clean up Bokeh references\n",
              "      const cmd_clean = \"from bokeh.io.state import curstate; print(curstate().uuid_to_server['\" + server_id + \"'].get_sessions()[0].document.roots[0]._id)\";\n",
              "      cell.notebook.kernel.execute(cmd_clean, {\n",
              "        iopub: {\n",
              "          output: function(msg) {\n",
              "            const id = msg.content.text.trim();\n",
              "            if (id in Bokeh.index) {\n",
              "              Bokeh.index[id].model.document.clear();\n",
              "              delete Bokeh.index[id];\n",
              "            }\n",
              "          }\n",
              "        }\n",
              "      });\n",
              "      // Destroy server and session\n",
              "      const cmd_destroy = \"import bokeh.io.notebook as ion; ion.destroy_server('\" + server_id + \"')\";\n",
              "      cell.notebook.kernel.execute(cmd_destroy);\n",
              "    }\n",
              "  }\n",
              "\n",
              "  /**\n",
              "   * Handle when a new output is added\n",
              "   */\n",
              "  function handleAddOutput(event, handle) {\n",
              "    const output_area = handle.output_area;\n",
              "    const output = handle.output;\n",
              "\n",
              "    // limit handleAddOutput to display_data with EXEC_MIME_TYPE content only\n",
              "    if ((output.output_type != \"display_data\") || (!Object.prototype.hasOwnProperty.call(output.data, EXEC_MIME_TYPE))) {\n",
              "      return\n",
              "    }\n",
              "\n",
              "    const toinsert = output_area.element.find(\".\" + CLASS_NAME.split(' ')[0]);\n",
              "\n",
              "    if (output.metadata[EXEC_MIME_TYPE][\"id\"] !== undefined) {\n",
              "      toinsert[toinsert.length - 1].firstChild.textContent = output.data[JS_MIME_TYPE];\n",
              "      // store reference to embed id on output_area\n",
              "      output_area._bokeh_element_id = output.metadata[EXEC_MIME_TYPE][\"id\"];\n",
              "    }\n",
              "    if (output.metadata[EXEC_MIME_TYPE][\"server_id\"] !== undefined) {\n",
              "      const bk_div = document.createElement(\"div\");\n",
              "      bk_div.innerHTML = output.data[HTML_MIME_TYPE];\n",
              "      const script_attrs = bk_div.children[0].attributes;\n",
              "      for (let i = 0; i < script_attrs.length; i++) {\n",
              "        toinsert[toinsert.length - 1].firstChild.setAttribute(script_attrs[i].name, script_attrs[i].value);\n",
              "        toinsert[toinsert.length - 1].firstChild.textContent = bk_div.children[0].textContent\n",
              "      }\n",
              "      // store reference to server id on output_area\n",
              "      output_area._bokeh_server_id = output.metadata[EXEC_MIME_TYPE][\"server_id\"];\n",
              "    }\n",
              "  }\n",
              "\n",
              "  function register_renderer(events, OutputArea) {\n",
              "\n",
              "    function append_mime(data, metadata, element) {\n",
              "      // create a DOM node to render to\n",
              "      const toinsert = this.create_output_subarea(\n",
              "        metadata,\n",
              "        CLASS_NAME,\n",
              "        EXEC_MIME_TYPE\n",
              "      );\n",
              "      this.keyboard_manager.register_events(toinsert);\n",
              "      // Render to node\n",
              "      const props = {data: data, metadata: metadata[EXEC_MIME_TYPE]};\n",
              "      render(props, toinsert[toinsert.length - 1]);\n",
              "      element.append(toinsert);\n",
              "      return toinsert\n",
              "    }\n",
              "\n",
              "    /* Handle when an output is cleared or removed */\n",
              "    events.on('clear_output.CodeCell', handleClearOutput);\n",
              "    events.on('delete.Cell', handleClearOutput);\n",
              "\n",
              "    /* Handle when a new output is added */\n",
              "    events.on('output_added.OutputArea', handleAddOutput);\n",
              "\n",
              "    /**\n",
              "     * Register the mime type and append_mime function with output_area\n",
              "     */\n",
              "    OutputArea.prototype.register_mime_type(EXEC_MIME_TYPE, append_mime, {\n",
              "      /* Is output safe? */\n",
              "      safe: true,\n",
              "      /* Index of renderer in `output_area.display_order` */\n",
              "      index: 0\n",
              "    });\n",
              "  }\n",
              "\n",
              "  // register the mime type if in Jupyter Notebook environment and previously unregistered\n",
              "  if (root.Jupyter !== undefined) {\n",
              "    const events = require('base/js/events');\n",
              "    const OutputArea = require('notebook/js/outputarea').OutputArea;\n",
              "\n",
              "    if (OutputArea.prototype.mime_types().indexOf(EXEC_MIME_TYPE) == -1) {\n",
              "      register_renderer(events, OutputArea);\n",
              "    }\n",
              "  }\n",
              "  if (typeof (root._bokeh_timeout) === \"undefined\" || force === true) {\n",
              "    root._bokeh_timeout = Date.now() + 5000;\n",
              "    root._bokeh_failed_load = false;\n",
              "  }\n",
              "\n",
              "  const NB_LOAD_WARNING = {'data': {'text/html':\n",
              "     \"<div style='background-color: #fdd'>\\n\"+\n",
              "     \"<p>\\n\"+\n",
              "     \"BokehJS does not appear to have successfully loaded. If loading BokehJS from CDN, this \\n\"+\n",
              "     \"may be due to a slow or bad network connection. Possible fixes:\\n\"+\n",
              "     \"</p>\\n\"+\n",
              "     \"<ul>\\n\"+\n",
              "     \"<li>re-rerun `output_notebook()` to attempt to load from CDN again, or</li>\\n\"+\n",
              "     \"<li>use INLINE resources instead, as so:</li>\\n\"+\n",
              "     \"</ul>\\n\"+\n",
              "     \"<code>\\n\"+\n",
              "     \"from bokeh.resources import INLINE\\n\"+\n",
              "     \"output_notebook(resources=INLINE)\\n\"+\n",
              "     \"</code>\\n\"+\n",
              "     \"</div>\"}};\n",
              "\n",
              "  function display_loaded() {\n",
              "    const el = document.getElementById(\"p1887\");\n",
              "    if (el != null) {\n",
              "      el.textContent = \"BokehJS is loading...\";\n",
              "    }\n",
              "    if (root.Bokeh !== undefined) {\n",
              "      if (el != null) {\n",
              "        el.textContent = \"BokehJS \" + root.Bokeh.version + \" successfully loaded.\";\n",
              "      }\n",
              "    } else if (Date.now() < root._bokeh_timeout) {\n",
              "      setTimeout(display_loaded, 100)\n",
              "    }\n",
              "  }\n",
              "\n",
              "  function run_callbacks() {\n",
              "    try {\n",
              "      root._bokeh_onload_callbacks.forEach(function(callback) {\n",
              "        if (callback != null)\n",
              "          callback();\n",
              "      });\n",
              "    } finally {\n",
              "      delete root._bokeh_onload_callbacks\n",
              "    }\n",
              "    console.debug(\"Bokeh: all callbacks have finished\");\n",
              "  }\n",
              "\n",
              "  function load_libs(css_urls, js_urls, callback) {\n",
              "    if (css_urls == null) css_urls = [];\n",
              "    if (js_urls == null) js_urls = [];\n",
              "\n",
              "    root._bokeh_onload_callbacks.push(callback);\n",
              "    if (root._bokeh_is_loading > 0) {\n",
              "      console.debug(\"Bokeh: BokehJS is being loaded, scheduling callback at\", now());\n",
              "      return null;\n",
              "    }\n",
              "    if (js_urls == null || js_urls.length === 0) {\n",
              "      run_callbacks();\n",
              "      return null;\n",
              "    }\n",
              "    console.debug(\"Bokeh: BokehJS not loaded, scheduling load and callback at\", now());\n",
              "    root._bokeh_is_loading = css_urls.length + js_urls.length;\n",
              "\n",
              "    function on_load() {\n",
              "      root._bokeh_is_loading--;\n",
              "      if (root._bokeh_is_loading === 0) {\n",
              "        console.debug(\"Bokeh: all BokehJS libraries/stylesheets loaded\");\n",
              "        run_callbacks()\n",
              "      }\n",
              "    }\n",
              "\n",
              "    function on_error(url) {\n",
              "      console.error(\"failed to load \" + url);\n",
              "    }\n",
              "\n",
              "    for (let i = 0; i < css_urls.length; i++) {\n",
              "      const url = css_urls[i];\n",
              "      const element = document.createElement(\"link\");\n",
              "      element.onload = on_load;\n",
              "      element.onerror = on_error.bind(null, url);\n",
              "      element.rel = \"stylesheet\";\n",
              "      element.type = \"text/css\";\n",
              "      element.href = url;\n",
              "      console.debug(\"Bokeh: injecting link tag for BokehJS stylesheet: \", url);\n",
              "      document.body.appendChild(element);\n",
              "    }\n",
              "\n",
              "    for (let i = 0; i < js_urls.length; i++) {\n",
              "      const url = js_urls[i];\n",
              "      const element = document.createElement('script');\n",
              "      element.onload = on_load;\n",
              "      element.onerror = on_error.bind(null, url);\n",
              "      element.async = false;\n",
              "      element.src = url;\n",
              "      console.debug(\"Bokeh: injecting script tag for BokehJS library: \", url);\n",
              "      document.head.appendChild(element);\n",
              "    }\n",
              "  };\n",
              "\n",
              "  function inject_raw_css(css) {\n",
              "    const element = document.createElement(\"style\");\n",
              "    element.appendChild(document.createTextNode(css));\n",
              "    document.body.appendChild(element);\n",
              "  }\n",
              "\n",
              "  const js_urls = [\"https://cdn.bokeh.org/bokeh/release/bokeh-3.0.3.min.js\", \"https://cdn.bokeh.org/bokeh/release/bokeh-gl-3.0.3.min.js\", \"https://cdn.bokeh.org/bokeh/release/bokeh-widgets-3.0.3.min.js\", \"https://cdn.bokeh.org/bokeh/release/bokeh-tables-3.0.3.min.js\", \"https://cdn.bokeh.org/bokeh/release/bokeh-mathjax-3.0.3.min.js\"];\n",
              "  const css_urls = [];\n",
              "\n",
              "  const inline_js = [    function(Bokeh) {\n",
              "      Bokeh.set_log_level(\"info\");\n",
              "    },\n",
              "function(Bokeh) {\n",
              "    }\n",
              "  ];\n",
              "\n",
              "  function run_inline_js() {\n",
              "    if (root.Bokeh !== undefined || force === true) {\n",
              "          for (let i = 0; i < inline_js.length; i++) {\n",
              "      inline_js[i].call(root, root.Bokeh);\n",
              "    }\n",
              "if (force === true) {\n",
              "        display_loaded();\n",
              "      }} else if (Date.now() < root._bokeh_timeout) {\n",
              "      setTimeout(run_inline_js, 100);\n",
              "    } else if (!root._bokeh_failed_load) {\n",
              "      console.log(\"Bokeh: BokehJS failed to load within specified timeout.\");\n",
              "      root._bokeh_failed_load = true;\n",
              "    } else if (force !== true) {\n",
              "      const cell = $(document.getElementById(\"p1887\")).parents('.cell').data().cell;\n",
              "      cell.output_area.append_execute_result(NB_LOAD_WARNING)\n",
              "    }\n",
              "  }\n",
              "\n",
              "  if (root._bokeh_is_loading === 0) {\n",
              "    console.debug(\"Bokeh: BokehJS loaded, going straight to plotting\");\n",
              "    run_inline_js();\n",
              "  } else {\n",
              "    load_libs(css_urls, js_urls, function() {\n",
              "      console.debug(\"Bokeh: BokehJS plotting callback run at\", now());\n",
              "      run_inline_js();\n",
              "    });\n",
              "  }\n",
              "}(window));"
            ],
            "application/vnd.bokehjs_load.v0+json": "(function(root) {\n  function now() {\n    return new Date();\n  }\n\n  const force = true;\n\n  if (typeof root._bokeh_onload_callbacks === \"undefined\" || force === true) {\n    root._bokeh_onload_callbacks = [];\n    root._bokeh_is_loading = undefined;\n  }\n\n\n  if (typeof (root._bokeh_timeout) === \"undefined\" || force === true) {\n    root._bokeh_timeout = Date.now() + 5000;\n    root._bokeh_failed_load = false;\n  }\n\n  const NB_LOAD_WARNING = {'data': {'text/html':\n     \"<div style='background-color: #fdd'>\\n\"+\n     \"<p>\\n\"+\n     \"BokehJS does not appear to have successfully loaded. If loading BokehJS from CDN, this \\n\"+\n     \"may be due to a slow or bad network connection. Possible fixes:\\n\"+\n     \"</p>\\n\"+\n     \"<ul>\\n\"+\n     \"<li>re-rerun `output_notebook()` to attempt to load from CDN again, or</li>\\n\"+\n     \"<li>use INLINE resources instead, as so:</li>\\n\"+\n     \"</ul>\\n\"+\n     \"<code>\\n\"+\n     \"from bokeh.resources import INLINE\\n\"+\n     \"output_notebook(resources=INLINE)\\n\"+\n     \"</code>\\n\"+\n     \"</div>\"}};\n\n  function display_loaded() {\n    const el = document.getElementById(\"p1887\");\n    if (el != null) {\n      el.textContent = \"BokehJS is loading...\";\n    }\n    if (root.Bokeh !== undefined) {\n      if (el != null) {\n        el.textContent = \"BokehJS \" + root.Bokeh.version + \" successfully loaded.\";\n      }\n    } else if (Date.now() < root._bokeh_timeout) {\n      setTimeout(display_loaded, 100)\n    }\n  }\n\n  function run_callbacks() {\n    try {\n      root._bokeh_onload_callbacks.forEach(function(callback) {\n        if (callback != null)\n          callback();\n      });\n    } finally {\n      delete root._bokeh_onload_callbacks\n    }\n    console.debug(\"Bokeh: all callbacks have finished\");\n  }\n\n  function load_libs(css_urls, js_urls, callback) {\n    if (css_urls == null) css_urls = [];\n    if (js_urls == null) js_urls = [];\n\n    root._bokeh_onload_callbacks.push(callback);\n    if (root._bokeh_is_loading > 0) {\n      console.debug(\"Bokeh: BokehJS is being loaded, scheduling callback at\", now());\n      return null;\n    }\n    if (js_urls == null || js_urls.length === 0) {\n      run_callbacks();\n      return null;\n    }\n    console.debug(\"Bokeh: BokehJS not loaded, scheduling load and callback at\", now());\n    root._bokeh_is_loading = css_urls.length + js_urls.length;\n\n    function on_load() {\n      root._bokeh_is_loading--;\n      if (root._bokeh_is_loading === 0) {\n        console.debug(\"Bokeh: all BokehJS libraries/stylesheets loaded\");\n        run_callbacks()\n      }\n    }\n\n    function on_error(url) {\n      console.error(\"failed to load \" + url);\n    }\n\n    for (let i = 0; i < css_urls.length; i++) {\n      const url = css_urls[i];\n      const element = document.createElement(\"link\");\n      element.onload = on_load;\n      element.onerror = on_error.bind(null, url);\n      element.rel = \"stylesheet\";\n      element.type = \"text/css\";\n      element.href = url;\n      console.debug(\"Bokeh: injecting link tag for BokehJS stylesheet: \", url);\n      document.body.appendChild(element);\n    }\n\n    for (let i = 0; i < js_urls.length; i++) {\n      const url = js_urls[i];\n      const element = document.createElement('script');\n      element.onload = on_load;\n      element.onerror = on_error.bind(null, url);\n      element.async = false;\n      element.src = url;\n      console.debug(\"Bokeh: injecting script tag for BokehJS library: \", url);\n      document.head.appendChild(element);\n    }\n  };\n\n  function inject_raw_css(css) {\n    const element = document.createElement(\"style\");\n    element.appendChild(document.createTextNode(css));\n    document.body.appendChild(element);\n  }\n\n  const js_urls = [\"https://cdn.bokeh.org/bokeh/release/bokeh-3.0.3.min.js\", \"https://cdn.bokeh.org/bokeh/release/bokeh-gl-3.0.3.min.js\", \"https://cdn.bokeh.org/bokeh/release/bokeh-widgets-3.0.3.min.js\", \"https://cdn.bokeh.org/bokeh/release/bokeh-tables-3.0.3.min.js\", \"https://cdn.bokeh.org/bokeh/release/bokeh-mathjax-3.0.3.min.js\"];\n  const css_urls = [];\n\n  const inline_js = [    function(Bokeh) {\n      Bokeh.set_log_level(\"info\");\n    },\nfunction(Bokeh) {\n    }\n  ];\n\n  function run_inline_js() {\n    if (root.Bokeh !== undefined || force === true) {\n          for (let i = 0; i < inline_js.length; i++) {\n      inline_js[i].call(root, root.Bokeh);\n    }\nif (force === true) {\n        display_loaded();\n      }} else if (Date.now() < root._bokeh_timeout) {\n      setTimeout(run_inline_js, 100);\n    } else if (!root._bokeh_failed_load) {\n      console.log(\"Bokeh: BokehJS failed to load within specified timeout.\");\n      root._bokeh_failed_load = true;\n    } else if (force !== true) {\n      const cell = $(document.getElementById(\"p1887\")).parents('.cell').data().cell;\n      cell.output_area.append_execute_result(NB_LOAD_WARNING)\n    }\n  }\n\n  if (root._bokeh_is_loading === 0) {\n    console.debug(\"Bokeh: BokehJS loaded, going straight to plotting\");\n    run_inline_js();\n  } else {\n    load_libs(css_urls, js_urls, function() {\n      console.debug(\"Bokeh: BokehJS plotting callback run at\", now());\n      run_inline_js();\n    });\n  }\n}(window));"
          },
          "metadata": {},
          "output_type": "display_data"
        },
        {
          "data": {
            "text/html": [
              "\n",
              "  <div id=\"aa8c2b51-1bf1-47f7-9a27-91e8581146c0\" data-root-id=\"p1891\" style=\"display: contents;\"></div>\n"
            ]
          },
          "metadata": {},
          "output_type": "display_data"
        },
        {
          "data": {
            "application/javascript": [
              "(function(root) {\n",
              "  function embed_document(root) {\n",
              "  const docs_json = {\"0b670bf1-0d03-4275-8d01-48c909843ae0\":{\"version\":\"3.0.3\",\"title\":\"Bokeh Application\",\"defs\":[],\"roots\":[{\"type\":\"object\",\"name\":\"Figure\",\"id\":\"p1891\",\"attributes\":{\"height\":400,\"x_range\":{\"type\":\"object\",\"name\":\"FactorRange\",\"id\":\"p1901\",\"attributes\":{\"factors\":[\"Category 0\",\"Category 1\",\"Category 2\",\"Category 3\",\"Category 4\",\"Category 5\",\"Category 6\",\"Category 7\",\"Category 8\",\"Category 9\"]}},\"y_range\":{\"type\":\"object\",\"name\":\"DataRange1d\",\"id\":\"p1893\"},\"x_scale\":{\"type\":\"object\",\"name\":\"CategoricalScale\",\"id\":\"p1905\"},\"y_scale\":{\"type\":\"object\",\"name\":\"LinearScale\",\"id\":\"p1907\"},\"title\":{\"type\":\"object\",\"name\":\"Title\",\"id\":\"p1894\",\"attributes\":{\"text\":\"Random Categorical Bar Chart\",\"text_font_size\":\"16pt\",\"align\":\"center\"}},\"renderers\":[{\"type\":\"object\",\"name\":\"GlyphRenderer\",\"id\":\"p1940\",\"attributes\":{\"data_source\":{\"type\":\"object\",\"name\":\"ColumnDataSource\",\"id\":\"p1888\",\"attributes\":{\"selected\":{\"type\":\"object\",\"name\":\"Selection\",\"id\":\"p1889\",\"attributes\":{\"indices\":[],\"line_indices\":[]}},\"selection_policy\":{\"type\":\"object\",\"name\":\"UnionRenderers\",\"id\":\"p1890\"},\"data\":{\"type\":\"map\",\"entries\":[[\"index\",{\"type\":\"ndarray\",\"array\":{\"type\":\"bytes\",\"data\":\"AAAAAAEAAAACAAAAAwAAAAQAAAAFAAAABgAAAAcAAAAIAAAACQAAAA==\"},\"shape\":[10],\"dtype\":\"int32\",\"order\":\"little\"}],[\"Category\",{\"type\":\"ndarray\",\"array\":[\"Category 0\",\"Category 1\",\"Category 2\",\"Category 3\",\"Category 4\",\"Category 5\",\"Category 6\",\"Category 7\",\"Category 8\",\"Category 9\"],\"shape\":[10],\"dtype\":\"object\",\"order\":\"little\"}],[\"Value\",{\"type\":\"ndarray\",\"array\":{\"type\":\"bytes\",\"data\":\"IwAAADQAAAAfAAAANgAAADsAAAAsAAAAOAAAABMAAAAuAAAAWAAAAA==\"},\"shape\":[10],\"dtype\":\"int32\",\"order\":\"little\"}]]}}},\"view\":{\"type\":\"object\",\"name\":\"CDSView\",\"id\":\"p1941\",\"attributes\":{\"filter\":{\"type\":\"object\",\"name\":\"AllIndices\",\"id\":\"p1942\"}}},\"glyph\":{\"type\":\"object\",\"name\":\"VBar\",\"id\":\"p1937\",\"attributes\":{\"x\":{\"type\":\"field\",\"field\":\"Category\"},\"width\":{\"type\":\"value\",\"value\":0.9},\"top\":{\"type\":\"field\",\"field\":\"Value\"},\"line_color\":{\"type\":\"field\",\"field\":\"Value\",\"transform\":{\"type\":\"object\",\"name\":\"LinearColorMapper\",\"id\":\"p1933\",\"attributes\":{\"palette\":[\"#440154\",\"#440255\",\"#440357\",\"#450558\",\"#45065A\",\"#45085B\",\"#46095C\",\"#460B5E\",\"#460C5F\",\"#460E61\",\"#470F62\",\"#471163\",\"#471265\",\"#471466\",\"#471567\",\"#471669\",\"#47186A\",\"#48196B\",\"#481A6C\",\"#481C6E\",\"#481D6F\",\"#481E70\",\"#482071\",\"#482172\",\"#482273\",\"#482374\",\"#472575\",\"#472676\",\"#472777\",\"#472878\",\"#472A79\",\"#472B7A\",\"#472C7B\",\"#462D7C\",\"#462F7C\",\"#46307D\",\"#46317E\",\"#45327F\",\"#45347F\",\"#453580\",\"#453681\",\"#443781\",\"#443982\",\"#433A83\",\"#433B83\",\"#433C84\",\"#423D84\",\"#423E85\",\"#424085\",\"#414186\",\"#414286\",\"#404387\",\"#404487\",\"#3F4587\",\"#3F4788\",\"#3E4888\",\"#3E4989\",\"#3D4A89\",\"#3D4B89\",\"#3D4C89\",\"#3C4D8A\",\"#3C4E8A\",\"#3B508A\",\"#3B518A\",\"#3A528B\",\"#3A538B\",\"#39548B\",\"#39558B\",\"#38568B\",\"#38578C\",\"#37588C\",\"#37598C\",\"#365A8C\",\"#365B8C\",\"#355C8C\",\"#355D8C\",\"#345E8D\",\"#345F8D\",\"#33608D\",\"#33618D\",\"#32628D\",\"#32638D\",\"#31648D\",\"#31658D\",\"#31668D\",\"#30678D\",\"#30688D\",\"#2F698D\",\"#2F6A8D\",\"#2E6B8E\",\"#2E6C8E\",\"#2E6D8E\",\"#2D6E8E\",\"#2D6F8E\",\"#2C708E\",\"#2C718E\",\"#2C728E\",\"#2B738E\",\"#2B748E\",\"#2A758E\",\"#2A768E\",\"#2A778E\",\"#29788E\",\"#29798E\",\"#287A8E\",\"#287A8E\",\"#287B8E\",\"#277C8E\",\"#277D8E\",\"#277E8E\",\"#267F8E\",\"#26808E\",\"#26818E\",\"#25828E\",\"#25838D\",\"#24848D\",\"#24858D\",\"#24868D\",\"#23878D\",\"#23888D\",\"#23898D\",\"#22898D\",\"#228A8D\",\"#228B8D\",\"#218C8D\",\"#218D8C\",\"#218E8C\",\"#208F8C\",\"#20908C\",\"#20918C\",\"#1F928C\",\"#1F938B\",\"#1F948B\",\"#1F958B\",\"#1F968B\",\"#1E978A\",\"#1E988A\",\"#1E998A\",\"#1E998A\",\"#1E9A89\",\"#1E9B89\",\"#1E9C89\",\"#1E9D88\",\"#1E9E88\",\"#1E9F88\",\"#1EA087\",\"#1FA187\",\"#1FA286\",\"#1FA386\",\"#20A485\",\"#20A585\",\"#21A685\",\"#21A784\",\"#22A784\",\"#23A883\",\"#23A982\",\"#24AA82\",\"#25AB81\",\"#26AC81\",\"#27AD80\",\"#28AE7F\",\"#29AF7F\",\"#2AB07E\",\"#2BB17D\",\"#2CB17D\",\"#2EB27C\",\"#2FB37B\",\"#30B47A\",\"#32B57A\",\"#33B679\",\"#35B778\",\"#36B877\",\"#38B976\",\"#39B976\",\"#3BBA75\",\"#3DBB74\",\"#3EBC73\",\"#40BD72\",\"#42BE71\",\"#44BE70\",\"#45BF6F\",\"#47C06E\",\"#49C16D\",\"#4BC26C\",\"#4DC26B\",\"#4FC369\",\"#51C468\",\"#53C567\",\"#55C666\",\"#57C665\",\"#59C764\",\"#5BC862\",\"#5EC961\",\"#60C960\",\"#62CA5F\",\"#64CB5D\",\"#67CC5C\",\"#69CC5B\",\"#6BCD59\",\"#6DCE58\",\"#70CE56\",\"#72CF55\",\"#74D054\",\"#77D052\",\"#79D151\",\"#7CD24F\",\"#7ED24E\",\"#81D34C\",\"#83D34B\",\"#86D449\",\"#88D547\",\"#8BD546\",\"#8DD644\",\"#90D643\",\"#92D741\",\"#95D73F\",\"#97D83E\",\"#9AD83C\",\"#9DD93A\",\"#9FD938\",\"#A2DA37\",\"#A5DA35\",\"#A7DB33\",\"#AADB32\",\"#ADDC30\",\"#AFDC2E\",\"#B2DD2C\",\"#B5DD2B\",\"#B7DD29\",\"#BADE27\",\"#BDDE26\",\"#BFDF24\",\"#C2DF22\",\"#C5DF21\",\"#C7E01F\",\"#CAE01E\",\"#CDE01D\",\"#CFE11C\",\"#D2E11B\",\"#D4E11A\",\"#D7E219\",\"#DAE218\",\"#DCE218\",\"#DFE318\",\"#E1E318\",\"#E4E318\",\"#E7E419\",\"#E9E419\",\"#ECE41A\",\"#EEE51B\",\"#F1E51C\",\"#F3E51E\",\"#F6E61F\",\"#F8E621\",\"#FAE622\",\"#FDE724\"],\"low\":19,\"high\":88}}},\"fill_color\":{\"type\":\"field\",\"field\":\"Value\",\"transform\":{\"id\":\"p1933\"}},\"hatch_color\":{\"type\":\"field\",\"field\":\"Value\",\"transform\":{\"id\":\"p1933\"}}}},\"nonselection_glyph\":{\"type\":\"object\",\"name\":\"VBar\",\"id\":\"p1938\",\"attributes\":{\"x\":{\"type\":\"field\",\"field\":\"Category\"},\"width\":{\"type\":\"value\",\"value\":0.9},\"top\":{\"type\":\"field\",\"field\":\"Value\"},\"line_color\":{\"type\":\"field\",\"field\":\"Value\",\"transform\":{\"id\":\"p1933\"}},\"line_alpha\":{\"type\":\"value\",\"value\":0.1},\"fill_color\":{\"type\":\"field\",\"field\":\"Value\",\"transform\":{\"id\":\"p1933\"}},\"fill_alpha\":{\"type\":\"value\",\"value\":0.1},\"hatch_color\":{\"type\":\"field\",\"field\":\"Value\",\"transform\":{\"id\":\"p1933\"}},\"hatch_alpha\":{\"type\":\"value\",\"value\":0.1}}},\"muted_glyph\":{\"type\":\"object\",\"name\":\"VBar\",\"id\":\"p1939\",\"attributes\":{\"x\":{\"type\":\"field\",\"field\":\"Category\"},\"width\":{\"type\":\"value\",\"value\":0.9},\"top\":{\"type\":\"field\",\"field\":\"Value\"},\"line_color\":{\"type\":\"field\",\"field\":\"Value\",\"transform\":{\"id\":\"p1933\"}},\"line_alpha\":{\"type\":\"value\",\"value\":0.2},\"fill_color\":{\"type\":\"field\",\"field\":\"Value\",\"transform\":{\"id\":\"p1933\"}},\"fill_alpha\":{\"type\":\"value\",\"value\":0.2},\"hatch_color\":{\"type\":\"field\",\"field\":\"Value\",\"transform\":{\"id\":\"p1933\"}},\"hatch_alpha\":{\"type\":\"value\",\"value\":0.2}}}}}],\"toolbar\":{\"type\":\"object\",\"name\":\"Toolbar\",\"id\":\"p1896\",\"attributes\":{\"tools\":[{\"type\":\"object\",\"name\":\"HoverTool\",\"id\":\"p1922\",\"attributes\":{\"renderers\":\"auto\",\"tooltips\":[[\"Category\",\"@Category\"],[\"Value\",\"@Value\"]]}},{\"type\":\"object\",\"name\":\"PanTool\",\"id\":\"p1923\"},{\"type\":\"object\",\"name\":\"BoxZoomTool\",\"id\":\"p1924\",\"attributes\":{\"overlay\":{\"type\":\"object\",\"name\":\"BoxAnnotation\",\"id\":\"p1925\",\"attributes\":{\"syncable\":false,\"level\":\"overlay\",\"visible\":false,\"left_units\":\"canvas\",\"right_units\":\"canvas\",\"bottom_units\":\"canvas\",\"top_units\":\"canvas\",\"line_color\":\"black\",\"line_alpha\":1.0,\"line_width\":2,\"line_dash\":[4,4],\"fill_color\":\"lightgrey\",\"fill_alpha\":0.5}}}},{\"type\":\"object\",\"name\":\"ResetTool\",\"id\":\"p1926\"}]}},\"left\":[{\"type\":\"object\",\"name\":\"LinearAxis\",\"id\":\"p1915\",\"attributes\":{\"ticker\":{\"type\":\"object\",\"name\":\"BasicTicker\",\"id\":\"p1916\",\"attributes\":{\"mantissas\":[1,2,5]}},\"formatter\":{\"type\":\"object\",\"name\":\"BasicTickFormatter\",\"id\":\"p1917\"},\"axis_label\":\"Value\",\"axis_label_standoff\":12,\"axis_label_text_font_size\":\"12pt\",\"major_label_policy\":{\"type\":\"object\",\"name\":\"AllLabels\",\"id\":\"p1918\"}}}],\"below\":[{\"type\":\"object\",\"name\":\"CategoricalAxis\",\"id\":\"p1909\",\"attributes\":{\"ticker\":{\"type\":\"object\",\"name\":\"CategoricalTicker\",\"id\":\"p1910\"},\"formatter\":{\"type\":\"object\",\"name\":\"CategoricalTickFormatter\",\"id\":\"p1911\"},\"axis_label\":\"Category\",\"axis_label_text_font_size\":\"12pt\",\"major_label_orientation\":\"vertical\",\"major_label_policy\":{\"type\":\"object\",\"name\":\"AllLabels\",\"id\":\"p1912\"}}}],\"center\":[{\"type\":\"object\",\"name\":\"Grid\",\"id\":\"p1914\",\"attributes\":{\"axis\":{\"id\":\"p1909\"},\"grid_line_color\":null,\"grid_line_alpha\":0.5}},{\"type\":\"object\",\"name\":\"Grid\",\"id\":\"p1921\",\"attributes\":{\"dimension\":1,\"axis\":{\"id\":\"p1915\"},\"grid_line_color\":\"gray\",\"grid_line_alpha\":0.5}},{\"type\":\"object\",\"name\":\"Legend\",\"id\":\"p1956\",\"attributes\":{\"location\":\"top_left\",\"orientation\":\"horizontal\",\"title\":\"Value\",\"items\":[{\"type\":\"object\",\"name\":\"LegendItem\",\"id\":\"p1957\",\"attributes\":{\"label\":{\"type\":\"value\",\"value\":\"Value\"},\"renderers\":[{\"id\":\"p1940\"}]}}]}}]}}]}};\n",
              "  const render_items = [{\"docid\":\"0b670bf1-0d03-4275-8d01-48c909843ae0\",\"roots\":{\"p1891\":\"aa8c2b51-1bf1-47f7-9a27-91e8581146c0\"},\"root_ids\":[\"p1891\"]}];\n",
              "  root.Bokeh.embed.embed_items_notebook(docs_json, render_items);\n",
              "  }\n",
              "  if (root.Bokeh !== undefined) {\n",
              "    embed_document(root);\n",
              "  } else {\n",
              "    let attempts = 0;\n",
              "    const timer = setInterval(function(root) {\n",
              "      if (root.Bokeh !== undefined) {\n",
              "        clearInterval(timer);\n",
              "        embed_document(root);\n",
              "      } else {\n",
              "        attempts++;\n",
              "        if (attempts > 100) {\n",
              "          clearInterval(timer);\n",
              "          console.log(\"Bokeh: ERROR: Unable to run BokehJS code because BokehJS library is missing\");\n",
              "        }\n",
              "      }\n",
              "    }, 10, root)\n",
              "  }\n",
              "})(window);"
            ],
            "application/vnd.bokehjs_exec.v0+json": ""
          },
          "metadata": {
            "application/vnd.bokehjs_exec.v0+json": {
              "id": "p1891"
            }
          },
          "output_type": "display_data"
        }
      ],
      "execution_count": 35
    },
    {
      "id": "9184cdb5-d0a7-4748-9bc8-c792a2b96995",
      "cell_type": "markdown",
      "source": "20. Using Plotly, create a basic line plot of a randomly generated dataset, label the axes, and set the title as\n'Simple Line Plot'.",
      "metadata": {}
    },
    {
      "id": "2dc5c284-232a-4810-ad50-0815493d7355",
      "cell_type": "code",
      "source": "pip install plotly",
      "metadata": {},
      "outputs": [
        {
          "name": "stdout",
          "output_type": "stream",
          "text": [
            "Requirement already satisfied: plotly in /opt/conda/lib/python3.10/site-packages (5.24.0)\n",
            "Requirement already satisfied: packaging in /opt/conda/lib/python3.10/site-packages (from plotly) (22.0)\n",
            "Requirement already satisfied: tenacity>=6.2.0 in /opt/conda/lib/python3.10/site-packages (from plotly) (9.0.0)\n",
            "Note: you may need to restart the kernel to use updated packages.\n"
          ]
        }
      ],
      "execution_count": 11
    },
    {
      "id": "0ffdd563-ae93-418e-90d7-28b4f3c501c8",
      "cell_type": "code",
      "source": "#To create a basic line plot using Plotly with a randomly generated dataset, label the axes, and set the title,\n\nimport plotly.graph_objects as go\nimport numpy as np\n\n# Generate random data\nx = np.linspace(0, 10, 100)  # 100 points between 0 and 10\ny = np.random.random(100)    # 100 random values\n\n# Create a line plot\nfig = go.Figure()\n\n# Add a line trace to the figure\nfig.add_trace(go.Scatter(x=x, y=y, mode='lines', name='Random Data'))\n\n# Update layout with title and axis labels\nfig.update_layout(\n    title='Simple Line Plot',\n    xaxis_title='X Axis',\n    yaxis_title='Y Axis'\n)\n\n# Show the plot\nfig.show()\n\n",
      "metadata": {},
      "outputs": [
        {
          "data": {
            "application/vnd.plotly.v1+json": {
              "config": {
                "plotlyServerURL": "https://plot.ly"
              },
              "data": [
                {
                  "mode": "lines",
                  "name": "Random Data",
                  "type": "scatter",
                  "x": [
                    0,
                    0.10101010101010101,
                    0.20202020202020202,
                    0.30303030303030304,
                    0.40404040404040403,
                    0.5050505050505051,
                    0.6060606060606061,
                    0.7070707070707071,
                    0.8080808080808081,
                    0.9090909090909091,
                    1.0101010101010102,
                    1.1111111111111112,
                    1.2121212121212122,
                    1.3131313131313131,
                    1.4141414141414141,
                    1.5151515151515151,
                    1.6161616161616161,
                    1.7171717171717171,
                    1.8181818181818181,
                    1.9191919191919191,
                    2.0202020202020203,
                    2.121212121212121,
                    2.2222222222222223,
                    2.323232323232323,
                    2.4242424242424243,
                    2.525252525252525,
                    2.6262626262626263,
                    2.727272727272727,
                    2.8282828282828283,
                    2.929292929292929,
                    3.0303030303030303,
                    3.131313131313131,
                    3.2323232323232323,
                    3.3333333333333335,
                    3.4343434343434343,
                    3.5353535353535355,
                    3.6363636363636362,
                    3.7373737373737375,
                    3.8383838383838382,
                    3.9393939393939394,
                    4.040404040404041,
                    4.141414141414141,
                    4.242424242424242,
                    4.343434343434343,
                    4.444444444444445,
                    4.545454545454545,
                    4.646464646464646,
                    4.747474747474747,
                    4.848484848484849,
                    4.94949494949495,
                    5.05050505050505,
                    5.151515151515151,
                    5.252525252525253,
                    5.353535353535354,
                    5.454545454545454,
                    5.555555555555555,
                    5.656565656565657,
                    5.757575757575758,
                    5.858585858585858,
                    5.959595959595959,
                    6.0606060606060606,
                    6.161616161616162,
                    6.262626262626262,
                    6.363636363636363,
                    6.4646464646464645,
                    6.565656565656566,
                    6.666666666666667,
                    6.767676767676767,
                    6.8686868686868685,
                    6.96969696969697,
                    7.070707070707071,
                    7.171717171717171,
                    7.2727272727272725,
                    7.373737373737374,
                    7.474747474747475,
                    7.575757575757575,
                    7.6767676767676765,
                    7.777777777777778,
                    7.878787878787879,
                    7.979797979797979,
                    8.080808080808081,
                    8.181818181818182,
                    8.282828282828282,
                    8.383838383838384,
                    8.484848484848484,
                    8.585858585858587,
                    8.686868686868687,
                    8.787878787878787,
                    8.88888888888889,
                    8.98989898989899,
                    9.09090909090909,
                    9.191919191919192,
                    9.292929292929292,
                    9.393939393939394,
                    9.494949494949495,
                    9.595959595959595,
                    9.696969696969697,
                    9.797979797979798,
                    9.8989898989899,
                    10
                  ],
                  "y": [
                    0.6156862871930422,
                    0.3362439497082881,
                    0.8882454424155124,
                    0.13791066911562677,
                    0.382234959361166,
                    0.6384382409579369,
                    0.9303534438543895,
                    0.6019286773623092,
                    0.0011344637772764399,
                    0.6099727889554398,
                    0.6865454415309693,
                    0.7670206337384803,
                    0.019389130237211893,
                    0.3571301537798379,
                    0.8088248754401952,
                    0.7623877334168159,
                    0.5388466922211915,
                    0.2945782429906827,
                    0.07634217404907373,
                    0.11336820134964787,
                    0.8733462022999668,
                    0.7192279360004304,
                    0.16586102584946927,
                    0.8618528293299036,
                    0.29880424623362356,
                    0.38369780226486283,
                    0.7767773567142617,
                    0.6742693653558216,
                    0.9258076556935421,
                    0.973648621976722,
                    0.31005541008120474,
                    0.7893408429882834,
                    0.9449529789123954,
                    0.18092062894347571,
                    0.9753563798481575,
                    0.6341486894121872,
                    0.40264470732454294,
                    0.17001198919288352,
                    0.48798334658526543,
                    0.8866193939573148,
                    0.903442564987379,
                    0.6783104814488374,
                    0.33200080463798853,
                    0.292686428307692,
                    0.3050939947706792,
                    0.1634864118301349,
                    0.5846319707526022,
                    0.22955360817934278,
                    0.06656683696173737,
                    0.9357195323673698,
                    0.5615882600836469,
                    0.7661947585656751,
                    0.2270839546229897,
                    0.6270641285912477,
                    0.22257290429344723,
                    0.5319633431645447,
                    0.5218651175676928,
                    0.21447697838512692,
                    0.6553211515317067,
                    0.721454734627316,
                    0.49427368382835135,
                    0.3890063609465083,
                    0.561424896788019,
                    0.6401014176737931,
                    0.1362530105841867,
                    0.009689335643360608,
                    0.08151131750233098,
                    0.9155129433178655,
                    0.6407470795668182,
                    0.8540946222728172,
                    0.6609881178865339,
                    0.2591001441116729,
                    0.8900103263243921,
                    0.5088291348233788,
                    0.40083509795921834,
                    0.8601995513036237,
                    0.9612016961508064,
                    0.12165097138784053,
                    0.28566758467177955,
                    0.3171365298383333,
                    0.6793228513898226,
                    0.36828478915011453,
                    0.6003381447186023,
                    0.7515230713686275,
                    0.7854297812570232,
                    0.1643345129479915,
                    0.8729409179365851,
                    0.31607752584643445,
                    0.17129098350462313,
                    0.5109490347081145,
                    0.7503438383932628,
                    0.8933974625383182,
                    0.3165551163343675,
                    0.6258643825022849,
                    0.06080482608478621,
                    0.1713130983418375,
                    0.641190404712076,
                    0.9739881047576493,
                    0.9377672961327832,
                    0.5472032267800918
                  ]
                }
              ],
              "layout": {
                "template": {
                  "data": {
                    "bar": [
                      {
                        "error_x": {
                          "color": "#2a3f5f"
                        },
                        "error_y": {
                          "color": "#2a3f5f"
                        },
                        "marker": {
                          "line": {
                            "color": "#E5ECF6",
                            "width": 0.5
                          },
                          "pattern": {
                            "fillmode": "overlay",
                            "size": 10,
                            "solidity": 0.2
                          }
                        },
                        "type": "bar"
                      }
                    ],
                    "barpolar": [
                      {
                        "marker": {
                          "line": {
                            "color": "#E5ECF6",
                            "width": 0.5
                          },
                          "pattern": {
                            "fillmode": "overlay",
                            "size": 10,
                            "solidity": 0.2
                          }
                        },
                        "type": "barpolar"
                      }
                    ],
                    "carpet": [
                      {
                        "aaxis": {
                          "endlinecolor": "#2a3f5f",
                          "gridcolor": "white",
                          "linecolor": "white",
                          "minorgridcolor": "white",
                          "startlinecolor": "#2a3f5f"
                        },
                        "baxis": {
                          "endlinecolor": "#2a3f5f",
                          "gridcolor": "white",
                          "linecolor": "white",
                          "minorgridcolor": "white",
                          "startlinecolor": "#2a3f5f"
                        },
                        "type": "carpet"
                      }
                    ],
                    "choropleth": [
                      {
                        "colorbar": {
                          "outlinewidth": 0,
                          "ticks": ""
                        },
                        "type": "choropleth"
                      }
                    ],
                    "contour": [
                      {
                        "colorbar": {
                          "outlinewidth": 0,
                          "ticks": ""
                        },
                        "colorscale": [
                          [
                            0,
                            "#0d0887"
                          ],
                          [
                            0.1111111111111111,
                            "#46039f"
                          ],
                          [
                            0.2222222222222222,
                            "#7201a8"
                          ],
                          [
                            0.3333333333333333,
                            "#9c179e"
                          ],
                          [
                            0.4444444444444444,
                            "#bd3786"
                          ],
                          [
                            0.5555555555555556,
                            "#d8576b"
                          ],
                          [
                            0.6666666666666666,
                            "#ed7953"
                          ],
                          [
                            0.7777777777777778,
                            "#fb9f3a"
                          ],
                          [
                            0.8888888888888888,
                            "#fdca26"
                          ],
                          [
                            1,
                            "#f0f921"
                          ]
                        ],
                        "type": "contour"
                      }
                    ],
                    "contourcarpet": [
                      {
                        "colorbar": {
                          "outlinewidth": 0,
                          "ticks": ""
                        },
                        "type": "contourcarpet"
                      }
                    ],
                    "heatmap": [
                      {
                        "colorbar": {
                          "outlinewidth": 0,
                          "ticks": ""
                        },
                        "colorscale": [
                          [
                            0,
                            "#0d0887"
                          ],
                          [
                            0.1111111111111111,
                            "#46039f"
                          ],
                          [
                            0.2222222222222222,
                            "#7201a8"
                          ],
                          [
                            0.3333333333333333,
                            "#9c179e"
                          ],
                          [
                            0.4444444444444444,
                            "#bd3786"
                          ],
                          [
                            0.5555555555555556,
                            "#d8576b"
                          ],
                          [
                            0.6666666666666666,
                            "#ed7953"
                          ],
                          [
                            0.7777777777777778,
                            "#fb9f3a"
                          ],
                          [
                            0.8888888888888888,
                            "#fdca26"
                          ],
                          [
                            1,
                            "#f0f921"
                          ]
                        ],
                        "type": "heatmap"
                      }
                    ],
                    "heatmapgl": [
                      {
                        "colorbar": {
                          "outlinewidth": 0,
                          "ticks": ""
                        },
                        "colorscale": [
                          [
                            0,
                            "#0d0887"
                          ],
                          [
                            0.1111111111111111,
                            "#46039f"
                          ],
                          [
                            0.2222222222222222,
                            "#7201a8"
                          ],
                          [
                            0.3333333333333333,
                            "#9c179e"
                          ],
                          [
                            0.4444444444444444,
                            "#bd3786"
                          ],
                          [
                            0.5555555555555556,
                            "#d8576b"
                          ],
                          [
                            0.6666666666666666,
                            "#ed7953"
                          ],
                          [
                            0.7777777777777778,
                            "#fb9f3a"
                          ],
                          [
                            0.8888888888888888,
                            "#fdca26"
                          ],
                          [
                            1,
                            "#f0f921"
                          ]
                        ],
                        "type": "heatmapgl"
                      }
                    ],
                    "histogram": [
                      {
                        "marker": {
                          "pattern": {
                            "fillmode": "overlay",
                            "size": 10,
                            "solidity": 0.2
                          }
                        },
                        "type": "histogram"
                      }
                    ],
                    "histogram2d": [
                      {
                        "colorbar": {
                          "outlinewidth": 0,
                          "ticks": ""
                        },
                        "colorscale": [
                          [
                            0,
                            "#0d0887"
                          ],
                          [
                            0.1111111111111111,
                            "#46039f"
                          ],
                          [
                            0.2222222222222222,
                            "#7201a8"
                          ],
                          [
                            0.3333333333333333,
                            "#9c179e"
                          ],
                          [
                            0.4444444444444444,
                            "#bd3786"
                          ],
                          [
                            0.5555555555555556,
                            "#d8576b"
                          ],
                          [
                            0.6666666666666666,
                            "#ed7953"
                          ],
                          [
                            0.7777777777777778,
                            "#fb9f3a"
                          ],
                          [
                            0.8888888888888888,
                            "#fdca26"
                          ],
                          [
                            1,
                            "#f0f921"
                          ]
                        ],
                        "type": "histogram2d"
                      }
                    ],
                    "histogram2dcontour": [
                      {
                        "colorbar": {
                          "outlinewidth": 0,
                          "ticks": ""
                        },
                        "colorscale": [
                          [
                            0,
                            "#0d0887"
                          ],
                          [
                            0.1111111111111111,
                            "#46039f"
                          ],
                          [
                            0.2222222222222222,
                            "#7201a8"
                          ],
                          [
                            0.3333333333333333,
                            "#9c179e"
                          ],
                          [
                            0.4444444444444444,
                            "#bd3786"
                          ],
                          [
                            0.5555555555555556,
                            "#d8576b"
                          ],
                          [
                            0.6666666666666666,
                            "#ed7953"
                          ],
                          [
                            0.7777777777777778,
                            "#fb9f3a"
                          ],
                          [
                            0.8888888888888888,
                            "#fdca26"
                          ],
                          [
                            1,
                            "#f0f921"
                          ]
                        ],
                        "type": "histogram2dcontour"
                      }
                    ],
                    "mesh3d": [
                      {
                        "colorbar": {
                          "outlinewidth": 0,
                          "ticks": ""
                        },
                        "type": "mesh3d"
                      }
                    ],
                    "parcoords": [
                      {
                        "line": {
                          "colorbar": {
                            "outlinewidth": 0,
                            "ticks": ""
                          }
                        },
                        "type": "parcoords"
                      }
                    ],
                    "pie": [
                      {
                        "automargin": true,
                        "type": "pie"
                      }
                    ],
                    "scatter": [
                      {
                        "fillpattern": {
                          "fillmode": "overlay",
                          "size": 10,
                          "solidity": 0.2
                        },
                        "type": "scatter"
                      }
                    ],
                    "scatter3d": [
                      {
                        "line": {
                          "colorbar": {
                            "outlinewidth": 0,
                            "ticks": ""
                          }
                        },
                        "marker": {
                          "colorbar": {
                            "outlinewidth": 0,
                            "ticks": ""
                          }
                        },
                        "type": "scatter3d"
                      }
                    ],
                    "scattercarpet": [
                      {
                        "marker": {
                          "colorbar": {
                            "outlinewidth": 0,
                            "ticks": ""
                          }
                        },
                        "type": "scattercarpet"
                      }
                    ],
                    "scattergeo": [
                      {
                        "marker": {
                          "colorbar": {
                            "outlinewidth": 0,
                            "ticks": ""
                          }
                        },
                        "type": "scattergeo"
                      }
                    ],
                    "scattergl": [
                      {
                        "marker": {
                          "colorbar": {
                            "outlinewidth": 0,
                            "ticks": ""
                          }
                        },
                        "type": "scattergl"
                      }
                    ],
                    "scattermapbox": [
                      {
                        "marker": {
                          "colorbar": {
                            "outlinewidth": 0,
                            "ticks": ""
                          }
                        },
                        "type": "scattermapbox"
                      }
                    ],
                    "scatterpolar": [
                      {
                        "marker": {
                          "colorbar": {
                            "outlinewidth": 0,
                            "ticks": ""
                          }
                        },
                        "type": "scatterpolar"
                      }
                    ],
                    "scatterpolargl": [
                      {
                        "marker": {
                          "colorbar": {
                            "outlinewidth": 0,
                            "ticks": ""
                          }
                        },
                        "type": "scatterpolargl"
                      }
                    ],
                    "scatterternary": [
                      {
                        "marker": {
                          "colorbar": {
                            "outlinewidth": 0,
                            "ticks": ""
                          }
                        },
                        "type": "scatterternary"
                      }
                    ],
                    "surface": [
                      {
                        "colorbar": {
                          "outlinewidth": 0,
                          "ticks": ""
                        },
                        "colorscale": [
                          [
                            0,
                            "#0d0887"
                          ],
                          [
                            0.1111111111111111,
                            "#46039f"
                          ],
                          [
                            0.2222222222222222,
                            "#7201a8"
                          ],
                          [
                            0.3333333333333333,
                            "#9c179e"
                          ],
                          [
                            0.4444444444444444,
                            "#bd3786"
                          ],
                          [
                            0.5555555555555556,
                            "#d8576b"
                          ],
                          [
                            0.6666666666666666,
                            "#ed7953"
                          ],
                          [
                            0.7777777777777778,
                            "#fb9f3a"
                          ],
                          [
                            0.8888888888888888,
                            "#fdca26"
                          ],
                          [
                            1,
                            "#f0f921"
                          ]
                        ],
                        "type": "surface"
                      }
                    ],
                    "table": [
                      {
                        "cells": {
                          "fill": {
                            "color": "#EBF0F8"
                          },
                          "line": {
                            "color": "white"
                          }
                        },
                        "header": {
                          "fill": {
                            "color": "#C8D4E3"
                          },
                          "line": {
                            "color": "white"
                          }
                        },
                        "type": "table"
                      }
                    ]
                  },
                  "layout": {
                    "annotationdefaults": {
                      "arrowcolor": "#2a3f5f",
                      "arrowhead": 0,
                      "arrowwidth": 1
                    },
                    "autotypenumbers": "strict",
                    "coloraxis": {
                      "colorbar": {
                        "outlinewidth": 0,
                        "ticks": ""
                      }
                    },
                    "colorscale": {
                      "diverging": [
                        [
                          0,
                          "#8e0152"
                        ],
                        [
                          0.1,
                          "#c51b7d"
                        ],
                        [
                          0.2,
                          "#de77ae"
                        ],
                        [
                          0.3,
                          "#f1b6da"
                        ],
                        [
                          0.4,
                          "#fde0ef"
                        ],
                        [
                          0.5,
                          "#f7f7f7"
                        ],
                        [
                          0.6,
                          "#e6f5d0"
                        ],
                        [
                          0.7,
                          "#b8e186"
                        ],
                        [
                          0.8,
                          "#7fbc41"
                        ],
                        [
                          0.9,
                          "#4d9221"
                        ],
                        [
                          1,
                          "#276419"
                        ]
                      ],
                      "sequential": [
                        [
                          0,
                          "#0d0887"
                        ],
                        [
                          0.1111111111111111,
                          "#46039f"
                        ],
                        [
                          0.2222222222222222,
                          "#7201a8"
                        ],
                        [
                          0.3333333333333333,
                          "#9c179e"
                        ],
                        [
                          0.4444444444444444,
                          "#bd3786"
                        ],
                        [
                          0.5555555555555556,
                          "#d8576b"
                        ],
                        [
                          0.6666666666666666,
                          "#ed7953"
                        ],
                        [
                          0.7777777777777778,
                          "#fb9f3a"
                        ],
                        [
                          0.8888888888888888,
                          "#fdca26"
                        ],
                        [
                          1,
                          "#f0f921"
                        ]
                      ],
                      "sequentialminus": [
                        [
                          0,
                          "#0d0887"
                        ],
                        [
                          0.1111111111111111,
                          "#46039f"
                        ],
                        [
                          0.2222222222222222,
                          "#7201a8"
                        ],
                        [
                          0.3333333333333333,
                          "#9c179e"
                        ],
                        [
                          0.4444444444444444,
                          "#bd3786"
                        ],
                        [
                          0.5555555555555556,
                          "#d8576b"
                        ],
                        [
                          0.6666666666666666,
                          "#ed7953"
                        ],
                        [
                          0.7777777777777778,
                          "#fb9f3a"
                        ],
                        [
                          0.8888888888888888,
                          "#fdca26"
                        ],
                        [
                          1,
                          "#f0f921"
                        ]
                      ]
                    },
                    "colorway": [
                      "#636efa",
                      "#EF553B",
                      "#00cc96",
                      "#ab63fa",
                      "#FFA15A",
                      "#19d3f3",
                      "#FF6692",
                      "#B6E880",
                      "#FF97FF",
                      "#FECB52"
                    ],
                    "font": {
                      "color": "#2a3f5f"
                    },
                    "geo": {
                      "bgcolor": "white",
                      "lakecolor": "white",
                      "landcolor": "#E5ECF6",
                      "showlakes": true,
                      "showland": true,
                      "subunitcolor": "white"
                    },
                    "hoverlabel": {
                      "align": "left"
                    },
                    "hovermode": "closest",
                    "mapbox": {
                      "style": "light"
                    },
                    "paper_bgcolor": "white",
                    "plot_bgcolor": "#E5ECF6",
                    "polar": {
                      "angularaxis": {
                        "gridcolor": "white",
                        "linecolor": "white",
                        "ticks": ""
                      },
                      "bgcolor": "#E5ECF6",
                      "radialaxis": {
                        "gridcolor": "white",
                        "linecolor": "white",
                        "ticks": ""
                      }
                    },
                    "scene": {
                      "xaxis": {
                        "backgroundcolor": "#E5ECF6",
                        "gridcolor": "white",
                        "gridwidth": 2,
                        "linecolor": "white",
                        "showbackground": true,
                        "ticks": "",
                        "zerolinecolor": "white"
                      },
                      "yaxis": {
                        "backgroundcolor": "#E5ECF6",
                        "gridcolor": "white",
                        "gridwidth": 2,
                        "linecolor": "white",
                        "showbackground": true,
                        "ticks": "",
                        "zerolinecolor": "white"
                      },
                      "zaxis": {
                        "backgroundcolor": "#E5ECF6",
                        "gridcolor": "white",
                        "gridwidth": 2,
                        "linecolor": "white",
                        "showbackground": true,
                        "ticks": "",
                        "zerolinecolor": "white"
                      }
                    },
                    "shapedefaults": {
                      "line": {
                        "color": "#2a3f5f"
                      }
                    },
                    "ternary": {
                      "aaxis": {
                        "gridcolor": "white",
                        "linecolor": "white",
                        "ticks": ""
                      },
                      "baxis": {
                        "gridcolor": "white",
                        "linecolor": "white",
                        "ticks": ""
                      },
                      "bgcolor": "#E5ECF6",
                      "caxis": {
                        "gridcolor": "white",
                        "linecolor": "white",
                        "ticks": ""
                      }
                    },
                    "title": {
                      "x": 0.05
                    },
                    "xaxis": {
                      "automargin": true,
                      "gridcolor": "white",
                      "linecolor": "white",
                      "ticks": "",
                      "title": {
                        "standoff": 15
                      },
                      "zerolinecolor": "white",
                      "zerolinewidth": 2
                    },
                    "yaxis": {
                      "automargin": true,
                      "gridcolor": "white",
                      "linecolor": "white",
                      "ticks": "",
                      "title": {
                        "standoff": 15
                      },
                      "zerolinecolor": "white",
                      "zerolinewidth": 2
                    }
                  }
                },
                "title": {
                  "text": "Simple Line Plot"
                },
                "xaxis": {
                  "title": {
                    "text": "X Axis"
                  }
                },
                "yaxis": {
                  "title": {
                    "text": "Y Axis"
                  }
                }
              }
            },
            "text/html": [
              "<div>                            <div id=\"af2219c9-495a-421d-99e9-44805e93cc3f\" class=\"plotly-graph-div\" style=\"height:525px; width:100%;\"></div>            <script type=\"text/javascript\">                require([\"plotly\"], function(Plotly) {                    window.PLOTLYENV=window.PLOTLYENV || {};                                    if (document.getElementById(\"af2219c9-495a-421d-99e9-44805e93cc3f\")) {                    Plotly.newPlot(                        \"af2219c9-495a-421d-99e9-44805e93cc3f\",                        [{\"mode\":\"lines\",\"name\":\"Random Data\",\"x\":[0.0,0.10101010101010101,0.20202020202020202,0.30303030303030304,0.40404040404040403,0.5050505050505051,0.6060606060606061,0.7070707070707071,0.8080808080808081,0.9090909090909091,1.0101010101010102,1.1111111111111112,1.2121212121212122,1.3131313131313131,1.4141414141414141,1.5151515151515151,1.6161616161616161,1.7171717171717171,1.8181818181818181,1.9191919191919191,2.0202020202020203,2.121212121212121,2.2222222222222223,2.323232323232323,2.4242424242424243,2.525252525252525,2.6262626262626263,2.727272727272727,2.8282828282828283,2.929292929292929,3.0303030303030303,3.131313131313131,3.2323232323232323,3.3333333333333335,3.4343434343434343,3.5353535353535355,3.6363636363636362,3.7373737373737375,3.8383838383838382,3.9393939393939394,4.040404040404041,4.141414141414141,4.242424242424242,4.343434343434343,4.444444444444445,4.545454545454545,4.646464646464646,4.747474747474747,4.848484848484849,4.94949494949495,5.05050505050505,5.151515151515151,5.252525252525253,5.353535353535354,5.454545454545454,5.555555555555555,5.656565656565657,5.757575757575758,5.858585858585858,5.959595959595959,6.0606060606060606,6.161616161616162,6.262626262626262,6.363636363636363,6.4646464646464645,6.565656565656566,6.666666666666667,6.767676767676767,6.8686868686868685,6.96969696969697,7.070707070707071,7.171717171717171,7.2727272727272725,7.373737373737374,7.474747474747475,7.575757575757575,7.6767676767676765,7.777777777777778,7.878787878787879,7.979797979797979,8.080808080808081,8.181818181818182,8.282828282828282,8.383838383838384,8.484848484848484,8.585858585858587,8.686868686868687,8.787878787878787,8.88888888888889,8.98989898989899,9.09090909090909,9.191919191919192,9.292929292929292,9.393939393939394,9.494949494949495,9.595959595959595,9.696969696969697,9.797979797979798,9.8989898989899,10.0],\"y\":[0.6156862871930422,0.3362439497082881,0.8882454424155124,0.13791066911562677,0.382234959361166,0.6384382409579369,0.9303534438543895,0.6019286773623092,0.0011344637772764399,0.6099727889554398,0.6865454415309693,0.7670206337384803,0.019389130237211893,0.3571301537798379,0.8088248754401952,0.7623877334168159,0.5388466922211915,0.2945782429906827,0.07634217404907373,0.11336820134964787,0.8733462022999668,0.7192279360004304,0.16586102584946927,0.8618528293299036,0.29880424623362356,0.38369780226486283,0.7767773567142617,0.6742693653558216,0.9258076556935421,0.973648621976722,0.31005541008120474,0.7893408429882834,0.9449529789123954,0.18092062894347571,0.9753563798481575,0.6341486894121872,0.40264470732454294,0.17001198919288352,0.48798334658526543,0.8866193939573148,0.903442564987379,0.6783104814488374,0.33200080463798853,0.292686428307692,0.3050939947706792,0.1634864118301349,0.5846319707526022,0.22955360817934278,0.06656683696173737,0.9357195323673698,0.5615882600836469,0.7661947585656751,0.2270839546229897,0.6270641285912477,0.22257290429344723,0.5319633431645447,0.5218651175676928,0.21447697838512692,0.6553211515317067,0.721454734627316,0.49427368382835135,0.3890063609465083,0.561424896788019,0.6401014176737931,0.1362530105841867,0.009689335643360608,0.08151131750233098,0.9155129433178655,0.6407470795668182,0.8540946222728172,0.6609881178865339,0.2591001441116729,0.8900103263243921,0.5088291348233788,0.40083509795921834,0.8601995513036237,0.9612016961508064,0.12165097138784053,0.28566758467177955,0.3171365298383333,0.6793228513898226,0.36828478915011453,0.6003381447186023,0.7515230713686275,0.7854297812570232,0.1643345129479915,0.8729409179365851,0.31607752584643445,0.17129098350462313,0.5109490347081145,0.7503438383932628,0.8933974625383182,0.3165551163343675,0.6258643825022849,0.06080482608478621,0.1713130983418375,0.641190404712076,0.9739881047576493,0.9377672961327832,0.5472032267800918],\"type\":\"scatter\"}],                        {\"template\":{\"data\":{\"histogram2dcontour\":[{\"type\":\"histogram2dcontour\",\"colorbar\":{\"outlinewidth\":0,\"ticks\":\"\"},\"colorscale\":[[0.0,\"#0d0887\"],[0.1111111111111111,\"#46039f\"],[0.2222222222222222,\"#7201a8\"],[0.3333333333333333,\"#9c179e\"],[0.4444444444444444,\"#bd3786\"],[0.5555555555555556,\"#d8576b\"],[0.6666666666666666,\"#ed7953\"],[0.7777777777777778,\"#fb9f3a\"],[0.8888888888888888,\"#fdca26\"],[1.0,\"#f0f921\"]]}],\"choropleth\":[{\"type\":\"choropleth\",\"colorbar\":{\"outlinewidth\":0,\"ticks\":\"\"}}],\"histogram2d\":[{\"type\":\"histogram2d\",\"colorbar\":{\"outlinewidth\":0,\"ticks\":\"\"},\"colorscale\":[[0.0,\"#0d0887\"],[0.1111111111111111,\"#46039f\"],[0.2222222222222222,\"#7201a8\"],[0.3333333333333333,\"#9c179e\"],[0.4444444444444444,\"#bd3786\"],[0.5555555555555556,\"#d8576b\"],[0.6666666666666666,\"#ed7953\"],[0.7777777777777778,\"#fb9f3a\"],[0.8888888888888888,\"#fdca26\"],[1.0,\"#f0f921\"]]}],\"heatmap\":[{\"type\":\"heatmap\",\"colorbar\":{\"outlinewidth\":0,\"ticks\":\"\"},\"colorscale\":[[0.0,\"#0d0887\"],[0.1111111111111111,\"#46039f\"],[0.2222222222222222,\"#7201a8\"],[0.3333333333333333,\"#9c179e\"],[0.4444444444444444,\"#bd3786\"],[0.5555555555555556,\"#d8576b\"],[0.6666666666666666,\"#ed7953\"],[0.7777777777777778,\"#fb9f3a\"],[0.8888888888888888,\"#fdca26\"],[1.0,\"#f0f921\"]]}],\"heatmapgl\":[{\"type\":\"heatmapgl\",\"colorbar\":{\"outlinewidth\":0,\"ticks\":\"\"},\"colorscale\":[[0.0,\"#0d0887\"],[0.1111111111111111,\"#46039f\"],[0.2222222222222222,\"#7201a8\"],[0.3333333333333333,\"#9c179e\"],[0.4444444444444444,\"#bd3786\"],[0.5555555555555556,\"#d8576b\"],[0.6666666666666666,\"#ed7953\"],[0.7777777777777778,\"#fb9f3a\"],[0.8888888888888888,\"#fdca26\"],[1.0,\"#f0f921\"]]}],\"contourcarpet\":[{\"type\":\"contourcarpet\",\"colorbar\":{\"outlinewidth\":0,\"ticks\":\"\"}}],\"contour\":[{\"type\":\"contour\",\"colorbar\":{\"outlinewidth\":0,\"ticks\":\"\"},\"colorscale\":[[0.0,\"#0d0887\"],[0.1111111111111111,\"#46039f\"],[0.2222222222222222,\"#7201a8\"],[0.3333333333333333,\"#9c179e\"],[0.4444444444444444,\"#bd3786\"],[0.5555555555555556,\"#d8576b\"],[0.6666666666666666,\"#ed7953\"],[0.7777777777777778,\"#fb9f3a\"],[0.8888888888888888,\"#fdca26\"],[1.0,\"#f0f921\"]]}],\"surface\":[{\"type\":\"surface\",\"colorbar\":{\"outlinewidth\":0,\"ticks\":\"\"},\"colorscale\":[[0.0,\"#0d0887\"],[0.1111111111111111,\"#46039f\"],[0.2222222222222222,\"#7201a8\"],[0.3333333333333333,\"#9c179e\"],[0.4444444444444444,\"#bd3786\"],[0.5555555555555556,\"#d8576b\"],[0.6666666666666666,\"#ed7953\"],[0.7777777777777778,\"#fb9f3a\"],[0.8888888888888888,\"#fdca26\"],[1.0,\"#f0f921\"]]}],\"mesh3d\":[{\"type\":\"mesh3d\",\"colorbar\":{\"outlinewidth\":0,\"ticks\":\"\"}}],\"scatter\":[{\"fillpattern\":{\"fillmode\":\"overlay\",\"size\":10,\"solidity\":0.2},\"type\":\"scatter\"}],\"parcoords\":[{\"type\":\"parcoords\",\"line\":{\"colorbar\":{\"outlinewidth\":0,\"ticks\":\"\"}}}],\"scatterpolargl\":[{\"type\":\"scatterpolargl\",\"marker\":{\"colorbar\":{\"outlinewidth\":0,\"ticks\":\"\"}}}],\"bar\":[{\"error_x\":{\"color\":\"#2a3f5f\"},\"error_y\":{\"color\":\"#2a3f5f\"},\"marker\":{\"line\":{\"color\":\"#E5ECF6\",\"width\":0.5},\"pattern\":{\"fillmode\":\"overlay\",\"size\":10,\"solidity\":0.2}},\"type\":\"bar\"}],\"scattergeo\":[{\"type\":\"scattergeo\",\"marker\":{\"colorbar\":{\"outlinewidth\":0,\"ticks\":\"\"}}}],\"scatterpolar\":[{\"type\":\"scatterpolar\",\"marker\":{\"colorbar\":{\"outlinewidth\":0,\"ticks\":\"\"}}}],\"histogram\":[{\"marker\":{\"pattern\":{\"fillmode\":\"overlay\",\"size\":10,\"solidity\":0.2}},\"type\":\"histogram\"}],\"scattergl\":[{\"type\":\"scattergl\",\"marker\":{\"colorbar\":{\"outlinewidth\":0,\"ticks\":\"\"}}}],\"scatter3d\":[{\"type\":\"scatter3d\",\"line\":{\"colorbar\":{\"outlinewidth\":0,\"ticks\":\"\"}},\"marker\":{\"colorbar\":{\"outlinewidth\":0,\"ticks\":\"\"}}}],\"scattermapbox\":[{\"type\":\"scattermapbox\",\"marker\":{\"colorbar\":{\"outlinewidth\":0,\"ticks\":\"\"}}}],\"scatterternary\":[{\"type\":\"scatterternary\",\"marker\":{\"colorbar\":{\"outlinewidth\":0,\"ticks\":\"\"}}}],\"scattercarpet\":[{\"type\":\"scattercarpet\",\"marker\":{\"colorbar\":{\"outlinewidth\":0,\"ticks\":\"\"}}}],\"carpet\":[{\"aaxis\":{\"endlinecolor\":\"#2a3f5f\",\"gridcolor\":\"white\",\"linecolor\":\"white\",\"minorgridcolor\":\"white\",\"startlinecolor\":\"#2a3f5f\"},\"baxis\":{\"endlinecolor\":\"#2a3f5f\",\"gridcolor\":\"white\",\"linecolor\":\"white\",\"minorgridcolor\":\"white\",\"startlinecolor\":\"#2a3f5f\"},\"type\":\"carpet\"}],\"table\":[{\"cells\":{\"fill\":{\"color\":\"#EBF0F8\"},\"line\":{\"color\":\"white\"}},\"header\":{\"fill\":{\"color\":\"#C8D4E3\"},\"line\":{\"color\":\"white\"}},\"type\":\"table\"}],\"barpolar\":[{\"marker\":{\"line\":{\"color\":\"#E5ECF6\",\"width\":0.5},\"pattern\":{\"fillmode\":\"overlay\",\"size\":10,\"solidity\":0.2}},\"type\":\"barpolar\"}],\"pie\":[{\"automargin\":true,\"type\":\"pie\"}]},\"layout\":{\"autotypenumbers\":\"strict\",\"colorway\":[\"#636efa\",\"#EF553B\",\"#00cc96\",\"#ab63fa\",\"#FFA15A\",\"#19d3f3\",\"#FF6692\",\"#B6E880\",\"#FF97FF\",\"#FECB52\"],\"font\":{\"color\":\"#2a3f5f\"},\"hovermode\":\"closest\",\"hoverlabel\":{\"align\":\"left\"},\"paper_bgcolor\":\"white\",\"plot_bgcolor\":\"#E5ECF6\",\"polar\":{\"bgcolor\":\"#E5ECF6\",\"angularaxis\":{\"gridcolor\":\"white\",\"linecolor\":\"white\",\"ticks\":\"\"},\"radialaxis\":{\"gridcolor\":\"white\",\"linecolor\":\"white\",\"ticks\":\"\"}},\"ternary\":{\"bgcolor\":\"#E5ECF6\",\"aaxis\":{\"gridcolor\":\"white\",\"linecolor\":\"white\",\"ticks\":\"\"},\"baxis\":{\"gridcolor\":\"white\",\"linecolor\":\"white\",\"ticks\":\"\"},\"caxis\":{\"gridcolor\":\"white\",\"linecolor\":\"white\",\"ticks\":\"\"}},\"coloraxis\":{\"colorbar\":{\"outlinewidth\":0,\"ticks\":\"\"}},\"colorscale\":{\"sequential\":[[0.0,\"#0d0887\"],[0.1111111111111111,\"#46039f\"],[0.2222222222222222,\"#7201a8\"],[0.3333333333333333,\"#9c179e\"],[0.4444444444444444,\"#bd3786\"],[0.5555555555555556,\"#d8576b\"],[0.6666666666666666,\"#ed7953\"],[0.7777777777777778,\"#fb9f3a\"],[0.8888888888888888,\"#fdca26\"],[1.0,\"#f0f921\"]],\"sequentialminus\":[[0.0,\"#0d0887\"],[0.1111111111111111,\"#46039f\"],[0.2222222222222222,\"#7201a8\"],[0.3333333333333333,\"#9c179e\"],[0.4444444444444444,\"#bd3786\"],[0.5555555555555556,\"#d8576b\"],[0.6666666666666666,\"#ed7953\"],[0.7777777777777778,\"#fb9f3a\"],[0.8888888888888888,\"#fdca26\"],[1.0,\"#f0f921\"]],\"diverging\":[[0,\"#8e0152\"],[0.1,\"#c51b7d\"],[0.2,\"#de77ae\"],[0.3,\"#f1b6da\"],[0.4,\"#fde0ef\"],[0.5,\"#f7f7f7\"],[0.6,\"#e6f5d0\"],[0.7,\"#b8e186\"],[0.8,\"#7fbc41\"],[0.9,\"#4d9221\"],[1,\"#276419\"]]},\"xaxis\":{\"gridcolor\":\"white\",\"linecolor\":\"white\",\"ticks\":\"\",\"title\":{\"standoff\":15},\"zerolinecolor\":\"white\",\"automargin\":true,\"zerolinewidth\":2},\"yaxis\":{\"gridcolor\":\"white\",\"linecolor\":\"white\",\"ticks\":\"\",\"title\":{\"standoff\":15},\"zerolinecolor\":\"white\",\"automargin\":true,\"zerolinewidth\":2},\"scene\":{\"xaxis\":{\"backgroundcolor\":\"#E5ECF6\",\"gridcolor\":\"white\",\"linecolor\":\"white\",\"showbackground\":true,\"ticks\":\"\",\"zerolinecolor\":\"white\",\"gridwidth\":2},\"yaxis\":{\"backgroundcolor\":\"#E5ECF6\",\"gridcolor\":\"white\",\"linecolor\":\"white\",\"showbackground\":true,\"ticks\":\"\",\"zerolinecolor\":\"white\",\"gridwidth\":2},\"zaxis\":{\"backgroundcolor\":\"#E5ECF6\",\"gridcolor\":\"white\",\"linecolor\":\"white\",\"showbackground\":true,\"ticks\":\"\",\"zerolinecolor\":\"white\",\"gridwidth\":2}},\"shapedefaults\":{\"line\":{\"color\":\"#2a3f5f\"}},\"annotationdefaults\":{\"arrowcolor\":\"#2a3f5f\",\"arrowhead\":0,\"arrowwidth\":1},\"geo\":{\"bgcolor\":\"white\",\"landcolor\":\"#E5ECF6\",\"subunitcolor\":\"white\",\"showland\":true,\"showlakes\":true,\"lakecolor\":\"white\"},\"title\":{\"x\":0.05},\"mapbox\":{\"style\":\"light\"}}},\"title\":{\"text\":\"Simple Line Plot\"},\"xaxis\":{\"title\":{\"text\":\"X Axis\"}},\"yaxis\":{\"title\":{\"text\":\"Y Axis\"}}},                        {\"responsive\": true}                    ).then(function(){\n",
              "                            \n",
              "var gd = document.getElementById('af2219c9-495a-421d-99e9-44805e93cc3f');\n",
              "var x = new MutationObserver(function (mutations, observer) {{\n",
              "        var display = window.getComputedStyle(gd).display;\n",
              "        if (!display || display === 'none') {{\n",
              "            console.log([gd, 'removed!']);\n",
              "            Plotly.purge(gd);\n",
              "            observer.disconnect();\n",
              "        }}\n",
              "}});\n",
              "\n",
              "// Listen for the removal of the full notebook cells\n",
              "var notebookContainer = gd.closest('#notebook-container');\n",
              "if (notebookContainer) {{\n",
              "    x.observe(notebookContainer, {childList: true});\n",
              "}}\n",
              "\n",
              "// Listen for the clearing of the current output cell\n",
              "var outputEl = gd.closest('.output');\n",
              "if (outputEl) {{\n",
              "    x.observe(outputEl, {childList: true});\n",
              "}}\n",
              "\n",
              "                        })                };                });            </script>        </div>"
            ]
          },
          "metadata": {},
          "output_type": "display_data"
        }
      ],
      "execution_count": 2
    },
    {
      "id": "34949ed3-9285-44b9-9641-e2fca02f7315",
      "cell_type": "code",
      "source": "#21. Using Plotly, create an interactive pie chart of randomly generated data, add labels and percentages, set the title as 'Interactive Pie Chart'",
      "metadata": {},
      "outputs": [],
      "execution_count": null
    },
    {
      "id": "bbf90b92-909a-4e7c-bbbe-1370d05b806a",
      "cell_type": "code",
      "source": "import plotly.graph_objects as go\nimport numpy as np\n\n# Generate random data\nlabels = ['Category A', 'Category B', 'Category C', 'Category D', 'Category E']\nvalues = np.random.randint(1, 100, size=len(labels))\n\n# Create a pie chart\nfig = go.Figure(data=[go.Pie(\n    labels=labels, \n    values=values, \n    textinfo='label+percent',  # Shows both label and percentage\n    marker=dict(colors=['#ff9999','#66b3ff','#99ff99','#ffcc99','#c2c2f0'])  # Optional: color palette\n)])\n\n# Update layout with title\nfig.update_layout(\n    title='Interactive Pie Chart'\n)\n\n# Show the plot\nfig.show()\n\n",
      "metadata": {},
      "outputs": [
        {
          "data": {
            "application/vnd.plotly.v1+json": {
              "config": {
                "plotlyServerURL": "https://plot.ly"
              },
              "data": [
                {
                  "labels": [
                    "Category A",
                    "Category B",
                    "Category C",
                    "Category D",
                    "Category E"
                  ],
                  "marker": {
                    "colors": [
                      "#ff9999",
                      "#66b3ff",
                      "#99ff99",
                      "#ffcc99",
                      "#c2c2f0"
                    ]
                  },
                  "textinfo": "label+percent",
                  "type": "pie",
                  "values": [
                    56,
                    34,
                    50,
                    67,
                    59
                  ]
                }
              ],
              "layout": {
                "template": {
                  "data": {
                    "bar": [
                      {
                        "error_x": {
                          "color": "#2a3f5f"
                        },
                        "error_y": {
                          "color": "#2a3f5f"
                        },
                        "marker": {
                          "line": {
                            "color": "#E5ECF6",
                            "width": 0.5
                          },
                          "pattern": {
                            "fillmode": "overlay",
                            "size": 10,
                            "solidity": 0.2
                          }
                        },
                        "type": "bar"
                      }
                    ],
                    "barpolar": [
                      {
                        "marker": {
                          "line": {
                            "color": "#E5ECF6",
                            "width": 0.5
                          },
                          "pattern": {
                            "fillmode": "overlay",
                            "size": 10,
                            "solidity": 0.2
                          }
                        },
                        "type": "barpolar"
                      }
                    ],
                    "carpet": [
                      {
                        "aaxis": {
                          "endlinecolor": "#2a3f5f",
                          "gridcolor": "white",
                          "linecolor": "white",
                          "minorgridcolor": "white",
                          "startlinecolor": "#2a3f5f"
                        },
                        "baxis": {
                          "endlinecolor": "#2a3f5f",
                          "gridcolor": "white",
                          "linecolor": "white",
                          "minorgridcolor": "white",
                          "startlinecolor": "#2a3f5f"
                        },
                        "type": "carpet"
                      }
                    ],
                    "choropleth": [
                      {
                        "colorbar": {
                          "outlinewidth": 0,
                          "ticks": ""
                        },
                        "type": "choropleth"
                      }
                    ],
                    "contour": [
                      {
                        "colorbar": {
                          "outlinewidth": 0,
                          "ticks": ""
                        },
                        "colorscale": [
                          [
                            0,
                            "#0d0887"
                          ],
                          [
                            0.1111111111111111,
                            "#46039f"
                          ],
                          [
                            0.2222222222222222,
                            "#7201a8"
                          ],
                          [
                            0.3333333333333333,
                            "#9c179e"
                          ],
                          [
                            0.4444444444444444,
                            "#bd3786"
                          ],
                          [
                            0.5555555555555556,
                            "#d8576b"
                          ],
                          [
                            0.6666666666666666,
                            "#ed7953"
                          ],
                          [
                            0.7777777777777778,
                            "#fb9f3a"
                          ],
                          [
                            0.8888888888888888,
                            "#fdca26"
                          ],
                          [
                            1,
                            "#f0f921"
                          ]
                        ],
                        "type": "contour"
                      }
                    ],
                    "contourcarpet": [
                      {
                        "colorbar": {
                          "outlinewidth": 0,
                          "ticks": ""
                        },
                        "type": "contourcarpet"
                      }
                    ],
                    "heatmap": [
                      {
                        "colorbar": {
                          "outlinewidth": 0,
                          "ticks": ""
                        },
                        "colorscale": [
                          [
                            0,
                            "#0d0887"
                          ],
                          [
                            0.1111111111111111,
                            "#46039f"
                          ],
                          [
                            0.2222222222222222,
                            "#7201a8"
                          ],
                          [
                            0.3333333333333333,
                            "#9c179e"
                          ],
                          [
                            0.4444444444444444,
                            "#bd3786"
                          ],
                          [
                            0.5555555555555556,
                            "#d8576b"
                          ],
                          [
                            0.6666666666666666,
                            "#ed7953"
                          ],
                          [
                            0.7777777777777778,
                            "#fb9f3a"
                          ],
                          [
                            0.8888888888888888,
                            "#fdca26"
                          ],
                          [
                            1,
                            "#f0f921"
                          ]
                        ],
                        "type": "heatmap"
                      }
                    ],
                    "heatmapgl": [
                      {
                        "colorbar": {
                          "outlinewidth": 0,
                          "ticks": ""
                        },
                        "colorscale": [
                          [
                            0,
                            "#0d0887"
                          ],
                          [
                            0.1111111111111111,
                            "#46039f"
                          ],
                          [
                            0.2222222222222222,
                            "#7201a8"
                          ],
                          [
                            0.3333333333333333,
                            "#9c179e"
                          ],
                          [
                            0.4444444444444444,
                            "#bd3786"
                          ],
                          [
                            0.5555555555555556,
                            "#d8576b"
                          ],
                          [
                            0.6666666666666666,
                            "#ed7953"
                          ],
                          [
                            0.7777777777777778,
                            "#fb9f3a"
                          ],
                          [
                            0.8888888888888888,
                            "#fdca26"
                          ],
                          [
                            1,
                            "#f0f921"
                          ]
                        ],
                        "type": "heatmapgl"
                      }
                    ],
                    "histogram": [
                      {
                        "marker": {
                          "pattern": {
                            "fillmode": "overlay",
                            "size": 10,
                            "solidity": 0.2
                          }
                        },
                        "type": "histogram"
                      }
                    ],
                    "histogram2d": [
                      {
                        "colorbar": {
                          "outlinewidth": 0,
                          "ticks": ""
                        },
                        "colorscale": [
                          [
                            0,
                            "#0d0887"
                          ],
                          [
                            0.1111111111111111,
                            "#46039f"
                          ],
                          [
                            0.2222222222222222,
                            "#7201a8"
                          ],
                          [
                            0.3333333333333333,
                            "#9c179e"
                          ],
                          [
                            0.4444444444444444,
                            "#bd3786"
                          ],
                          [
                            0.5555555555555556,
                            "#d8576b"
                          ],
                          [
                            0.6666666666666666,
                            "#ed7953"
                          ],
                          [
                            0.7777777777777778,
                            "#fb9f3a"
                          ],
                          [
                            0.8888888888888888,
                            "#fdca26"
                          ],
                          [
                            1,
                            "#f0f921"
                          ]
                        ],
                        "type": "histogram2d"
                      }
                    ],
                    "histogram2dcontour": [
                      {
                        "colorbar": {
                          "outlinewidth": 0,
                          "ticks": ""
                        },
                        "colorscale": [
                          [
                            0,
                            "#0d0887"
                          ],
                          [
                            0.1111111111111111,
                            "#46039f"
                          ],
                          [
                            0.2222222222222222,
                            "#7201a8"
                          ],
                          [
                            0.3333333333333333,
                            "#9c179e"
                          ],
                          [
                            0.4444444444444444,
                            "#bd3786"
                          ],
                          [
                            0.5555555555555556,
                            "#d8576b"
                          ],
                          [
                            0.6666666666666666,
                            "#ed7953"
                          ],
                          [
                            0.7777777777777778,
                            "#fb9f3a"
                          ],
                          [
                            0.8888888888888888,
                            "#fdca26"
                          ],
                          [
                            1,
                            "#f0f921"
                          ]
                        ],
                        "type": "histogram2dcontour"
                      }
                    ],
                    "mesh3d": [
                      {
                        "colorbar": {
                          "outlinewidth": 0,
                          "ticks": ""
                        },
                        "type": "mesh3d"
                      }
                    ],
                    "parcoords": [
                      {
                        "line": {
                          "colorbar": {
                            "outlinewidth": 0,
                            "ticks": ""
                          }
                        },
                        "type": "parcoords"
                      }
                    ],
                    "pie": [
                      {
                        "automargin": true,
                        "type": "pie"
                      }
                    ],
                    "scatter": [
                      {
                        "fillpattern": {
                          "fillmode": "overlay",
                          "size": 10,
                          "solidity": 0.2
                        },
                        "type": "scatter"
                      }
                    ],
                    "scatter3d": [
                      {
                        "line": {
                          "colorbar": {
                            "outlinewidth": 0,
                            "ticks": ""
                          }
                        },
                        "marker": {
                          "colorbar": {
                            "outlinewidth": 0,
                            "ticks": ""
                          }
                        },
                        "type": "scatter3d"
                      }
                    ],
                    "scattercarpet": [
                      {
                        "marker": {
                          "colorbar": {
                            "outlinewidth": 0,
                            "ticks": ""
                          }
                        },
                        "type": "scattercarpet"
                      }
                    ],
                    "scattergeo": [
                      {
                        "marker": {
                          "colorbar": {
                            "outlinewidth": 0,
                            "ticks": ""
                          }
                        },
                        "type": "scattergeo"
                      }
                    ],
                    "scattergl": [
                      {
                        "marker": {
                          "colorbar": {
                            "outlinewidth": 0,
                            "ticks": ""
                          }
                        },
                        "type": "scattergl"
                      }
                    ],
                    "scattermapbox": [
                      {
                        "marker": {
                          "colorbar": {
                            "outlinewidth": 0,
                            "ticks": ""
                          }
                        },
                        "type": "scattermapbox"
                      }
                    ],
                    "scatterpolar": [
                      {
                        "marker": {
                          "colorbar": {
                            "outlinewidth": 0,
                            "ticks": ""
                          }
                        },
                        "type": "scatterpolar"
                      }
                    ],
                    "scatterpolargl": [
                      {
                        "marker": {
                          "colorbar": {
                            "outlinewidth": 0,
                            "ticks": ""
                          }
                        },
                        "type": "scatterpolargl"
                      }
                    ],
                    "scatterternary": [
                      {
                        "marker": {
                          "colorbar": {
                            "outlinewidth": 0,
                            "ticks": ""
                          }
                        },
                        "type": "scatterternary"
                      }
                    ],
                    "surface": [
                      {
                        "colorbar": {
                          "outlinewidth": 0,
                          "ticks": ""
                        },
                        "colorscale": [
                          [
                            0,
                            "#0d0887"
                          ],
                          [
                            0.1111111111111111,
                            "#46039f"
                          ],
                          [
                            0.2222222222222222,
                            "#7201a8"
                          ],
                          [
                            0.3333333333333333,
                            "#9c179e"
                          ],
                          [
                            0.4444444444444444,
                            "#bd3786"
                          ],
                          [
                            0.5555555555555556,
                            "#d8576b"
                          ],
                          [
                            0.6666666666666666,
                            "#ed7953"
                          ],
                          [
                            0.7777777777777778,
                            "#fb9f3a"
                          ],
                          [
                            0.8888888888888888,
                            "#fdca26"
                          ],
                          [
                            1,
                            "#f0f921"
                          ]
                        ],
                        "type": "surface"
                      }
                    ],
                    "table": [
                      {
                        "cells": {
                          "fill": {
                            "color": "#EBF0F8"
                          },
                          "line": {
                            "color": "white"
                          }
                        },
                        "header": {
                          "fill": {
                            "color": "#C8D4E3"
                          },
                          "line": {
                            "color": "white"
                          }
                        },
                        "type": "table"
                      }
                    ]
                  },
                  "layout": {
                    "annotationdefaults": {
                      "arrowcolor": "#2a3f5f",
                      "arrowhead": 0,
                      "arrowwidth": 1
                    },
                    "autotypenumbers": "strict",
                    "coloraxis": {
                      "colorbar": {
                        "outlinewidth": 0,
                        "ticks": ""
                      }
                    },
                    "colorscale": {
                      "diverging": [
                        [
                          0,
                          "#8e0152"
                        ],
                        [
                          0.1,
                          "#c51b7d"
                        ],
                        [
                          0.2,
                          "#de77ae"
                        ],
                        [
                          0.3,
                          "#f1b6da"
                        ],
                        [
                          0.4,
                          "#fde0ef"
                        ],
                        [
                          0.5,
                          "#f7f7f7"
                        ],
                        [
                          0.6,
                          "#e6f5d0"
                        ],
                        [
                          0.7,
                          "#b8e186"
                        ],
                        [
                          0.8,
                          "#7fbc41"
                        ],
                        [
                          0.9,
                          "#4d9221"
                        ],
                        [
                          1,
                          "#276419"
                        ]
                      ],
                      "sequential": [
                        [
                          0,
                          "#0d0887"
                        ],
                        [
                          0.1111111111111111,
                          "#46039f"
                        ],
                        [
                          0.2222222222222222,
                          "#7201a8"
                        ],
                        [
                          0.3333333333333333,
                          "#9c179e"
                        ],
                        [
                          0.4444444444444444,
                          "#bd3786"
                        ],
                        [
                          0.5555555555555556,
                          "#d8576b"
                        ],
                        [
                          0.6666666666666666,
                          "#ed7953"
                        ],
                        [
                          0.7777777777777778,
                          "#fb9f3a"
                        ],
                        [
                          0.8888888888888888,
                          "#fdca26"
                        ],
                        [
                          1,
                          "#f0f921"
                        ]
                      ],
                      "sequentialminus": [
                        [
                          0,
                          "#0d0887"
                        ],
                        [
                          0.1111111111111111,
                          "#46039f"
                        ],
                        [
                          0.2222222222222222,
                          "#7201a8"
                        ],
                        [
                          0.3333333333333333,
                          "#9c179e"
                        ],
                        [
                          0.4444444444444444,
                          "#bd3786"
                        ],
                        [
                          0.5555555555555556,
                          "#d8576b"
                        ],
                        [
                          0.6666666666666666,
                          "#ed7953"
                        ],
                        [
                          0.7777777777777778,
                          "#fb9f3a"
                        ],
                        [
                          0.8888888888888888,
                          "#fdca26"
                        ],
                        [
                          1,
                          "#f0f921"
                        ]
                      ]
                    },
                    "colorway": [
                      "#636efa",
                      "#EF553B",
                      "#00cc96",
                      "#ab63fa",
                      "#FFA15A",
                      "#19d3f3",
                      "#FF6692",
                      "#B6E880",
                      "#FF97FF",
                      "#FECB52"
                    ],
                    "font": {
                      "color": "#2a3f5f"
                    },
                    "geo": {
                      "bgcolor": "white",
                      "lakecolor": "white",
                      "landcolor": "#E5ECF6",
                      "showlakes": true,
                      "showland": true,
                      "subunitcolor": "white"
                    },
                    "hoverlabel": {
                      "align": "left"
                    },
                    "hovermode": "closest",
                    "mapbox": {
                      "style": "light"
                    },
                    "paper_bgcolor": "white",
                    "plot_bgcolor": "#E5ECF6",
                    "polar": {
                      "angularaxis": {
                        "gridcolor": "white",
                        "linecolor": "white",
                        "ticks": ""
                      },
                      "bgcolor": "#E5ECF6",
                      "radialaxis": {
                        "gridcolor": "white",
                        "linecolor": "white",
                        "ticks": ""
                      }
                    },
                    "scene": {
                      "xaxis": {
                        "backgroundcolor": "#E5ECF6",
                        "gridcolor": "white",
                        "gridwidth": 2,
                        "linecolor": "white",
                        "showbackground": true,
                        "ticks": "",
                        "zerolinecolor": "white"
                      },
                      "yaxis": {
                        "backgroundcolor": "#E5ECF6",
                        "gridcolor": "white",
                        "gridwidth": 2,
                        "linecolor": "white",
                        "showbackground": true,
                        "ticks": "",
                        "zerolinecolor": "white"
                      },
                      "zaxis": {
                        "backgroundcolor": "#E5ECF6",
                        "gridcolor": "white",
                        "gridwidth": 2,
                        "linecolor": "white",
                        "showbackground": true,
                        "ticks": "",
                        "zerolinecolor": "white"
                      }
                    },
                    "shapedefaults": {
                      "line": {
                        "color": "#2a3f5f"
                      }
                    },
                    "ternary": {
                      "aaxis": {
                        "gridcolor": "white",
                        "linecolor": "white",
                        "ticks": ""
                      },
                      "baxis": {
                        "gridcolor": "white",
                        "linecolor": "white",
                        "ticks": ""
                      },
                      "bgcolor": "#E5ECF6",
                      "caxis": {
                        "gridcolor": "white",
                        "linecolor": "white",
                        "ticks": ""
                      }
                    },
                    "title": {
                      "x": 0.05
                    },
                    "xaxis": {
                      "automargin": true,
                      "gridcolor": "white",
                      "linecolor": "white",
                      "ticks": "",
                      "title": {
                        "standoff": 15
                      },
                      "zerolinecolor": "white",
                      "zerolinewidth": 2
                    },
                    "yaxis": {
                      "automargin": true,
                      "gridcolor": "white",
                      "linecolor": "white",
                      "ticks": "",
                      "title": {
                        "standoff": 15
                      },
                      "zerolinecolor": "white",
                      "zerolinewidth": 2
                    }
                  }
                },
                "title": {
                  "text": "Interactive Pie Chart"
                }
              }
            },
            "text/html": [
              "<div>                            <div id=\"6051b8c4-17c1-42f9-8a7d-10d384cb38d4\" class=\"plotly-graph-div\" style=\"height:525px; width:100%;\"></div>            <script type=\"text/javascript\">                require([\"plotly\"], function(Plotly) {                    window.PLOTLYENV=window.PLOTLYENV || {};                                    if (document.getElementById(\"6051b8c4-17c1-42f9-8a7d-10d384cb38d4\")) {                    Plotly.newPlot(                        \"6051b8c4-17c1-42f9-8a7d-10d384cb38d4\",                        [{\"labels\":[\"Category A\",\"Category B\",\"Category C\",\"Category D\",\"Category E\"],\"marker\":{\"colors\":[\"#ff9999\",\"#66b3ff\",\"#99ff99\",\"#ffcc99\",\"#c2c2f0\"]},\"textinfo\":\"label+percent\",\"values\":[56,34,50,67,59],\"type\":\"pie\"}],                        {\"template\":{\"data\":{\"histogram2dcontour\":[{\"type\":\"histogram2dcontour\",\"colorbar\":{\"outlinewidth\":0,\"ticks\":\"\"},\"colorscale\":[[0.0,\"#0d0887\"],[0.1111111111111111,\"#46039f\"],[0.2222222222222222,\"#7201a8\"],[0.3333333333333333,\"#9c179e\"],[0.4444444444444444,\"#bd3786\"],[0.5555555555555556,\"#d8576b\"],[0.6666666666666666,\"#ed7953\"],[0.7777777777777778,\"#fb9f3a\"],[0.8888888888888888,\"#fdca26\"],[1.0,\"#f0f921\"]]}],\"choropleth\":[{\"type\":\"choropleth\",\"colorbar\":{\"outlinewidth\":0,\"ticks\":\"\"}}],\"histogram2d\":[{\"type\":\"histogram2d\",\"colorbar\":{\"outlinewidth\":0,\"ticks\":\"\"},\"colorscale\":[[0.0,\"#0d0887\"],[0.1111111111111111,\"#46039f\"],[0.2222222222222222,\"#7201a8\"],[0.3333333333333333,\"#9c179e\"],[0.4444444444444444,\"#bd3786\"],[0.5555555555555556,\"#d8576b\"],[0.6666666666666666,\"#ed7953\"],[0.7777777777777778,\"#fb9f3a\"],[0.8888888888888888,\"#fdca26\"],[1.0,\"#f0f921\"]]}],\"heatmap\":[{\"type\":\"heatmap\",\"colorbar\":{\"outlinewidth\":0,\"ticks\":\"\"},\"colorscale\":[[0.0,\"#0d0887\"],[0.1111111111111111,\"#46039f\"],[0.2222222222222222,\"#7201a8\"],[0.3333333333333333,\"#9c179e\"],[0.4444444444444444,\"#bd3786\"],[0.5555555555555556,\"#d8576b\"],[0.6666666666666666,\"#ed7953\"],[0.7777777777777778,\"#fb9f3a\"],[0.8888888888888888,\"#fdca26\"],[1.0,\"#f0f921\"]]}],\"heatmapgl\":[{\"type\":\"heatmapgl\",\"colorbar\":{\"outlinewidth\":0,\"ticks\":\"\"},\"colorscale\":[[0.0,\"#0d0887\"],[0.1111111111111111,\"#46039f\"],[0.2222222222222222,\"#7201a8\"],[0.3333333333333333,\"#9c179e\"],[0.4444444444444444,\"#bd3786\"],[0.5555555555555556,\"#d8576b\"],[0.6666666666666666,\"#ed7953\"],[0.7777777777777778,\"#fb9f3a\"],[0.8888888888888888,\"#fdca26\"],[1.0,\"#f0f921\"]]}],\"contourcarpet\":[{\"type\":\"contourcarpet\",\"colorbar\":{\"outlinewidth\":0,\"ticks\":\"\"}}],\"contour\":[{\"type\":\"contour\",\"colorbar\":{\"outlinewidth\":0,\"ticks\":\"\"},\"colorscale\":[[0.0,\"#0d0887\"],[0.1111111111111111,\"#46039f\"],[0.2222222222222222,\"#7201a8\"],[0.3333333333333333,\"#9c179e\"],[0.4444444444444444,\"#bd3786\"],[0.5555555555555556,\"#d8576b\"],[0.6666666666666666,\"#ed7953\"],[0.7777777777777778,\"#fb9f3a\"],[0.8888888888888888,\"#fdca26\"],[1.0,\"#f0f921\"]]}],\"surface\":[{\"type\":\"surface\",\"colorbar\":{\"outlinewidth\":0,\"ticks\":\"\"},\"colorscale\":[[0.0,\"#0d0887\"],[0.1111111111111111,\"#46039f\"],[0.2222222222222222,\"#7201a8\"],[0.3333333333333333,\"#9c179e\"],[0.4444444444444444,\"#bd3786\"],[0.5555555555555556,\"#d8576b\"],[0.6666666666666666,\"#ed7953\"],[0.7777777777777778,\"#fb9f3a\"],[0.8888888888888888,\"#fdca26\"],[1.0,\"#f0f921\"]]}],\"mesh3d\":[{\"type\":\"mesh3d\",\"colorbar\":{\"outlinewidth\":0,\"ticks\":\"\"}}],\"scatter\":[{\"fillpattern\":{\"fillmode\":\"overlay\",\"size\":10,\"solidity\":0.2},\"type\":\"scatter\"}],\"parcoords\":[{\"type\":\"parcoords\",\"line\":{\"colorbar\":{\"outlinewidth\":0,\"ticks\":\"\"}}}],\"scatterpolargl\":[{\"type\":\"scatterpolargl\",\"marker\":{\"colorbar\":{\"outlinewidth\":0,\"ticks\":\"\"}}}],\"bar\":[{\"error_x\":{\"color\":\"#2a3f5f\"},\"error_y\":{\"color\":\"#2a3f5f\"},\"marker\":{\"line\":{\"color\":\"#E5ECF6\",\"width\":0.5},\"pattern\":{\"fillmode\":\"overlay\",\"size\":10,\"solidity\":0.2}},\"type\":\"bar\"}],\"scattergeo\":[{\"type\":\"scattergeo\",\"marker\":{\"colorbar\":{\"outlinewidth\":0,\"ticks\":\"\"}}}],\"scatterpolar\":[{\"type\":\"scatterpolar\",\"marker\":{\"colorbar\":{\"outlinewidth\":0,\"ticks\":\"\"}}}],\"histogram\":[{\"marker\":{\"pattern\":{\"fillmode\":\"overlay\",\"size\":10,\"solidity\":0.2}},\"type\":\"histogram\"}],\"scattergl\":[{\"type\":\"scattergl\",\"marker\":{\"colorbar\":{\"outlinewidth\":0,\"ticks\":\"\"}}}],\"scatter3d\":[{\"type\":\"scatter3d\",\"line\":{\"colorbar\":{\"outlinewidth\":0,\"ticks\":\"\"}},\"marker\":{\"colorbar\":{\"outlinewidth\":0,\"ticks\":\"\"}}}],\"scattermapbox\":[{\"type\":\"scattermapbox\",\"marker\":{\"colorbar\":{\"outlinewidth\":0,\"ticks\":\"\"}}}],\"scatterternary\":[{\"type\":\"scatterternary\",\"marker\":{\"colorbar\":{\"outlinewidth\":0,\"ticks\":\"\"}}}],\"scattercarpet\":[{\"type\":\"scattercarpet\",\"marker\":{\"colorbar\":{\"outlinewidth\":0,\"ticks\":\"\"}}}],\"carpet\":[{\"aaxis\":{\"endlinecolor\":\"#2a3f5f\",\"gridcolor\":\"white\",\"linecolor\":\"white\",\"minorgridcolor\":\"white\",\"startlinecolor\":\"#2a3f5f\"},\"baxis\":{\"endlinecolor\":\"#2a3f5f\",\"gridcolor\":\"white\",\"linecolor\":\"white\",\"minorgridcolor\":\"white\",\"startlinecolor\":\"#2a3f5f\"},\"type\":\"carpet\"}],\"table\":[{\"cells\":{\"fill\":{\"color\":\"#EBF0F8\"},\"line\":{\"color\":\"white\"}},\"header\":{\"fill\":{\"color\":\"#C8D4E3\"},\"line\":{\"color\":\"white\"}},\"type\":\"table\"}],\"barpolar\":[{\"marker\":{\"line\":{\"color\":\"#E5ECF6\",\"width\":0.5},\"pattern\":{\"fillmode\":\"overlay\",\"size\":10,\"solidity\":0.2}},\"type\":\"barpolar\"}],\"pie\":[{\"automargin\":true,\"type\":\"pie\"}]},\"layout\":{\"autotypenumbers\":\"strict\",\"colorway\":[\"#636efa\",\"#EF553B\",\"#00cc96\",\"#ab63fa\",\"#FFA15A\",\"#19d3f3\",\"#FF6692\",\"#B6E880\",\"#FF97FF\",\"#FECB52\"],\"font\":{\"color\":\"#2a3f5f\"},\"hovermode\":\"closest\",\"hoverlabel\":{\"align\":\"left\"},\"paper_bgcolor\":\"white\",\"plot_bgcolor\":\"#E5ECF6\",\"polar\":{\"bgcolor\":\"#E5ECF6\",\"angularaxis\":{\"gridcolor\":\"white\",\"linecolor\":\"white\",\"ticks\":\"\"},\"radialaxis\":{\"gridcolor\":\"white\",\"linecolor\":\"white\",\"ticks\":\"\"}},\"ternary\":{\"bgcolor\":\"#E5ECF6\",\"aaxis\":{\"gridcolor\":\"white\",\"linecolor\":\"white\",\"ticks\":\"\"},\"baxis\":{\"gridcolor\":\"white\",\"linecolor\":\"white\",\"ticks\":\"\"},\"caxis\":{\"gridcolor\":\"white\",\"linecolor\":\"white\",\"ticks\":\"\"}},\"coloraxis\":{\"colorbar\":{\"outlinewidth\":0,\"ticks\":\"\"}},\"colorscale\":{\"sequential\":[[0.0,\"#0d0887\"],[0.1111111111111111,\"#46039f\"],[0.2222222222222222,\"#7201a8\"],[0.3333333333333333,\"#9c179e\"],[0.4444444444444444,\"#bd3786\"],[0.5555555555555556,\"#d8576b\"],[0.6666666666666666,\"#ed7953\"],[0.7777777777777778,\"#fb9f3a\"],[0.8888888888888888,\"#fdca26\"],[1.0,\"#f0f921\"]],\"sequentialminus\":[[0.0,\"#0d0887\"],[0.1111111111111111,\"#46039f\"],[0.2222222222222222,\"#7201a8\"],[0.3333333333333333,\"#9c179e\"],[0.4444444444444444,\"#bd3786\"],[0.5555555555555556,\"#d8576b\"],[0.6666666666666666,\"#ed7953\"],[0.7777777777777778,\"#fb9f3a\"],[0.8888888888888888,\"#fdca26\"],[1.0,\"#f0f921\"]],\"diverging\":[[0,\"#8e0152\"],[0.1,\"#c51b7d\"],[0.2,\"#de77ae\"],[0.3,\"#f1b6da\"],[0.4,\"#fde0ef\"],[0.5,\"#f7f7f7\"],[0.6,\"#e6f5d0\"],[0.7,\"#b8e186\"],[0.8,\"#7fbc41\"],[0.9,\"#4d9221\"],[1,\"#276419\"]]},\"xaxis\":{\"gridcolor\":\"white\",\"linecolor\":\"white\",\"ticks\":\"\",\"title\":{\"standoff\":15},\"zerolinecolor\":\"white\",\"automargin\":true,\"zerolinewidth\":2},\"yaxis\":{\"gridcolor\":\"white\",\"linecolor\":\"white\",\"ticks\":\"\",\"title\":{\"standoff\":15},\"zerolinecolor\":\"white\",\"automargin\":true,\"zerolinewidth\":2},\"scene\":{\"xaxis\":{\"backgroundcolor\":\"#E5ECF6\",\"gridcolor\":\"white\",\"linecolor\":\"white\",\"showbackground\":true,\"ticks\":\"\",\"zerolinecolor\":\"white\",\"gridwidth\":2},\"yaxis\":{\"backgroundcolor\":\"#E5ECF6\",\"gridcolor\":\"white\",\"linecolor\":\"white\",\"showbackground\":true,\"ticks\":\"\",\"zerolinecolor\":\"white\",\"gridwidth\":2},\"zaxis\":{\"backgroundcolor\":\"#E5ECF6\",\"gridcolor\":\"white\",\"linecolor\":\"white\",\"showbackground\":true,\"ticks\":\"\",\"zerolinecolor\":\"white\",\"gridwidth\":2}},\"shapedefaults\":{\"line\":{\"color\":\"#2a3f5f\"}},\"annotationdefaults\":{\"arrowcolor\":\"#2a3f5f\",\"arrowhead\":0,\"arrowwidth\":1},\"geo\":{\"bgcolor\":\"white\",\"landcolor\":\"#E5ECF6\",\"subunitcolor\":\"white\",\"showland\":true,\"showlakes\":true,\"lakecolor\":\"white\"},\"title\":{\"x\":0.05},\"mapbox\":{\"style\":\"light\"}}},\"title\":{\"text\":\"Interactive Pie Chart\"}},                        {\"responsive\": true}                    ).then(function(){\n",
              "                            \n",
              "var gd = document.getElementById('6051b8c4-17c1-42f9-8a7d-10d384cb38d4');\n",
              "var x = new MutationObserver(function (mutations, observer) {{\n",
              "        var display = window.getComputedStyle(gd).display;\n",
              "        if (!display || display === 'none') {{\n",
              "            console.log([gd, 'removed!']);\n",
              "            Plotly.purge(gd);\n",
              "            observer.disconnect();\n",
              "        }}\n",
              "}});\n",
              "\n",
              "// Listen for the removal of the full notebook cells\n",
              "var notebookContainer = gd.closest('#notebook-container');\n",
              "if (notebookContainer) {{\n",
              "    x.observe(notebookContainer, {childList: true});\n",
              "}}\n",
              "\n",
              "// Listen for the clearing of the current output cell\n",
              "var outputEl = gd.closest('.output');\n",
              "if (outputEl) {{\n",
              "    x.observe(outputEl, {childList: true});\n",
              "}}\n",
              "\n",
              "                        })                };                });            </script>        </div>"
            ]
          },
          "metadata": {},
          "output_type": "display_data"
        }
      ],
      "execution_count": 3
    },
    {
      "id": "5a8262f1-aedd-4ed4-8da8-881a7ed3ea4e",
      "cell_type": "code",
      "source": "",
      "metadata": {},
      "outputs": [],
      "execution_count": null
    }
  ]
}